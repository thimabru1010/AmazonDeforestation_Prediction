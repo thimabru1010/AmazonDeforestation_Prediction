{
 "cells": [
  {
   "cell_type": "code",
   "execution_count": 4,
   "metadata": {},
   "outputs": [],
   "source": [
    "import torch\n",
    "import torch.nn as nn\n",
    "import torch.optim as optm\n",
    "import os\n",
    "import json\n",
    "from metrics_amazon import CM, f1_score0, f1_score1, Recall, Precision, ACC\n",
    "import numpy as np\n",
    "from preprocess import load_tif_image, extract_temporal_sorted_patches, extract_sorted_patches, divide_pred_windows, preprocess_patches\n",
    "import matplotlib.pyplot as plt\n",
    "\n",
    "import imageio\n",
    "import matplotlib.animation as animation\n",
    "from IPython.display import HTML\n"
   ]
  },
  {
   "cell_type": "code",
   "execution_count": 2,
   "metadata": {},
   "outputs": [
    {
     "name": "stdout",
     "output_type": "stream",
     "text": [
      "(79248, 2, 2, 64, 64)\n",
      "{'pre_seq_length': 4, 'aft_seq_length': 2, 'total_length': 6, 'batch_size': 16, 'val_batch_size': 16, 'epoch': 100, 'lr': 0.0001, 'metrics': ['mse', 'mae'], 'ex_name': 'custom_exp1', 'dataname': 'custom', 'in_shape': [4, 1, 64, 64], 'patience': 10, 'delta': 0.0001, 'amazon_mask': True, 'pixel_size': '1K', 'patch_size': 64, 'overlap': 0.15, 'loss': 'focal', 'aux_metrics': ['f1_score0', 'f1_score1', 'CM'], 'normalize': True}\n"
     ]
    }
   ],
   "source": [
    "experiment = 'custom_exp1'\n",
    "\n",
    "preds = np.load(os.path.join('work_dirs', experiment, 'preds.npy'))\n",
    "print(preds.shape)\n",
    "# preds_reconstructed = np.load(os.path.join('work_dirs', experiment, 'img_reconstructed.npy'))\n",
    "# def_preds_reconstructed = np.load(os.path.join('work_dirs', experiment, 'def_img_reconstructed.npy'))\n",
    "\n",
    "mean_std = np.load(os.path.join('work_dirs', experiment, 'mean_std.npy'))\n",
    "\n",
    "training_config = json.load(open(os.path.join('work_dirs', experiment, 'model_training.json')))\n",
    "print(training_config)"
   ]
  },
  {
   "cell_type": "code",
   "execution_count": 3,
   "metadata": {},
   "outputs": [],
   "source": [
    "# Load Test Image\n",
    "deter_img = load_tif_image('data/DETER/deter_increments_1km_1week.tif')\n",
    "\n",
    "mask = load_tif_image('data/IBAMA_INPE/1K/tiff_filled/mask.tif')\n",
    "mask = mask[:deter_img.shape[1], :deter_img.shape[2]]\n",
    "\n",
    "deter_img[:, mask == 0] = -1\n",
    "deter_img[deter_img > 0] = 1\n",
    "\n",
    "deter_img_train = deter_img[:96]\n",
    "# 2022 = 1 * 48 = 48\n",
    "# deter_img_val = deter_img[96:(96 + 48)]\n",
    "# # 2023 = 1 * 48 = 48\n",
    "# deter_img_test = deter_img[(96 + 48):(96 + 48 + 48)]\n",
    "del deter_img"
   ]
  },
  {
   "cell_type": "code",
   "execution_count": 5,
   "metadata": {},
   "outputs": [
    {
     "name": "stdout",
     "output_type": "stream",
     "text": [
      "(96, 2333, 3005) (2333, 3005)\n"
     ]
    }
   ],
   "source": [
    "print(deter_img_train.shape, mask.shape)"
   ]
  },
  {
   "cell_type": "code",
   "execution_count": 2,
   "metadata": {},
   "outputs": [],
   "source": [
    "def display_video(video):\n",
    "    fig = plt.figure()\n",
    "    ims = []\n",
    "    for i in range(video.shape[0]):\n",
    "        im = plt.imshow(video[i], animated=True)\n",
    "        ims.append([im])\n",
    "    ani = animation.ArtistAnimation(fig, ims, interval=50, blit=True, repeat_delay=1000)\n",
    "    plt.close()\n",
    "    # return HTML(ani.to_jshtml())\n",
    "    return HTML(ani.to_html5_video())"
   ]
  },
  {
   "cell_type": "code",
   "execution_count": 3,
   "metadata": {},
   "outputs": [
    {
     "ename": "NameError",
     "evalue": "name 'deter_img_train' is not defined",
     "output_type": "error",
     "traceback": [
      "\u001b[0;31m---------------------------------------------------------------------------\u001b[0m",
      "\u001b[0;31mNameError\u001b[0m                                 Traceback (most recent call last)",
      "Cell \u001b[0;32mIn[3], line 1\u001b[0m\n\u001b[0;32m----> 1\u001b[0m html_video \u001b[38;5;241m=\u001b[39m display_video(\u001b[43mdeter_img_train\u001b[49m)\n",
      "\u001b[0;31mNameError\u001b[0m: name 'deter_img_train' is not defined"
     ]
    }
   ],
   "source": [
    "html_video = display_video(deter_img_train)"
   ]
  },
  {
   "cell_type": "code",
   "execution_count": 6,
   "metadata": {},
   "outputs": [
    {
     "name": "stdout",
     "output_type": "stream",
     "text": [
      "Extracting patches...\n",
      "(96, 2333, 3005)\n",
      "Train Patches: (1656, 96, 64, 64)\n",
      "Extracting patches...\n",
      "(2333, 3005)\n",
      "Mask Train Patches: (1656, 64, 64)\n"
     ]
    },
    {
     "name": "stderr",
     "output_type": "stream",
     "text": [
      "Dividing in prediction windows:   0%|          | 0/150696 [00:00<?, ?it/s]/home/thiago/python-envs/base/lib/python3.10/site-packages/numpy/core/fromnumeric.py:3504: RuntimeWarning: Mean of empty slice.\n",
      "  return _methods._mean(a, axis=axis, dtype=dtype,\n",
      "/home/thiago/python-envs/base/lib/python3.10/site-packages/numpy/core/_methods.py:129: RuntimeWarning: invalid value encountered in scalar divide\n",
      "  ret = ret.dtype.type(ret / rcount)\n",
      "Dividing in prediction windows: 100%|██████████| 150696/150696 [00:12<00:00, 11842.06it/s]\n"
     ]
    },
    {
     "name": "stdout",
     "output_type": "stream",
     "text": [
      "138129 Skipped Images\n",
      "Training shape: (12567, 6, 64, 64) - (12567, 64, 64)\n"
     ]
    }
   ],
   "source": [
    "patch_size=64\n",
    "overlap=0\n",
    "min_def = 0.0005\n",
    "window_size = 6\n",
    "\n",
    "train_patches = preprocess_patches(deter_img_train, patch_size=patch_size, overlap=overlap)\n",
    "print('Train Patches:', train_patches.shape)\n",
    "del deter_img_train\n",
    "\n",
    "mask_train_patches = preprocess_patches(mask, patch_size=patch_size, overlap=overlap)\n",
    "print('Mask Train Patches:', mask_train_patches.shape)\n",
    "\n",
    "data_files, mask_files, _ = divide_pred_windows(train_patches, min_def=min_def, window_size=window_size,\\\n",
    "    mask_patches=mask_train_patches)\n",
    "print(f'Training shape: {data_files.shape} - {mask_files.shape}')"
   ]
  },
  {
   "cell_type": "code",
   "execution_count": 8,
   "metadata": {},
   "outputs": [
    {
     "name": "stdout",
     "output_type": "stream",
     "text": [
      "Skipped 0 patches\n"
     ]
    }
   ],
   "source": [
    "skip_count = 0\n",
    "def_indexes = []\n",
    "def_means = []\n",
    "for i in range(data_files.shape[0]):\n",
    "    # print(f'Processing {i} of {test_files.shape[0]}')\n",
    "    # test_files[i] = (test_files[i] - mean_std[0])/mean_std[1]\n",
    "    patches = data_files[i]\n",
    "    labels = patches[-2:]\n",
    "    _label = labels[:, mask_files[i] == 1]\n",
    "    _label[_label > 0] = 1\n",
    "    mean = np.mean(_label, axis=(1))\n",
    "    # 1/0\n",
    "    # Deal with Nan\n",
    "    # if np.isnan(mean[0]): mean[0] = 0\n",
    "    # if np.isnan(mean[1]): mean[1] = 0\n",
    "    # if mean[0] < min_def or mean[1] < min_def:\n",
    "    if mean[0] + mean[1] < min_def:\n",
    "        skip_count += 1\n",
    "        # print('here')\n",
    "        continue\n",
    "    # print(mean.shape)\n",
    "    # print(mean[0] + mean[1])\n",
    "    def_indexes.append(i)\n",
    "    def_means.append(mean[0] + mean[1])\n",
    "    # patches_pred = preds[i, 1]\n",
    "    # patches_pred[:, mask_test_files[i] == 0] = -1\n",
    "    # patches[:, mask_test_files[i] == 0] = -1\n",
    "    # print('finished')\n",
    "    # break\n",
    "print(f'Skipped {skip_count} patches')"
   ]
  },
  {
   "cell_type": "code",
   "execution_count": null,
   "metadata": {},
   "outputs": [],
   "source": [
    "# sort def_indexes by def_means\n",
    "def_indexes = np.array(def_indexes)\n",
    "def_means = np.array(def_means)\n",
    "def_indexes = def_indexes[np.argsort(def_means)]\n",
    "print(def_indexes)\n",
    "print(def_means[np.argsort(def_means)])\n",
    "cont = 0"
   ]
  },
  {
   "cell_type": "code",
   "execution_count": 17,
   "metadata": {},
   "outputs": [
    {
     "name": "stdout",
     "output_type": "stream",
     "text": [
      "10670\n",
      "10670\n",
      "(6, 64, 64)\n",
      "0.009033203125 [0.00756836 0.00146484]\n"
     ]
    },
    {
     "data": {
      "image/png": "[encoded data removed]",
      "text/plain": [
       "<Figure size 1500x1000 with 12 Axes>"
      ]
     },
     "metadata": {},
     "output_type": "display_data"
    }
   ],
   "source": [
    "import matplotlib.pyplot as plt\n",
    "from mpl_toolkits.axes_grid1 import make_axes_locatable\n",
    "\n",
    "# Pick a random number from the list\n",
    "# Create an array of integeer indexes\n",
    "indexes = np.arange(data_files.shape[0])\n",
    "index = np.random.choice(indexes)\n",
    "print(index)\n",
    "# cont -= -1\n",
    "# index = def_indexes[cont]\n",
    "\n",
    "print(index)\n",
    "patches = data_files[index]\n",
    "print(patches.shape)\n",
    "\n",
    "labels = patches[-2:]\n",
    "_label = labels[:, mask_files[i] == 1]\n",
    "_label[_label > 0] = 1\n",
    "mean = np.mean(_label, axis=(1))\n",
    "print(np.sum(mean), mean)\n",
    "    \n",
    "# patches_pred[:, mask_test_files[index] == 0] = -1\n",
    "# patches[:, mask_test_files[index] == 0] = -1\n",
    "\n",
    "# patches[patches > 0] = 1\n",
    "# patches[patches < 0] = 0\n",
    "    \n",
    "fig, axs = plt.subplots(1, 6, figsize=(15, 10))\n",
    "\n",
    "# patches_plot = np.concatenate((patches, patches_pred), axis=0)\n",
    "\n",
    "for j in range(6):\n",
    "    im = axs[j].imshow(patches[j])\n",
    "    divider = make_axes_locatable(axs[j])\n",
    "    cax = divider.append_axes(\"right\", size=\"10%\", pad=0.1)\n",
    "    fig.colorbar(im, cax=cax)\n",
    "    # axs[i, j].axis('off')\n",
    "\n",
    "plt.tight_layout()\n",
    "plt.show()"
   ]
  },
  {
   "cell_type": "code",
   "execution_count": null,
   "metadata": {},
   "outputs": [],
   "source": []
  }
 ],
 "metadata": {
  "kernelspec": {
   "display_name": "base",
   "language": "python",
   "name": "python3"
  },
  "language_info": {
   "codemirror_mode": {
    "name": "ipython",
    "version": 3
   },
   "file_extension": ".py",
   "mimetype": "text/x-python",
   "name": "python",
   "nbconvert_exporter": "python",
   "pygments_lexer": "ipython3",
   "version": "3.10.12"
  }
 },
 "nbformat": 4,
 "nbformat_minor": 2
}
