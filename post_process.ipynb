{
 "cells": [
  {
   "cell_type": "code",
   "execution_count": 1,
   "metadata": {},
   "outputs": [
    {
     "name": "stderr",
     "output_type": "stream",
     "text": [
      "/home/thiago/python-envs/base/lib/python3.10/site-packages/tqdm/auto.py:21: TqdmWarning: IProgress not found. Please update jupyter and ipywidgets. See https://ipywidgets.readthedocs.io/en/stable/user_install.html\n",
      "  from .autonotebook import tqdm as notebook_tqdm\n"
     ]
    }
   ],
   "source": [
    "import torch\n",
    "from AmazonDataset import CustomDataset_Test\n",
    "from pathlib import Path\n",
    "import numpy as np\n",
    "from openstl.api import BaseExperiment\n",
    "from openstl.utils import create_parser, default_parser\n",
    "import json\n",
    "import imageio\n",
    "from osgeo import gdal\n",
    "import torch.nn.functional as F\n",
    "import matplotlib.pyplot as plt\n",
    "from matplotlib.animation import FuncAnimation\n",
    "import GiovConfig as giov_config\n",
    "from prep_giov_data import prep4dataset_test\n",
    "from GiovanniDataset import GiovanniDataset\n",
    "from metrics_amazon import f1_score, Precision, Recall, ACC, precision_recall_curve\n",
    "import os"
   ]
  },
  {
   "cell_type": "code",
   "execution_count": 2,
   "metadata": {},
   "outputs": [],
   "source": [
    "work_dirs_path = Path(\n",
    "    '/home/thiago/AmazonDeforestation_Prediction/OpenSTL/work_dirs'\n",
    ")\n",
    "# work_dirs = os.listdir(work_dirs_path)\n",
    "work_dirs = ['custom_exp01_All', 'custom_exp02_Pop', 'custom_exp03_Precip', 'custom_exp04_PastDef', 'custom_exp05_NightL']\n",
    "experiments_data = {'custom_exp01_All': [True, True, True, True], 'custom_exp02_Pop': [False, True, True, True],\\\n",
    "    'custom_exp03_Precip': [True, False, True, True], 'custom_exp04_PastDef': [True, True, False, True],\\\n",
    "    'custom_exp05_NightL': [True, True, True, False]}\n",
    "\n",
    "inputs_shape = [2, 1, 1, 2] "
   ]
  },
  {
   "cell_type": "code",
   "execution_count": 3,
   "metadata": {},
   "outputs": [
    {
     "name": "stdout",
     "output_type": "stream",
     "text": [
      "(2760, 1, 1, 64, 64)\n",
      "DEBUG Probs vs Logits\n",
      "7.8356466 -15.435934\n",
      "True False\n",
      "\n",
      "[[11113063    39951]\n",
      " [  149785     2161]]\n",
      "F1-score: 0.9915 - F1-score No Def: 0.9915 - F1-score Def: 0.0223 - Precision: 0.9867 - Recall: 0.9964 - Accuracy: 0.9832\n"
     ]
    },
    {
     "name": "stderr",
     "output_type": "stream",
     "text": [
      "PrecisionxRecall:  36%|███▌      | 168/466 [00:22<00:39,  7.55it/s]\n"
     ]
    },
    {
     "ename": "KeyboardInterrupt",
     "evalue": "",
     "output_type": "error",
     "traceback": [
      "\u001b[0;31m---------------------------------------------------------------------------\u001b[0m",
      "\u001b[0;31mKeyboardInterrupt\u001b[0m                         Traceback (most recent call last)",
      "\u001b[1;32m/home/thiago/AmazonDeforestation_Prediction/OpenSTL/post_process.ipynb Cell 3\u001b[0m line \u001b[0;36m4\n\u001b[1;32m     <a href='vscode-notebook-cell:/home/thiago/AmazonDeforestation_Prediction/OpenSTL/post_process.ipynb#W2sZmlsZQ%3D%3D?line=39'>40</a>\u001b[0m \u001b[39m# Recall = def_metrics[:, 0]\u001b[39;00m\n\u001b[1;32m     <a href='vscode-notebook-cell:/home/thiago/AmazonDeforestation_Prediction/OpenSTL/post_process.ipynb#W2sZmlsZQ%3D%3D?line=40'>41</a>\u001b[0m \u001b[39m# Precision = def_metrics[:, 1]\u001b[39;00m\n\u001b[1;32m     <a href='vscode-notebook-cell:/home/thiago/AmazonDeforestation_Prediction/OpenSTL/post_process.ipynb#W2sZmlsZQ%3D%3D?line=41'>42</a>\u001b[0m \n\u001b[1;32m     <a href='vscode-notebook-cell:/home/thiago/AmazonDeforestation_Prediction/OpenSTL/post_process.ipynb#W2sZmlsZQ%3D%3D?line=42'>43</a>\u001b[0m \u001b[39m# Calculate precision-recall curve\u001b[39;00m\n\u001b[1;32m     <a href='vscode-notebook-cell:/home/thiago/AmazonDeforestation_Prediction/OpenSTL/post_process.ipynb#W2sZmlsZQ%3D%3D?line=43'>44</a>\u001b[0m \u001b[39m# thresholds = list(np.arange(0, 1.05, 0.05))\u001b[39;00m\n\u001b[1;32m     <a href='vscode-notebook-cell:/home/thiago/AmazonDeforestation_Prediction/OpenSTL/post_process.ipynb#W2sZmlsZQ%3D%3D?line=44'>45</a>\u001b[0m thresholds \u001b[39m=\u001b[39m \u001b[39mlist\u001b[39m(np\u001b[39m.\u001b[39marange(logits\u001b[39m.\u001b[39mmin(), logits\u001b[39m.\u001b[39mmax(), \u001b[39m0.05\u001b[39m))\n\u001b[0;32m---> <a href='vscode-notebook-cell:/home/thiago/AmazonDeforestation_Prediction/OpenSTL/post_process.ipynb#W2sZmlsZQ%3D%3D?line=45'>46</a>\u001b[0m precision, recall, thresholds \u001b[39m=\u001b[39m precision_recall_curve(thresholds, labels\u001b[39m.\u001b[39;49mreshape(\u001b[39m-\u001b[39;49m\u001b[39m1\u001b[39;49m), preds1\u001b[39m.\u001b[39;49mreshape(\u001b[39m-\u001b[39;49m\u001b[39m1\u001b[39;49m))\n\u001b[1;32m     <a href='vscode-notebook-cell:/home/thiago/AmazonDeforestation_Prediction/OpenSTL/post_process.ipynb#W2sZmlsZQ%3D%3D?line=47'>48</a>\u001b[0m \u001b[39m# Calculate F1 score for each threshold\u001b[39;00m\n\u001b[1;32m     <a href='vscode-notebook-cell:/home/thiago/AmazonDeforestation_Prediction/OpenSTL/post_process.ipynb#W2sZmlsZQ%3D%3D?line=48'>49</a>\u001b[0m f1_scores \u001b[39m=\u001b[39m \u001b[39m2\u001b[39m \u001b[39m*\u001b[39m (precision \u001b[39m*\u001b[39m recall) \u001b[39m/\u001b[39m (precision \u001b[39m+\u001b[39m recall \u001b[39m+\u001b[39m \u001b[39m1e-10\u001b[39m)\n",
      "File \u001b[0;32m~/AmazonDeforestation_Prediction/OpenSTL/metrics_amazon.py:126\u001b[0m, in \u001b[0;36mprecision_recall_curve\u001b[0;34m(thresholds, y_true, y_proba)\u001b[0m\n\u001b[1;32m    123\u001b[0m y_pred \u001b[39m=\u001b[39m (y_proba \u001b[39m>\u001b[39m\u001b[39m=\u001b[39m threshold)\u001b[39m.\u001b[39mastype(\u001b[39mint\u001b[39m)\n\u001b[1;32m    124\u001b[0m \u001b[39m# precision = Precision(y_pred, y_true)\u001b[39;00m\n\u001b[1;32m    125\u001b[0m \u001b[39m# recall = Recall(y_pred, y_true)\u001b[39;00m\n\u001b[0;32m--> 126\u001b[0m cm, TP, FP, FN, TN \u001b[39m=\u001b[39m confusion_matrix(y_true, y_pred)\n\u001b[1;32m    127\u001b[0m precision \u001b[39m=\u001b[39m TN\u001b[39m/\u001b[39m(TN\u001b[39m+\u001b[39mFN \u001b[39m+\u001b[39m \u001b[39m1e-10\u001b[39m)\n\u001b[1;32m    128\u001b[0m recall \u001b[39m=\u001b[39m TN\u001b[39m/\u001b[39m(TN\u001b[39m+\u001b[39mFP \u001b[39m+\u001b[39m \u001b[39m1e-10\u001b[39m)\n",
      "File \u001b[0;32m~/AmazonDeforestation_Prediction/OpenSTL/metrics_amazon.py:11\u001b[0m, in \u001b[0;36mconfusion_matrix\u001b[0;34m(true, pred, num_classes)\u001b[0m\n\u001b[1;32m      9\u001b[0m \u001b[39mfor\u001b[39;00m i \u001b[39min\u001b[39;00m \u001b[39mrange\u001b[39m(num_classes):\n\u001b[1;32m     10\u001b[0m     \u001b[39mfor\u001b[39;00m j \u001b[39min\u001b[39;00m \u001b[39mrange\u001b[39m(num_classes):\n\u001b[0;32m---> 11\u001b[0m         confusion_matrix[i, j] \u001b[39m=\u001b[39m np\u001b[39m.\u001b[39;49msum((true \u001b[39m==\u001b[39;49m i) \u001b[39m&\u001b[39;49m (pred \u001b[39m==\u001b[39;49m j))\n\u001b[1;32m     12\u001b[0m TP \u001b[39m=\u001b[39m confusion_matrix[\u001b[39m0\u001b[39m, \u001b[39m0\u001b[39m]\n\u001b[1;32m     13\u001b[0m FP \u001b[39m=\u001b[39m confusion_matrix[\u001b[39m1\u001b[39m, \u001b[39m0\u001b[39m]\n",
      "File \u001b[0;32m~/python-envs/base/lib/python3.10/site-packages/numpy/core/fromnumeric.py:2172\u001b[0m, in \u001b[0;36m_sum_dispatcher\u001b[0;34m(a, axis, dtype, out, keepdims, initial, where)\u001b[0m\n\u001b[1;32m   2102\u001b[0m \u001b[39m    \u001b[39m\u001b[39m\"\"\"\u001b[39;00m\n\u001b[1;32m   2103\u001b[0m \u001b[39m    Clip (limit) the values in an array.\u001b[39;00m\n\u001b[1;32m   2104\u001b[0m \n\u001b[0;32m   (...)\u001b[0m\n\u001b[1;32m   2167\u001b[0m \n\u001b[1;32m   2168\u001b[0m \u001b[39m    \"\"\"\u001b[39;00m\n\u001b[1;32m   2169\u001b[0m     \u001b[39mreturn\u001b[39;00m _wrapfunc(a, \u001b[39m'\u001b[39m\u001b[39mclip\u001b[39m\u001b[39m'\u001b[39m, a_min, a_max, out\u001b[39m=\u001b[39mout, \u001b[39m*\u001b[39m\u001b[39m*\u001b[39mkwargs)\n\u001b[0;32m-> 2172\u001b[0m \u001b[39mdef\u001b[39;00m \u001b[39m_sum_dispatcher\u001b[39m(a, axis\u001b[39m=\u001b[39m\u001b[39mNone\u001b[39;00m, dtype\u001b[39m=\u001b[39m\u001b[39mNone\u001b[39;00m, out\u001b[39m=\u001b[39m\u001b[39mNone\u001b[39;00m, keepdims\u001b[39m=\u001b[39m\u001b[39mNone\u001b[39;00m,\n\u001b[1;32m   2173\u001b[0m                     initial\u001b[39m=\u001b[39m\u001b[39mNone\u001b[39;00m, where\u001b[39m=\u001b[39m\u001b[39mNone\u001b[39;00m):\n\u001b[1;32m   2174\u001b[0m     \u001b[39mreturn\u001b[39;00m (a, out)\n\u001b[1;32m   2177\u001b[0m \u001b[39m@array_function_dispatch\u001b[39m(_sum_dispatcher)\n\u001b[1;32m   2178\u001b[0m \u001b[39mdef\u001b[39;00m \u001b[39msum\u001b[39m(a, axis\u001b[39m=\u001b[39m\u001b[39mNone\u001b[39;00m, dtype\u001b[39m=\u001b[39m\u001b[39mNone\u001b[39;00m, out\u001b[39m=\u001b[39m\u001b[39mNone\u001b[39;00m, keepdims\u001b[39m=\u001b[39mnp\u001b[39m.\u001b[39m_NoValue,\n\u001b[1;32m   2179\u001b[0m         initial\u001b[39m=\u001b[39mnp\u001b[39m.\u001b[39m_NoValue, where\u001b[39m=\u001b[39mnp\u001b[39m.\u001b[39m_NoValue):\n",
      "\u001b[0;31mKeyboardInterrupt\u001b[0m: "
     ]
    }
   ],
   "source": [
    "res = {}\n",
    "for work_dir in work_dirs:\n",
    "    EX_NAME = work_dir\n",
    "    exp_data = experiments_data[EX_NAME]\n",
    "    # root_dir = Path('/home/thiago/AmazonDeforestation_Prediction/OpenSTL/data/Dataset/DETR_Patches')\n",
    "    img_path = Path('/home/thiago/AmazonDeforestation_Prediction/AmazonData/Dataset_Felipe/test.tif')\n",
    "    exp_path = Path(f'/home/thiago/AmazonDeforestation_Prediction/OpenSTL/work_dirs/{EX_NAME}')\n",
    "    \n",
    "    # preds = np.argmax(np.load(exp_path / 'saved' / 'preds.npy'), axis=2)\n",
    "    labels = np.load(exp_path / 'saved' / 'trues.npy')\n",
    "    logits = np.load(exp_path / 'saved' / 'preds.npy')\n",
    "    print(logits.shape)\n",
    "    # preds = F.softmax(torch.Tensor(logits), dim=2).numpy()\n",
    "    # preds = F.sigmoid(torch.Tensor(logits)).numpy()\n",
    "    preds = (logits >= 0.5)\n",
    "    print('DEBUG Probs vs Logits')\n",
    "    print(logits.max(), logits.min())\n",
    "    print(preds.max(), preds.min())\n",
    "    # trues = np.load(exp_path / 'saved' / 'trues.npy')\n",
    "\n",
    "    # preds0 = preds[:, :, 0]\n",
    "    # preds1 = preds[:, :, 1]\n",
    "    # preds1 = preds[:, :, 0]\n",
    "    # preds_argmax = np.argmax(preds, axis=2)\n",
    "    preds0 = logits\n",
    "    preds1 = logits\n",
    "    preds_argmax = preds\n",
    "    # th = 0.55\n",
    "    # preds_argmax = preds1.copy()\n",
    "    # preds_argmax[preds1 >= th] = 1\n",
    "    # preds_argmax[preds1 < th] = 0\n",
    "\n",
    "    f1_0, f1_1 = f1_score(preds_argmax, labels, test_time=True)\n",
    "    prec = Precision(preds_argmax, labels)\n",
    "    recall = Recall(preds_argmax, labels)\n",
    "    acc = ACC(preds_argmax, labels)\n",
    "    f1_scre = 2 * prec * recall / (prec + recall)\n",
    "    print(f'F1-score: {f1_scre:.4f} - F1-score No Def: {f1_0:.4f} - F1-score Def: {f1_1:.4f} - Precision: {prec:.4f} - Recall: {recall:.4f} - Accuracy: {acc:.4f}')\n",
    "\n",
    "    # Recall = def_metrics[:, 0]\n",
    "    # Precision = def_metrics[:, 1]\n",
    "\n",
    "    # Calculate precision-recall curve\n",
    "    # thresholds = list(np.arange(0, 1.05, 0.05))\n",
    "    thresholds = list(np.arange(logits.min(), logits.max(), 0.05))\n",
    "    precision, recall, thresholds = precision_recall_curve(thresholds, labels.reshape(-1), preds1.reshape(-1))\n",
    "\n",
    "    # Calculate F1 score for each threshold\n",
    "    f1_scores = 2 * (precision * recall) / (precision + recall + 1e-10)\n",
    "\n",
    "    # Find the threshold that maximizes the F1 score\n",
    "    opt_idx = np.argmax(f1_scores)\n",
    "    optimal_threshold = thresholds[opt_idx]\n",
    "    opt_f1 = f1_scores[opt_idx]\n",
    "    opt_prec = precision[opt_idx]\n",
    "    opt_recall = recall[opt_idx]\n",
    "    print(f'Optimal Threshold: {optimal_threshold:.4f} - F1-score: {opt_f1:.4f} - Precision: {opt_prec:.4f} - Recall: {opt_recall:.4f}')\n",
    "    res[EX_NAME] = [optimal_threshold, opt_f1]\n",
    "    \n",
    "    # Plot precision-recall curve\n",
    "    # plt.plot(recall, precision, label='Precision-Recall Curve')\n",
    "    # plt.scatter(recall[np.argmax(f1_scores)], precision[np.argmax(f1_scores)], marker='o', color='red', label=f'Optimal Threshold = {optimal_threshold:.2f}')\n",
    "    # plt.xlabel('Recall')\n",
    "    # plt.ylabel('Precision')\n",
    "    # plt.legend()\n",
    "    # plt.show()\n",
    "\n",
    "    preds_argmax = preds1.copy()\n",
    "    preds_argmax[preds1 >= optimal_threshold] = 1\n",
    "    preds_argmax[preds1 < optimal_threshold] = 0\n",
    "\n",
    "    f1_0, f1_1 = f1_score(preds_argmax, labels, test_time=True)\n",
    "    prec = Precision(preds_argmax, labels)\n",
    "    recall = Recall(preds_argmax, labels)\n",
    "    acc = ACC(preds_argmax, labels)\n",
    "    f1_scre = 2 * prec * recall / (prec + recall)\n",
    "    print(f'F1-score: {f1_scre:.4f} - F1-score No Def: {f1_0:.4f} - F1-score Def: {f1_1:.4f} - Precision: {prec:.4f} - Recall: {recall:.4f} - Accuracy: {acc:.4f}')\n",
    "\n",
    "    #TODO: Save metrics in a csv\n",
    "    # print(f\"Optimal Threshold: {optimal_threshold:.2f}\")\n",
    "        \n",
    "    # Plot the histograms side by side\n",
    "    plt.figure(figsize=(5, 5))\n",
    "\n",
    "    # plt.subplot(1, 2, 1)\n",
    "    plt.hist(preds0.reshape(-1), bins=20, range=(logits.min(), logits.max()), edgecolor='black', alpha=0.7)\n",
    "    plt.title('No def Probs')\n",
    "    # plt.xlabel('Value')\n",
    "    # plt.ylabel('Frequency')\n",
    "\n",
    "    # plt.subplot(1, 2, 2)\n",
    "    # plt.hist(preds1.reshape(-1), bins=10, range=(0, 1), edgecolor='black', alpha=0.7)\n",
    "    # plt.title('Def Probs')\n",
    "    # # plt.xlabel('Value')\n",
    "    # # plt.ylabel('Frequency')\n",
    "\n",
    "    plt.tight_layout()\n",
    "    # Save the figure with 300 DPI\n",
    "    plt.savefig(exp_path / 'saved' / 'classes_probs_hist.jpeg', dpi=300)\n",
    "    plt.show()"
   ]
  },
  {
   "cell_type": "code",
   "execution_count": 5,
   "metadata": {},
   "outputs": [
    {
     "data": {
      "text/plain": [
       "{'custom_exp01_All': [0.21406593322776146, 0.03295867344601869],\n",
       " 'custom_exp02_Pop': [1.6290691375732287, 0.07672011361045504],\n",
       " 'custom_exp03_Precip': [0.4958812713624319, 0.04734355035581505],\n",
       " 'custom_exp04_PastDef': [0.46245365142819495, 0.06132122868987577],\n",
       " 'custom_exp05_NightL': [1.3096884727477907, 0.07634609343587749]}"
      ]
     },
     "execution_count": 5,
     "metadata": {},
     "output_type": "execute_result"
    }
   ],
   "source": [
    "res"
   ]
  },
  {
   "cell_type": "code",
   "execution_count": 4,
   "metadata": {},
   "outputs": [
    {
     "data": {
      "image/png": "[encoded data removed]",
      "text/plain": [
       "<Figure size 640x480 with 1 Axes>"
      ]
     },
     "metadata": {},
     "output_type": "display_data"
    }
   ],
   "source": [
    "import matplotlib.pyplot as plt\n",
    "import numpy as np\n",
    "\n",
    "data = {'D': [0.21406593322776146, 0.03295867344601869],\n",
    "        'D - Pop': [1.6290691375732287, 0.07672011361045504],\n",
    "        'D - Precip': [0.4958812713624319, 0.04734355035581505],\n",
    "        'D - PastDef': [0.46245365142819495, 0.06132122868987577],\n",
    "        'D - NightL': [1.3096884727477907, 0.07634609343587749]}\n",
    "\n",
    "labels = list(data.keys())\n",
    "thresholds = [item[0] for item in data.values()]\n",
    "values2 = [item[1] for item in data.values()]\n",
    "\n",
    "bar_width = 0.35\n",
    "index = np.arange(len(labels))\n",
    "\n",
    "fig, ax = plt.subplots()\n",
    "colors = ['#a6cee3', '#1f78b4', '#b2df8a', '#33a02c', '#fb9a99']  # Softer colors\n",
    "bars = ax.bar(index, values2, bar_width, color=colors)\n",
    "\n",
    "ax.set_xlabel('Experiments')\n",
    "ax.set_ylabel('F1-Score')\n",
    "ax.set_title('Optimal F1-Scores of Deforestation class')\n",
    "ax.set_xticks(index)\n",
    "ax.set_xticklabels(labels)\n",
    "\n",
    "# Add threshold values to the legend at the top left\n",
    "legend_labels = [f'Th={threshold:.2f}' for threshold in thresholds]\n",
    "ax.legend(bars, legend_labels)\n",
    "\n",
    "plt.tight_layout()\n",
    "plt.show()\n",
    "fig.savefig('/home/thiago/AmazonDeforestation_Prediction/OpenSTL/feature_comp.jpg', dpi=300, bbox_inches='tight')\n"
   ]
  },
  {
   "cell_type": "code",
   "execution_count": null,
   "metadata": {},
   "outputs": [],
   "source": []
  }
 ],
 "metadata": {
  "kernelspec": {
   "display_name": "base",
   "language": "python",
   "name": "python3"
  },
  "language_info": {
   "codemirror_mode": {
    "name": "ipython",
    "version": 3
   },
   "file_extension": ".py",
   "mimetype": "text/x-python",
   "name": "python",
   "nbconvert_exporter": "python",
   "pygments_lexer": "ipython3",
   "version": "3.10.12"
  }
 },
 "nbformat": 4,
 "nbformat_minor": 2
}
