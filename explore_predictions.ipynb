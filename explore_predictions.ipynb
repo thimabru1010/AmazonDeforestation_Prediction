{
 "cells": [
  {
   "cell_type": "code",
   "execution_count": 1,
   "metadata": {},
   "outputs": [
    {
     "name": "stderr",
     "output_type": "stream",
     "text": [
      "/home/thiago/python-envs/base/lib/python3.10/site-packages/tqdm/auto.py:21: TqdmWarning: IProgress not found. Please update jupyter and ipywidgets. See https://ipywidgets.readthedocs.io/en/stable/user_install.html\n",
      "  from .autonotebook import tqdm as notebook_tqdm\n"
     ]
    }
   ],
   "source": [
    "import torch\n",
    "import torch.nn as nn\n",
    "import torch.optim as optm\n",
    "import os\n",
    "import json\n",
    "from metrics_amazon import CM, f1_score0, f1_score1, Recall, Precision, ACC\n",
    "import numpy as np\n",
    "from preprocess import load_tif_image, extract_temporal_sorted_patches, extract_sorted_patches, divide_pred_windows\n",
    "import matplotlib.pyplot as plt\n",
    "\n",
    "import imageio\n",
    "import matplotlib.animation as animation\n",
    "from IPython.display import HTML\n"
   ]
  },
  {
   "cell_type": "code",
   "execution_count": 2,
   "metadata": {},
   "outputs": [],
   "source": [
    "def display_video(video):\n",
    "    fig, ax = plt.subplots()\n",
    "    ims = []\n",
    "    for i in range(video.shape[0]):\n",
    "        im = ax.imshow(video[i], animated=True)\n",
    "        ims.append([im])\n",
    "    ani = animation.ArtistAnimation(fig, ims, interval=50, blit=True, repeat_delay=1000)\n",
    "    plt.colorbar(im, ax=ax)\n",
    "    plt.close()\n",
    "    ani.save('animation.mp4', writer='ffmpeg')\n",
    "    # return HTML(ani.to_jshtml())\n",
    "    return HTML(ani.to_html5_video())"
   ]
  },
  {
   "cell_type": "code",
   "execution_count": 3,
   "metadata": {},
   "outputs": [
    {
     "name": "stdout",
     "output_type": "stream",
     "text": [
      "(19632, 2, 2, 128, 128)\n",
      "{'pre_seq_length': 4, 'aft_seq_length': 2, 'total_length': 6, 'batch_size': 64, 'val_batch_size': 64, 'epoch': 100, 'lr': 5e-05, 'metrics': ['mse', 'mae'], 'ex_name': 'exp02', 'in_shape': [4, 1, 128, 128], 'patience': 10, 'delta': 0.0001, 'amazon_mask': True, 'pixel_size': '1K', 'patch_size': 128, 'window_size': 6, 'overlap': 0.15, 'loss': 'focal', 'aux_metrics': ['CM'], 'normalize': True, 'scheduler_step_size': 1, 'scheduler_decay_factor': 0.95, 'optmizer': 'sgd', 'sgd_momentum': 0.8, 'focal_gamma': 4.5, 'focal_alpha': 0.05}\n"
     ]
    }
   ],
   "source": [
    "experiment = 'exp02'\n",
    "\n",
    "preds = np.load(os.path.join('work_dirs', experiment, 'preds.npy'))\n",
    "print(preds.shape)\n",
    "# preds_reconstructed = np.load(os.path.join('work_dirs', experiment, 'img_reconstructed.npy'))\n",
    "# def_preds_reconstructed = np.load(os.path.join('work_dirs', experiment, 'def_img_reconstructed.npy'))\n",
    "\n",
    "mean_std = np.load(os.path.join('work_dirs', experiment, 'mean_std.npy'))\n",
    "\n",
    "training_config = json.load(open(os.path.join('work_dirs', experiment, 'model_training.json')))\n",
    "print(training_config)"
   ]
  },
  {
   "cell_type": "code",
   "execution_count": 9,
   "metadata": {},
   "outputs": [],
   "source": [
    "# Load Test Image\n",
    "deter_img = load_tif_image('data/DETER/deter_increments_1km_1week.tif')\n",
    "\n",
    "mask = load_tif_image('data/IBAMA_INPE/1K/tiff_filled/mask.tif')\n",
    "mask = mask[:deter_img.shape[1], :deter_img.shape[2]]\n",
    "\n",
    "# deter_img[:, mask == 0] = -1\n",
    "# deter_img[deter_img > 0] = 1\n",
    "deter_img_test = deter_img[(96 + 48):(96 + 48 + 48)]\n",
    "del deter_img"
   ]
  },
  {
   "cell_type": "code",
   "execution_count": 9,
   "metadata": {},
   "outputs": [
    {
     "name": "stdout",
     "output_type": "stream",
     "text": [
      "(63, 2333, 3005)\n"
     ]
    }
   ],
   "source": [
    "print(deter_img_test.shape)"
   ]
  },
  {
   "cell_type": "code",
   "execution_count": 5,
   "metadata": {},
   "outputs": [],
   "source": [
    "def_preds_reconstructed = np.load('work_dirs/exp02/def_preds_reconstructed.npy')"
   ]
  },
  {
   "cell_type": "code",
   "execution_count": 10,
   "metadata": {},
   "outputs": [
    {
     "name": "stdout",
     "output_type": "stream",
     "text": [
      "(12, 2333, 3005)\n",
      "0\n",
      "1\n",
      "2\n",
      "3\n",
      "4\n",
      "5\n",
      "6\n",
      "7\n",
      "8\n",
      "9\n",
      "10\n",
      "11\n"
     ]
    }
   ],
   "source": [
    "print(def_preds_reconstructed.shape)\n",
    "for i in range(def_preds_reconstructed.shape[0]):\n",
    "    print(i)\n",
    "    def_preds_reconstructed[i][mask == 0] = -1\n",
    "    # display_video(def_preds_reconstructed[i])"
   ]
  },
  {
   "cell_type": "code",
   "execution_count": 14,
   "metadata": {},
   "outputs": [
    {
     "data": {
      "text/html": [
       "<video width=\"640\" height=\"480\" controls autoplay loop>\n",
       "  <source type=\"video/mp4\" src=\"data:video/mp4;base64,AAAAIGZ0eXBNNFYgAAACAE00ViBpc29taXNvMmF2YzEAAAAIZnJlZQAATHJtZGF0AAACrwYF//+r\n",
       "3EXpvebZSLeWLNgg2SPu73gyNjQgLSBjb3JlIDE2MyByMzA2MCA1ZGI2YWE2IC0gSC4yNjQvTVBF\n",
       "Ry00IEFWQyBjb2RlYyAtIENvcHlsZWZ0IDIwMDMtMjAyMSAtIGh0dHA6Ly93d3cudmlkZW9sYW4u\n",
       "b3JnL3gyNjQuaHRtbCAtIG9wdGlvbnM6IGNhYmFjPTEgcmVmPTMgZGVibG9jaz0xOjA6MCBhbmFs\n",
       "eXNlPTB4MzoweDExMyBtZT1oZXggc3VibWU9NyBwc3k9MSBwc3lfcmQ9MS4wMDowLjAwIG1peGVk\n",
       "X3JlZj0xIG1lX3JhbmdlPTE2IGNocm9tYV9tZT0xIHRyZWxsaXM9MSA4eDhkY3Q9MSBjcW09MCBk\n",
       "ZWFkem9uZT0yMSwxMSBmYXN0X3Bza2lwPTEgY2hyb21hX3FwX29mZnNldD0tMiB0aHJlYWRzPTEy\n",
       "IGxvb2thaGVhZF90aHJlYWRzPTIgc2xpY2VkX3RocmVhZHM9MCBucj0wIGRlY2ltYXRlPTEgaW50\n",
       "ZXJsYWNlZD0wIGJsdXJheV9jb21wYXQ9MCBjb25zdHJhaW5lZF9pbnRyYT0wIGJmcmFtZXM9MyBi\n",
       "X3B5cmFtaWQ9MiBiX2FkYXB0PTEgYl9iaWFzPTAgZGlyZWN0PTEgd2VpZ2h0Yj0xIG9wZW5fZ29w\n",
       "PTAgd2VpZ2h0cD0yIGtleWludD0yNTAga2V5aW50X21pbj0yMCBzY2VuZWN1dD00MCBpbnRyYV9y\n",
       "ZWZyZXNoPTAgcmNfbG9va2FoZWFkPTQwIHJjPWNyZiBtYnRyZWU9MSBjcmY9MjMuMCBxY29tcD0w\n",
       "LjYwIHFwbWluPTAgcXBtYXg9NjkgcXBzdGVwPTQgaXBfcmF0aW89MS40MCBhcT0xOjEuMDAAgAAA\n",
       "NaZliIQAO//+906/AptFl2oDklcK9sqkJlm5UmsB8qYAAAMAAAMAAAMAkIRx7muVyT1mgAAAL2AI\n",
       "2Vb75GM7eAAQ3oM22kmm50pQBIrJvx+sDtyLfXucJPW/10jznFfREb8kgLbe8K5ybP2709xyltoM\n",
       "EyiNC0swu5N79i4pmS4sbIxxNf3S9fwVO2XNlfKEvHM55/LFpQFCkI8vpYfja9CuOhAFTHx+N2T1\n",
       "Wwd+y4d7NzCNxh8Xy51HPnAhN52VozM7DWwAw1RCBr2ecdK7HBV8o4+hvfXrXLdgq4auqhMZ5D7U\n",
       "BKuTJAeDij3zHURjUnm+K7+FF++y6lBSkXfqnXo5oEMDpaRpC4XwPBh6sV59BeZnHoNzk0r47Vlf\n",
       "kOz/2NYc+4sHCcLxbyMxytuVjYagO7mKeyK5k0nDe/7Fkh7ECLnSejYHRmRx+TgXtDQVixdkyi//\n",
       "cABYXrK37lA5cb1LzEGhiywyJFrO9fnafs3tUUk6WiR6U/fYhaFN0XjqvAAFR7+NnMGR+7imutoP\n",
       "NI2d/482McZ2nkiUqRS/CDQZQsS6Ncn8oOcUBspyZgSrWrmRZEppdc4yNjpZRyRvpSm9bKWmhOaB\n",
       "XiE/VEq9RrVpvn0AHSbGwV6uEhQqvGbNGJvo1yz3oHPMFi0Zn9eJWyCh6zrot8has4Dq3MZ8HnQg\n",
       "VzEdtfA0ZDWxyl2GdWiXYQ4AmNHbH8PWBNALU9iRX5WlpYfSCgv+AThkWCezfKQxXjUAfVuc/OiE\n",
       "cPdKOwXze37kkc4dKqicEbg8dKjjpSXIIU0meCnBIEbIpQ6PAsCpwIXemZy9ewdySv3b9/dhiv8J\n",
       "KvvNspBBHJvlyahdrGkNn5pJO/kk/L8mEIsD0IncEqwat5G7OxSR5YSL+XFYfTmgSQC1jg8G3NOW\n",
       "HnGCGt0iiF/CAXe5vwC1meG1dOTCLtUtUX+D5dIr/Ap3vbFViMf6G1nzyXJs1J3oZiRIEd+iZb8N\n",
       "xOvosGGRNevfwGIlGY+4bGnrQr4YdAWxmZSYTiucySow+J4evHMPKts2ZN53gd18mEvrKw5C/W1h\n",
       "OpOsj4B/Cr7psP7Jjm/taaD+MXXvIP19ZrDO5Wkj4AHLEQ+PMioH3f2KB/yFWfmN3v9Ll1rafZhS\n",
       "G3p8510iskmbfI1OeaKNUFxKmFiFBGi8vPjhV+ZAeR5sjq9ttHkJw/YapyVRrIhvhKGNeum4PoF9\n",
       "6tPp0VfLDAi5wqeGwsaqwMWQvwLHRiTtTPOJObMgayoj9WmjnukWy2UrRFoTdAbZmpMkpl3Oxbpb\n",
       "KYiatJ5W1jYhlaKz+jntYtFuxIYwvojSPm1N9bub/XLf5G0krAIdaltYnsgSfk6JY7PUJ7C0DnRS\n",
       "YMlIZwRZ0wdJU3QGdz/00PCdMQotCecibSU2N09zVrICIbtBISQqqnR4gLnAfv6cRXl/yTjQ9JEt\n",
       "xAKo8tehLwEtGt2gJfISOUR4zee+bCQEy9yl7R0xQoJWdYRUu2/SzUI6YsOYmdAkr0AAHCRYZFl7\n",
       "OaAjRL42FLFbvG/zMYwro1s1qr0yggR02/9mvyjiV+aL22g1QvS41OWDzGMl/cjbLUIzXW3U1mcb\n",
       "hYuGUK22XgTrbVe2iFM7NH/NyjO3RJdF7TtGcNi3v/UCu426V6u0xu59/A32rLgLiPEnAIAAt1g4\n",
       "lXMlW4eEl1gO9z4y1bDroIJ551pAusLfSoPPfvez6JMzuFJ6/7eu2yYnfZ9C2o7WaGB0adGenz/6\n",
       "mKAPrvh+ICdxCEbgcHL111dGVAU89vetzGM4KRds1JW9nGShVVkRvZ83keR2wT3ysXS10zm7oIbk\n",
       "s4jTyAdx9RUi30sHXxLkpyvEfTQjU/AsUjD/8hnejkLfezHCFVcA1uJ7JAWJfUVQpXj436OhZREA\n",
       "+CK0/Ob0byqTWEEZ29AFppMI4wASHWsvftwyFB6sVqVt5LUZTdLLmdK6g3KwchhnmlGdHc1pgEAV\n",
       "5Pc5Dt/H8C4PGgL0CuvZ63GirfS2vJWNF5azvAcANMJ3+fycegD2fAVAKaHm2tNLwQ9tH4zQK70C\n",
       "/JPjmD0n/Rugr0Z5BbIIlDj8OH4el8zUU9YBqTW26XEkGTTM4aLlArZ6U7LIkTws0f9ixtpDPm6i\n",
       "mrj0oZy0PmP6gGEkw/4IdB5p7as0gLiF5n5BASMltwYYfP0Meu0DJL20tzUm8BwrmVoWi5FJFeet\n",
       "NIxt6HcfYtQcTZ3S9EVA/DTdhuJJvHqrP2XcLe0NxJ1oDV4yerDNU8T5cP7x43XvSKVybB2qSfYX\n",
       "bkbsARDW5T/NOICnHF+R3wzIYISmw51ypEm/f8tvltSf52dv8cgqfs17fb1hZs9Ii9T3JtJUwIWD\n",
       "MkpFH7UqZG9+M/EDHbsnTBxUB10+pNMNCk05kGpOwi+f6ejKhvRh+MQdzLuA3fGFYoh4dlrfVMoK\n",
       "pKB+PAVDuUWbSPCVWnU0aHOVqDnxvFhy3mebM4SARyKWfcUin6DwLcZUIcAaLeTNEkd3EtbyRTES\n",
       "uJMXkpx4pFDYdp/Wyb/JGPSES4pKk9QIDoj7yMzFELxl3nEtOBzZ4uEpC5KIZlEVDzq1KagyeAR+\n",
       "b+GDMPqIiV1gOPXVW5+Zks7CoACTXcjRwv+ZsgGvMR/TJM/bXQ9XlsPQGBkkpAkJNnq/Y1cd8TmK\n",
       "YL4xm8ghaIkK8PjDKkNSiCqajF6RNxQJ54Rd8GYlHX6n/jNrzEoqIr5YemWqhhHsckO8f3NTb8db\n",
       "1teIF+GZBoPn0Qg4dx+LxeJFEbdCvRD1C65SseCj8tKLRkIU2WuMUf92t51Y88iGGaJAz7KcryUG\n",
       "p187J76pHEJJiK6aQWNTR/03rHqqtAZKEFq8M0jgq3qwzFq05B8vdmziHO4hjucbqWK4soNxfw5c\n",
       "znj1DwiuNwcABGgbK+BKFJAEvm6SyOqaKuTMhqpxLjN7Cj/V0RW3yf5TQd0IgI6Qhpj9deC3r7dt\n",
       "86JY57cV4Gjs3PDBB//i/Crm0BQzTfwOqm2wcdeyxssQSXgqnqTLrXwxTrrNcZPP/vJPYpYWNFzw\n",
       "TH2EhI/1fqiKFSP25Z71x12s21YkuVgXbYpxRd2skd+0oEKJLh3QTPrJzLscpi72PZEYdDBGIGuA\n",
       "7TIgfP5T4IOkzskD+0VVybvNBlJgawSFKIaDgcGrs5izDKq6a/c8gy76uywSQNBljNzhsbX9lIaE\n",
       "fjBJ+YBDceCKEeJa5YKRz9gCbrV3t6bL8NJYGPzlj9uc2BUZX5TAwndNDVV0IYPlUqGEWAJTXuZK\n",
       "9kwmGWQC/CnQtKgOR6fTjs6HFvBz7hSkGHXX8OQmML6V69QqTrSAUjozh8wdP++j84+axhJYpsBO\n",
       "qZvRNnXQk/u4Yk35VANTU4NPPu/ucFzW/wqjiAGbpHpya/6hzb03NEEjgqMa5IZa/yuokXKEmxtk\n",
       "OeuYMWs6Z6RTuLJYOwemrAfIHu2/Ck5vTGMl888/f1/6+pLKMCPjWGTMdaRgRoMzBDtPPF7H+GA/\n",
       "PBoMfaPdsqnNOj6kr/eWIm1wEXp4hlBk7SwIdMpnwI+PHj8S+nCiYOklUQcG4orhWMRPOUIkVYx4\n",
       "43dCAnyeP4PNVzsy6Z+kjQaCi3cOMDtEkKqzrZgEeN6j/Q+rL6DtBqwCb9hGMSoCgcJi1OCqMA3S\n",
       "fRAgWsB7UYSwVnwzmdBEZe+PTbuQMn7URpCH/04KPKPAOXh3Rfb13s2YQiFVDgaCa0IznGWnNzbG\n",
       "Un4GYqE+f0E4Y/MesLvC4To99d6m7mXVwqq2UagN3Ae4XmmPsfeoInJadhLC+48SN1Z94iw7og+q\n",
       "238Sii3QIG8BddQqVdhUMIauWW4Ik9LVddJNmC7i4qkaATiXn9NRQcx/oro3hgrpovBnmUQ7B5rr\n",
       "Q83oLdY+oAwbAhP0RBKCO5KZMMbvSBoj3bmk58iBnPOZzQoZ+4s0OsLGQnU5UhYS98fnyarZdr25\n",
       "w/c+dZ+RxkLwpOrUAkMBKjDLLsWCDo3Ng0/dXOdYK5khbUvEYEI1eUVHO2TEgFjjvKxwk6XAKZuc\n",
       "WoiNHxRj1NRE6Gu86uMTz49b7BJcs2OLqmCf/h6c7MrMbltECB+ONgCzZMvLCVzXX7puaOBOh0VS\n",
       "Blz+UyABxTWSp3cljCApO74FwcMYguZjvEpndufhuR7A21IQd/GOoJ27MC7kwAb1FgURS36HvOHi\n",
       "V7SaEqd2YH9Jdn3DbI4Ji8Y3Lz59XUaGQxusycIZ1nv8FUojC1HrJTmWAdfTFpoHMIqqPHspS30j\n",
       "dGSBlag3M/vPccPmbvUKD45aWZzbvSeXJB+4Aq7kXGRsCuZLlJ5J+drEhWNk13z/mzinLMIutZqI\n",
       "D/crcozJ/6J6l/7HWOxfoo1C9RuQ8EabLQ+9dbtM4kGfwFRSEQlyc6/Y6VDOe3hTQscGZJq3Tf+x\n",
       "oNEW9z99QKLg+IgnxT1hgrwBZ50u08OOrYbXcX0nc5hiGRDg9hi2I4ipJ3dZn/ehLNkuE9Ov62dt\n",
       "m07w+ANDU7wbEPn4AQrbYE4jVU0Wj0UcVB+lz0BmzocJyk1ookAs01PNiiZFvNG/SfTcR1FvOAPc\n",
       "jKssIkx3a3S+bmkWLH2EGZCpKmGRGYdVzcdKbK2+sbfDJvvXmX48j6aE1ZrM/N+dV5wpY01KY47t\n",
       "TCOaZ2tJ8enRWGb5sOYbuiix3B2kgM1s+r2rLWyxZpvmEZiD5ZnQVJCFQYsR99D9hqyhbgUvhuZc\n",
       "i+Xl/AYoPrnPctfZsS5HwFk9eK9zB+JyVDI0prSi6KdT76gcjItyOFTn5nE8FKFEUpUGNggfy1uB\n",
       "GI3+GJyHpVMon1trIj22ocgdhWjA3o3YW5A1IVKwjMD4B20RCXjOAZiPkr7SifVbq66YQUnHaFjr\n",
       "AyAmjzcUgLptXJvuwkGFnnuFfQWEDBfeXqDXEBGayc7+jMwW7fUiK6+mfRC9IOsI+THqjd4LKMx+\n",
       "tqujDxcU0kV5kxB4nTYFFwF7HaU4dA4jsHASauXgpAAIpxRZsNTevCDJHIkFPpZlAYx2gN7N+pSC\n",
       "7omoxiqFc+tvMpcin7Iz9wnqigXqvSKBccTohOCz224Ra0xk8XWvNpDsX8H/Qw6KkpAzmsRIBALX\n",
       "l9urNEBPna21eW25zdn+Nb5z3DYUwnMwW2YUMBz9z1Cg3E1LY2U8VYmLwjKqlbgA83KcvM0FuZcb\n",
       "05evwSLM2i2Nt/q3TVxqJTxJ99VQJQpy9FJ2+J4JEgr8mgfzzAQi41lP2r0tylmFIFb6MkSOCkHq\n",
       "sCzTZHKxO5P+5wLifsWfs6koW5CEZ5xY/tbhHVscVbeG5ahLsRaxiTdTzHEdU9XpQsDfdoJfAsdf\n",
       "TcYAvD2d7cUrUX5tPOKc6IQTPFPqqlcTSUbmpIweTKMRmevU6SCnroAJoP4x5brIGWqam0SMHIdH\n",
       "OHb4ev97fUA3LigCKCWsGI0AlsilFikunL19t73HFSCWzVAFuFk+tkq/WcWywpNYZ2tQtSZzCCfJ\n",
       "q5OicBZpwizWsrGLKEUnOC0YRyLkBHFegOk1cqEIv9A4jluQA2Sk1KZRaEXwIE6UdX7v7NLXpF8B\n",
       "LlV0OKwkW9wXkA9m7CueKoqioAH7bJHLLe0vOJqsEsT4xOAZk7J1asiIen2vkuBEwOi3BOAvBFDF\n",
       "mxp6eUrfRQFZGF2ZuL8RSJs79u7scfqpTKKuixkOMlcntBn9gt7bdpCBzhmO00lkctqzqlLzUhgM\n",
       "K7wbVgLO3SXBGfsZm9dYqPzG2FeMoREkAgHTgF00PS6w90/BNqlA2ZQdK6xZ5T4Nt1ulaeTy1GNC\n",
       "4qCkg8VXcbJ+S9EScy553+mJt28cPwhwm1CCHM5WKsu+WgAhszcdj9WYzxihfDqFbYB0F/y27Buj\n",
       "fIeWzAMGGIQ5EebOXJR5JtTNiPjo3ZZimiwmMrKmyUxcIR5G7SRCa6837BnSuN7uZnVT1SnmnSf7\n",
       "EKb7FTxk9nsdWnG8xxpwPtY3qVLA/Hjg6b/6d/KHvw1+D6skFlQCzYjYmZgU7yCQo9YN1ydtP157\n",
       "0iPLTBIgcAxaTG7r9vrQ79fLTwRNFvHylvbxE8TiARQpw4qF506OKUXBqA4DKmpKZrIL/RjFiNxa\n",
       "lIZIgsC/AwYAx55/whu979ndMArUS2TUuO65ebR9wy71+HrZJuM+Sn0PqdyDQZfRvnbphNPsKlnW\n",
       "ceC93eQ/qknp17BaivS8ugXoUPtKvGNUudbNccQk94Vw0qyD9WCea3GOsqRHL4xIttIwve0Nyvfw\n",
       "h5kfnU1REekSt4xsqFu9F5VDewQNPOOnGG/D79Fexcc2NxFJpWopaudhdJRjEqViGI8TtaKMJAKF\n",
       "fGhh1Selo9jsQ3w6BrnZP4g/jw1qzIm2kEqKD6hICuRvODctBBE4uGjrQNuu3hfYLehOaaGEt4hA\n",
       "8cVzuUgyr7zeFl/B990MB93on8JzxjqyHmAyO6ld1OFsB90bt54fEsX/ZrIyDf0C3MtQx3g/tco6\n",
       "2beRcTMujqtJLqT1w1McVvFOhMDDxTf1igfz2K4HHXm3MSR2O5MF6coXKnCL498QHOyB98IAKYeP\n",
       "6ALLdBX0IqFJy2YoWYgaaxIrGxSaDFcGMQ9KzufQYca8rJs2HgGBMJdoqzbh4OlybKpbx2UPQ5XP\n",
       "cEowUFnXY3xbdMQclyj8Y4IqTUl8B4Wn7BYBrZ8E08WKYNixUXqAaZKABpMMgiyzrjAkWEWQ9WhG\n",
       "HO5oLtfbcImAWAVh7KvM3JQUkZ/ynzFa4bAcOmSF0KPt6+Ekyp10Ia/WD6xjQnsdPtaKjs5qp8OH\n",
       "Yiy/Xe5ahSZgn6kT0IEg2spNgFRcZpDlkQ7dHp/IfzKJQZGwdAsbHdvQ9/cfIc+9FwMViawf4o/i\n",
       "L3VZL0IsG3T37or5Nnbf564U7grGVr/d2ryXHHgLR4AfBY1l3aMAhoWe2Y1DEf71E88NxLuz/udx\n",
       "Mypv3wKa78gDMpoxDhU9/ntTaJVJvpuqb/JPpBgPlZxmq2dEtEJyFG7YLIuJR9XQa5zwbaho4ico\n",
       "vpuzlnNq3JG7UVEMrdnjFo1HGMY8mKlFU/7+D+9+UQ+sBUVPDYM9Eok+KB2KqmpnlIVBym8aRVD9\n",
       "AC9aLmcK8pKzB2JRfMMJdfafUKUOkzcfcv/i/iavBjAbbexbU/8PCPqq0D1f0GkVFw0Iz3YV2hCM\n",
       "ySjrMrolI1mewMkkzoD07wAfC6fuw/fYOgzgFz8etiEZAExg6RJSlLJWpzaxOwAdFILEWj615QOo\n",
       "yXtFQ4cfjlzlDxQA2S27Qo26MfJ5KJV0QruAjqVZ9Sp8No5ci+HHqFeNkRwGANk5BZ7wBFkcbv7V\n",
       "SfLl/+zJPeIszPvpLg0u7AMP4XixaS4+WfVFUKoWUAVvc5KxIeuMLXbz+TXUv/xqepUcoAf5ufdr\n",
       "HdTI6O8ulhjquGw6MYAx4xI7kjLdhagNb9bzkoEjbdbBR9qxb0qXqTsqFzwJfyXgRwYwxU87klRE\n",
       "+Cm8K6rV7lD/ETZWwuw/XzgsopNwxYWI232b1vQaPhezbxDEd/OJvFoqit8/0d5xKelZIHRHYakm\n",
       "koK7xOu1mNkH8ds+OaGNMeVZWJbBdNHdY9Fc9ecLajkej8D3x1G7A0fsU2y7zVGZ7VUaP3u4+ZXf\n",
       "IYlUkSvthDJz7EazyzD8y2c0zy+gFJhO0yoKBzYgWtIDT24XlzDkntQc62h7YE8FWeDVXDM8D0G8\n",
       "uQuR/PPygsB+ftbrnre6eKhL95NwAA8dga8eTtkxlNMpLkkmdHRu/F+RIggGo2p0/XzcrCJdw85D\n",
       "QUOlNr7ci44JUOrnIeXwroDHx7wQkPzhlbMT6qvnXNT3STUw4sNqRW5DtctmTTwJ0/vwgnsfoAEk\n",
       "3jMpMUXjaESsl5cCtoUdNf+EbfND9MSfB5VpYCcZs/6H1ICsSslMiMfGuwudWbG/3gtARSU43tYw\n",
       "ptKlk3a/f6xoHu1u5YX6okGDE8Qgt2ZYj5LhMX1UocEAN+4ROGhTcJGuyQeIAtktxZRrqcP/htuk\n",
       "2zSKJKB7lN8ZNUV6sPR7yWG0H9rXhcUaCW2qHYj0ICNPrK5zwW9xQjdfaUSRPbQca6YvayhcfiCW\n",
       "uCuzwj5TxH82L2yV/Obrr9Lkvt8zop19U9kr+qflyS9X/HRtPyahhs4ZJMfxbbv0cIPjBuKrjE2N\n",
       "SZtEEsaIkx6isB3IPEoJzPLJyLAOWzMJ6WWqRIAG9kYDI1/09myfmPUMdS40Lnn+6HYXtOHo0cCp\n",
       "ca/xCXONlL5GKqVAFA5d2gsMojq5alxv6zQmCYOEJgw5PbvWZ5V/2/P1epD6gs50m164Qxze+fph\n",
       "Q+dNdoHa29neuUH1BmimkTY4mMgB9P16hb0Qmgg8mVdlyw3eAQcL3x1egia0rnwOi/erO9lCRmD2\n",
       "7o2jROcufO3AprjeCja48AwOrtSKc27bVuN+3a+oIamE4ZFw9y6HVEXy2US+efarNwzaT7a1LFnv\n",
       "UjhPsDW7GfAQdph1Hmszt6RKvN7aZ1CfhkeU/wcvBhnBM/WN06EMdAtPLE/k7/VH29WXjUzEcpjM\n",
       "Reu5WdOpO+s8AwCSUbB3fGrjupQsTKoBc6WRDRQ5+270/EXDv5qab9AtXn6kPrQGuuKIC/rGzvK2\n",
       "UuG0c/ZTY/ylMEhkd3YDWvzBETqyubQexc7kH2Cg3cGaCfNTcEV2KZxu1OWPPFapjUxcgscroOCd\n",
       "CG3N2wGLrMWhMwdk5v9JHdrfv1ciRPSuCNFmv8PMQWVAYdeTXtGFugZo0gNtN6CO9A6o65ocGO/4\n",
       "73QkRSQwOKRnwxvz3MNCA7McwAaMmgJkBlcM/+6wKd64S388WLlSyXQYtXSr+F4B8qiDMSfeyKk6\n",
       "zPKaUNNRcdB5HXx1cSXMf6J44Fjt+cXmI3aVgLrvr5EydtIfLI09x4T5nNtjoeKGVh+qG3VVRlS0\n",
       "6OdQY0+kOndjuzCqfQl23PlLd5fqnk7m2C2hCiU4ksgxkFhm/5f4tABI40XtRlnwtcgn/DrenI8D\n",
       "zZFKF73NXHr7Ku3iw+58gasvXcUXX2cCumue+KfuJ8neQJkyPCk947ruZk7mLy0ShRcLHxEosU9C\n",
       "FgYdF77VqqjDkvFu+wwkVN+T8mWz3cqqJlCP73VRDjynnQGjlBN33XtSFYtHc0D0VE2I4FApN5VW\n",
       "zBi8tMZh2hYPzdGeZZHgNcChtyzluIhGENAuebQsm5iQhHcgT5A78KtaN2glj5Me8gP//qJ2jgAY\n",
       "J0ZvCd/CJQn/QlunLgz/lKzGlhnWgNIyYKimWwJJyByTxdLxcAvWKKnTg0ayKMEVBcoDzZUiRzYI\n",
       "5lskQfq/Hhe43YUlNpMqmmlYbS6WjvVjtpDfT6Be2FD3MhQOen6rOIYFrZs/hAr+HMkCj74jPhaw\n",
       "mzzdc7M/ya6nIjFgPYV1yNqHQ/JyHKBTnv/ASliclTK9g3mtlLlGgIUtxOZHG8TEsPwZEUkX/dFt\n",
       "OQpGfnFoBzv1SJgGS7iaGpvuVMRhHbA9jycqxrNMnXYKH9r7ZEL63fifYVTHjgBTlvX+7Wsc+lhe\n",
       "mdIi5LtFa8wiXPKJAeIYMtJ4KRfXyFuKT2Z/ElbKkqmczTI6VIOjk3U6XSiZ/kZIl/a/gItvxYF2\n",
       "4o2/qRFuPYSM/fDVGfn+BsMpMZ2Z6/slL+Td5osPKyQ3DrDn8M5VrbOsD/80FkbdQWd3+ZE0bYEq\n",
       "2mR1W5jQHomu0j1k22LWwCbtMv1ZoiCF/hoQivF1Dg5Y7yAvQg4rq4RvUUJXB8UCVayIlZYkQNdu\n",
       "KXgXVuQMkERO2nrySkSlOo9S0tP9nwFydqqFQ8xuYcPaJ2XEzkWsFjh5lhq9x0ov2Aeu0yZYWm1i\n",
       "xCJH2rRhZwfyXhgh70J7Fe6HqQITnJ6rBgp+fNd9z2SxksK9UTejomoUS9HA4Mo4jxoNamaA/fNx\n",
       "UhUDQ9UJVcFu30HFfKq5FjjlHOsoZjI/e+9dRJ18L3tPEXieoQEBJkwiTWrg4NS3JVqN6D0ynJyN\n",
       "9PKAtXYjm6xCkmoFWMEPEMclRELu3cmhc9h96wPA+KAobDAXXGo1EcS/VDg2Jzb1dNhTzjmCXWPT\n",
       "M0g3e6JkS5fCO+l6BkFRpIGXuJWZb/ojUpEO2Z26R0LupcaPw4TktXdRxRUhxO36h+c4A7w4rPWk\n",
       "Xv1Qt8/FUpW5YOefPLL5B1PXgeCwDNYDYlYihisEz8Uac1tZX0v3JsqmzMkeF6+SXOeNpayMBRgd\n",
       "FTlldyt4Imtfb+wdytzHYKOVhH6gnzBr7kKugW1qHb6rnL7Dt6/Nu9NZsmV7h8Ip/aHGmok+3TyP\n",
       "BKTbbuLVSS5xULCi6OSDXgAP4LCjOcKHELfXrcf/gmj/+0monQzgvj9rQII+ZeC0M7u6+XzyCqAK\n",
       "Q/NkNHAAt+E1asutVm8RvVtib/GCIHBuLsP3ISbDqDWH0s+mu5WyD1VfSoXATL34cfThwl/lQoNL\n",
       "2ZugXJ0tmfABmTc3ErKpxpfNTOFVgKV9lrrvkawHoVQGwPpVcV0/ymvnjRTknP9mQ+iH/YEW0VFo\n",
       "EqBVc28+1ZM953mEOzjR2vijn6wTn+Y9R316g7fbCdn9uYFhWRbI0ReZel0LzLDS30H2HImEHJ5y\n",
       "9SraAXzCceVIyM93rs9oKIlMaHYjLF2yUN6jmhwzLgkx3PM9Qfao5sNme2jYKeDxMW9Tmr4X0KqQ\n",
       "KNbdG44p3WQJ+nv/kMnUG7d7aW4u3X4iTxI/Dvwz2cdMgQH8Pbnconjkzus4i2lF7HU2PD9KSNS0\n",
       "UyGSD3lmWTxjTq5/BxtbdwraDMSOEmqxJNdc6E1AQmdc4XtJhtGIWEasJOajOrX60+s+4k4eaVnw\n",
       "pypFze2Q7w+01PHPOz3u94qZvnL2u2/AwJCBkx2we3WfnSItjJhcoWOuvrghN99Gf6Z4JG0dRl0w\n",
       "SDoyER+dJSG+0ZCaEXoShebiiM1DBx/Lj22SguYppLEaYFXafP/KwVhgKgSijj4cwwqCn8AZxvMw\n",
       "7bvU8dUqcFXLQM5X7m3o5woMG4dBbhkoiZ5zTQ7o5vTvb6EBwd7HaBmMuQyk4PE+fgJOKe3dqakd\n",
       "eLUd90xqUYRYTiui8uVpJGD5JCDPa3524o5f5AmszIvbTNUmjtvaqB1U68eyvYDGol037YDF5C69\n",
       "SJT2gzHQnEzqtK/iLA/UOlWPfzGBCye+76DJgbVf2NOja3GTc1sxZ8t2I2I7a4TxB+ga1DaKFeA/\n",
       "WNfsraS4dxiSTqxEdTIrDZF76yjrjvzucwLYAZMxg3DSycHcj3SgT5OeXkP3t7sDw6MsppGOZrcI\n",
       "ghB369vZ7G7VouTuKNDAH5hoDVOYrHfXHfI1D6Hfj+HmuRVN8ktALYyc10qaChzSYf81mPxOQo+v\n",
       "1lYbOgoI/JwhUyRoZD0KEI4mleYyIg9ei3bgYzmJGqg+g6XgNWA758tAMZnv7ahTzfDk3FR2O0pL\n",
       "V9kLWRug54ah9N9kh6uBF0bhckWqC/hCAeeFolETqFfcN7zi9F/+zp+CFIlv/dhuJkel6mIGlQlt\n",
       "cgGGn+26Mw75arjPBirC4wyaO8y9WFxH80qNT+ehwMNZ2OiFIwjx3mHEKbnSHwoN+pLvkMk4jpB/\n",
       "N1HP0PPgQIb1bozGBTOFYBAs9MnpyTdAEJYzwVhH8Gs6Hl91t0XtYNCCIYQkpD4KhljE7SYnZeeu\n",
       "CcurfrbttkNMy08N+8eO44AIhbcb0rKxwxvwYI7nPPHpuCys0urf1b/uxDyPymGI2fqiRxoSIxoE\n",
       "zULoIGOseYePwHtKzH8lHqPT7N6vssv3VSubHo7TcacuoHfUVmp+AQPOqg+v4iFnZpq5i+mMI5yu\n",
       "O5KUMHCtJEtLwWBlkjlEhIoybnQjvlQZjMjWx2oPZPzX/IW/EbO296jzTmUtzHR9ixeDfwJJNGjF\n",
       "ANEI1P00KF4f649ozGE8gfsVjPGCgxOWqXAzLac0SSKLHmAppt3WW1g7OcycWAC3u/i5sCWDblI9\n",
       "HgMYKjjCUO0NuNtA8TAW51w3/3BfzRzvB/QwEiteGTWdvPmFNYLuA7acglBPIdv3kSBl43hdCx8V\n",
       "IhklHuNLFoKdXlckkRq7Uxmmg8k+sVDJSyGjQI8ZsKSNyQ+GHCNUkckpRPNiRXrRgRz1wiO3qzpg\n",
       "uJ044YhPmZ4SGQbsr2zrXq/2f7V8mJseeUGO6ae1Xy9wMu5Gm2VHSDzf9hYKL569U80Ek9v/c3pE\n",
       "5VYvgOphn1okV9/qsqV4yDcArPVucBSVgUyVMQ6y+WNIK8wlLCSIVFZxYqCnrLd7Bw7uKLrROAO/\n",
       "XTw95HqSFzqE2KCEPzbofpwC7NmWcljMvcYDUR0fodBeNFkPVdmUzZrjbjW3PHaQtlkou0EYBlBN\n",
       "V92VuL7Z1lZ+6unY5hFrZJrddjNpyWr7CXeOpVeW7mONMNNtLdnIVkeGGYGTaDndPXbo82KdHt3V\n",
       "sCGy+USDmQzKpZMZPFyBR85WHaRBh2nFwGMCqHsoPTwlpmJ60et6NGUkYaAzx6oCqXbOc7jAphaC\n",
       "KQdmj0e71B3FcpWg42OBJf2U+MPdkoIxaAt5FsWjbOGDBbRr8MRevWD6X7LYA19ZsSwkvBDxzfbk\n",
       "0o37P8x7/qljgHpQXchXJYnxiVZlOWrsKL5JTvhg3Pisv2HkAhmYG35yg71f+xvN2uNEUCrNvfs2\n",
       "l3Nnfsv7HNueN6nfS3kuH1AROTz7dPFofYMb7JMgaIEZnh9bCk7H82dYL4lBt5UvGFMEPbDS6X08\n",
       "nIKi8lNS+9/cnb6Gbwl6W1+qdZSJeM4wqxrsnw6F1W41iRvAxi0ymjMclrOisF9X5k98XlA+4zaE\n",
       "uz8XpA8W/RKe1vL1O9sGfvjcPyOeYhELWOi+6s8HThY4+e1XCRgfds0wIKhSYzYhvQdehjw49OWd\n",
       "UjbmOPqsHnRAEmbD7LpBFJtEW/i0CwVkk3L/Zvsuf3RITFvMPdtaZ13s63FEQhLSm3dXg+qkb2v7\n",
       "7DrRVP13GahQhNwfBtuIn/Smf4w1UfymDfW5Iuf2pQvd+9jzqmkVhnZ4VafoCIYAzy5hHPJx5CpN\n",
       "EziRT8TTiuG8ESeWvh24fPdFesRpnp0W7pCCGBkPgsrEDFjk4BUDZFsAsKyucoJfHHczzl2+v4lF\n",
       "K/73G4gipycXmgH/tgKF7eFTeDy/wOQtwAt+uPiSVYHUApZ5WP7ismhUHaGPUOMEnZx+1ypjePCK\n",
       "MuKX6zdajcYWfmEte04Y6AZa+FTaP57E44N4LBA5oCIARcLHhUSeOSgNzT+B7x375wFUMcBnAsKp\n",
       "xJa7CZT7oFAV5unH0PCWaDf/UoJiWRfOzFJWW0IAgse7st01UAJTLq/b5vl3zq67E4WQOkV+MSwo\n",
       "kFPd018SM8zqjQp2vPG1oe2tx3DMVV71y/H/Au1+l+fBuDrw5rZvp13CXHRKMzOM2BvzkU2fkFwu\n",
       "sNTvyn+ui5qMZRJ7+a1FrhpKtPYoi0kzB3IMXzeWflgffQpGyRj98lMu35S5E3HnHwp59bXfaMNO\n",
       "XX0P8fpk+Q+ttK77MVj+3nUR921C8NQGuWSU0WdNA41xy2s+FrJkLJAlwGwOY3H+IftGRLr8AtBb\n",
       "rE8BNxlxzaSv5sN03hLAmBQT9NadnFE25T6Tfzv/ZavCQpc3kWPMQgHDRVJoFb+HKT7ACWYYxFZs\n",
       "kTE7uahMv6FLoA5jWJw2yGSqthoEO7hCE0Q5Mp9W9br4vkFuiz8J9VjgCEX/+cslm0MdIBRmuexM\n",
       "94XsoGWJza5a3wrBZIRedCpk3CZ3ynS/kUN9GvhRyMRf1sM43wE+ZcZBjC+Q/64VY+vl2P7+Ys1S\n",
       "M73hKAumXFmtlBcdF5WAC43uhKdJAJunwIiPjkvyR9BU7TzArXiR/le4X6PudKAFPW4iK7lZKHVm\n",
       "jHgzH3vhniqGKp+Sa1SUaIP7UEjlemk+PQRVdhIXRetaOIObUs826zIF54+t/F0p+2bZ1tVybzR2\n",
       "l7G+iL4WJIw/V42GswqcfGOMhL2MqvFx6R95ORGra2uTz8DbxU88/ImfHQY+8bhJHjuNFKCQOnzn\n",
       "/s0UjLV6hK//Jfu3/UFpBZH6alcahkR7Dky07lWMNJhMOPE84UyXvE6Ymjj7G0HVFEpgFIgFuVsB\n",
       "zKY6pmg0WlUlI3+kBkO+nSoavg0hNXoADNMd5WanGvab64Wp5wPUVuQ9Gjv6ftnVmTC/owjdf5mT\n",
       "tcGqo49rroN3fhJQgh2vwmiTtAk7vmuD285MWpJ+4tMzPcFYU8CEtJZUbGas3GXmPHaj7A6BWUuU\n",
       "ujrj7atsTECcUknaCa/xer10ITem0UewJSdBF9OZ79PfIDgUCO57Ekb90L/3zfuC5ZFKMhBH+EYO\n",
       "4lCvzORJYmCDGbmMmHR4Ro/SX+8a9yNfDsLP39YiYYB8s0aqAu8Kf5XyG+oq+8TC9sS4+fdJTKzi\n",
       "8/XgxRnFgxFzXdFiGROuSycNzIEVLYkrj5cl6HDJmPAQ5YR6ePrsmEfuyMuRP+tHpiooW2zaybTL\n",
       "E7qyczt68JzlyoBeHsYI+CGn6uI5GutSHd9b//FLXoRQ75Wk7Hj5zjb/rcysTuObRG3y4I4ldPQ0\n",
       "3LaHBjZCPQbKcHvCou0cNnH4+QXwjPPkE1RQKVUguOMouZ4UK9KNlc+b7DaHG/8lzlkH0fA+Wyaq\n",
       "yES5xrdcKLFXOvv/7cbgGpxmlUv//7k4xDULa6EoLGt63Ofds+k+ne1FkfczEYgOxvff7svQdtEh\n",
       "Z65KHD3kYCNolgWaGyZKTK9LlQ+eawBz+SmReWvCHOuYW+rMf04yDC2aQcbwuT1mMS9vc1EYjhce\n",
       "e9AGAMsYWiH0bavMYNFDzKEji8EXQFFWzGTnY1QVotekOlA9OVlXf/JIG8mPPUWRijHKWgELxZmT\n",
       "M2CHtCcJZaJ70YRMS3NG4vsN3xEYS+XPpxLqNc9CS7zk05haycQQjO3bgg9ILzy9+9hvd2BVjqQX\n",
       "OokyTFaXDn6BenGauNxeL/0u3FHBH8s7YMOABwU+oxKkMmTS4WhNSRMoWzwVq9dF11EFsC0MOjjE\n",
       "brZNxk3m7wgPbATP/52cS5tpBRU91hvC/eRY+ccAF9/P7GaicV85l7Xk7FeyTxGuuBC1JA2w6lGL\n",
       "o7R3xFRd6I8bEmaOHQaFJyYSJYSZxPvWZcleX5uXpghWWQyE33+7fwrA5oo8W1QyMfadCL+L/5A8\n",
       "KzMs/UgIyAxBd3hRtKRs5eREKNuHdJQvAocMkPmMdeUI/QJkJ/IZq4DSV0RrR9qwH4vtu6+65+e5\n",
       "IYB9hFeW7n3eulhi/DuJoTF+yGLLSHUE6znHjNupTSSeyJrlcQMFNSk8gST41LmQ33ngN/ObPZYm\n",
       "OAQtnTj0FK8G7X5rM8CzIkOepL/eExGIMls3GmeM+0wN5XE/CSKAcb6BG6lA/q2YVJhoNwlgYN0P\n",
       "bz7vOGmilqDkRaq6HZ7btxgIWPAFG8UO1dGfzCue5yCynBfWhikVCVHljx1mxZFRcN3cdrkUsNLw\n",
       "xY+EZy4WWC5ukmXAXcsLBote10onOzTLCA9xeS5NVfBor2kd9nxq0Weupb8WxIArnQsDRxfSg/K6\n",
       "O/mcUvwRSDP+AJl/zMs5o+m5so2Xh5FrWUy/5j2LK7+ddERSMnyHhuX7d8qoTw9nQsLdWORcabtI\n",
       "whU2VDDXuaMCZoBLdWWHigmPlmMdH91H0hHVlThxnRZ8Jcmg6KxTC2l0UhqkXLB4Vtv+qFyXaGBH\n",
       "cMDJX8GEIx7KX6sHKrWnqKNZRqfZipx25Xxi9ETrKPlW/t34mNEzrmuXMn4JJ/pSbvbb7NIv4A6N\n",
       "jQGEwTRzD8p1kDO9mohd35MwnFxFpjLIBm+30SvuC61Nn/a+EMawUZgvKdvY0NYAsRhRAlRsXCB7\n",
       "mHuWyfjhqks1G4YIrv9pgQBFXZ/owfTyCB1Zb9MBYK6wDABqlK3gAfezdr7F86ft3yPq/mdwnvsV\n",
       "C+OvbWrSLsJHRzSTjSN2op9oVQE6+aOFl9n1IxAlcyUUm8fTknk6cdEWrlXyZgZc8bAJPisg2ZAb\n",
       "isuTn45/gA2He/7mNEFyXcxp73ZYn+ZCa5KS+SR2DbQP3unzA18vtQnRyfLjQD1SmFWrNLmQYauB\n",
       "1xJKKQOsAA6++h+7XGZQtBtzh1qlFzu40au/wluKXHc+xtvyYaJNQXPrLR7rWCxowrsaYZs3tK5Z\n",
       "TGRO09gilXNjtDBsEVpTKa1OcQC6MucFBfjF/ddkTnuFuDN1NLE2y3xTBtnRxa6/5kRCiUgnj/ZV\n",
       "OR4yv1FG55po/fRHnnxYUCy4ElibdUqi7t5JoYj0XcpJz7dXEyLRgpUXoqAWMHB6SRlQpGFW7KLO\n",
       "G7Jh4ojYwL+aq0hXq/svc46MOg3vQFMVfGpIs+s3C3ypn4HihUJt0rvMUCFJU/C0oMrROHAWsVq1\n",
       "n0uIugvV9X42zAoQLjAMpN6XVLwKN6Sn90fIA4bu2cSuEL2lr9eSs2xcOr523or61D8e8NuyIyt+\n",
       "ELFZ9cMH+mq1z6sAku7xuQueCZu4/5fuG3O2xC1ss9v7Jajls96D3N1XNt1dDxgmM0AWwZnHmcnk\n",
       "QIav1jw2PfsM7CSaiY3ZetqPT+K8cUdb0Obks+MaxsNZxpboXEhKTdEAyrr8HcDizuz9AMjrdXqL\n",
       "yDs5tHMLUfdjR6S5FFDQr8mN2CrSB4DG69jzK4QqFyhPLmjgi6/UACgMOEbZyDxyglHlz25zTMhY\n",
       "t5zUu+NS6sxE1gj97HuOH5HDkHWa3jw00mPRNf6J4pysXM/D/6DvLaoWWCl/4vfMegb80c9Q2NfJ\n",
       "Q+Gdx5GeOV7obGHTdwDoGKi99QaOscivvRv8lgCOVFj89blxj4jfgUwk/hZYHHzClGi2L3gMFHmN\n",
       "HRPsl7mwqSZ31eBJfiT1K1ZUXFj1RwfQJ2lFx9C5FrfacONL/7ZZp/AJzkhZLvkpwHyJSlVszu53\n",
       "NUKO7w7Q8xS0p5e6WrE3s8361m1RHyF/cfi9vh0dBcM7kzwqO/qDka0M2wNffqw2kk6cqWBbgFr7\n",
       "T3spuefDpSNZ73TQmixYhnu0/uPP+aJ2aCY0JWEwVC4/w3pPNvbzsUeb+GcHYZ14yshba04mWsQV\n",
       "0p6+QH3GwAb74KGSLSx5vo5pikpTJmIIWJMAQdLPysnqrTaJOHiutE4Bb+RkOk9/cCa7dnXMJTyJ\n",
       "o2R3ZkPWgwwfu5t9jl0uPrKjJOBt7QIzZMPdXtPVQyWqNW8SPwx0z1ENmWXEWxBBHaUs8p5UTQTh\n",
       "XkR0iZm9tKElk5r/KRdOmZGxj81DAboP1PFiBzJCNx6gtDYB2tXW1Vxl1TybuKciyAeCvVjUy7wm\n",
       "t8y+SLWpCprvqy37nxwZ2qnFxbjZ2eMAiT9yu4K0W1cFzNLJbfWKH90OcxJAIWuH3HRvormZG9FD\n",
       "irvW5aMbWE/5I4YIBxIRK14L3seUWInMo6MW+FT3RJMNK9fZcrBnxFQuZ1BNjsG5mk7kxW2Iu0Z2\n",
       "BqCtd4reqzX1esv5QfXbf6Pq9RNdESWYIspraRVn3d/h1y78T0GXxaWrwVoQ20oWK/fMzziqJioN\n",
       "9Lopwtxh+uEcdBji9jwt70/f1pwzAWDAiUvcvH2uzjjz0Bt3hdikXFtAYJev/4hUm5I2XVHHj56W\n",
       "rWlAvE/EbP9WgEIXL/6PArKRXPmdQUlKe4VzYfgfs6OzlVgRpdTIO8nRSxIw1NDafDnof2du8a2+\n",
       "aerkxT6uzD71C7fpMaTCwI6+DnwohEMJ/L510FqxCq/HJYkRtIVtdnqwGZnKp7i0gUC4mcjRmq/j\n",
       "74ar6l9tEsQkxU3/qw4rfOMX7tdZM5i5eTBuvEvOGi7Qp6xjBLzigRl6PMgIob1wtW48SNZJ7ISS\n",
       "fdkG4LM6J6F5KvBBYBuLBHpRWFRTIf3tsqA1xuTE3UG8RQ9UgnPzMb7UM1rqWVbPTovoW/hxsEwv\n",
       "Vm//8p+jAmzTz2pXPcFe7SM9DVDm+Fx2xyet/a8OwHEVQafzyCVqpxZLkdZuVPnAvyN8o2qvcf3Y\n",
       "qHE7ezwfYaCCDEHIFKZJYqqZ3/I2nIBCVuulFkBHnKnF4kjSo/+SRndw6M2mo86VXyB5Q5s27LM1\n",
       "6wyKtyaYLGfZtfkPPg45fPSx35z3kJPIUUf/zDCaegHDcd8iTrYpjnFPJT+jGwFphVb3c/mOlYFi\n",
       "BxrMZHP4IFHL5Oha/5Cht+6Hv/D91Pxgkg5vlxTVjbECcJ+z2EmLTCT94vANHeLJwLAjv35ee+wy\n",
       "y8ICwQXzMlIcByCSoMlTvneBw7ShPsTTN6sdn7qF7M6EJXKTh5zj0irJ+BpL8wfo0gC6G0Atav86\n",
       "0++dtvsGIzGTS2qWw761mjNIObRV4qOkzt/R8MPvtloI9dKy3eR/DkenQWVrG/8fgAAIqAAA9YEA\n",
       "AA/tQZokbEO//qmWAAciWCFnL5uKgBJQe+Vcg8YtruK97AwoNglzy9mkkIZMUt6QnkTzCUgy71Fn\n",
       "MvlK40IKm3w8LU5AEMro+v91AWRRjh2fM+C/iVnjTa/lV4Do7olDAWVtXx4eqEAtnJ4J4SM4swvw\n",
       "DeYlidto9foNH53H445oMteKBzyE17VCWfCwykjNafQzELFTXZkiYhlotaEev/JknkjBfGYzOCJ+\n",
       "YUMmy/W0WiIWQf1SRIEnyP9XmRAApdK1kx1grr3qiPV2uiNOSqu54l1ov3CQhWo2U8X/b/WfGuE5\n",
       "WF/FwHLxIMWN8ets+kQ5BDbQnQZJAM6ED+emr1o3qDaHn7UqtSdvnXtQdZHNWOhTRtc9sdvedj3i\n",
       "ZuMBqqJ8HRkYd0p5SPBJh8fUBZ1AUSTJFpvVKS1W/Bg4UZt5uLvHbtw6UFmA6OCOTjZNdvl6tx0M\n",
       "Cdx61ZgtXnNglxagogdRuETXYF8W5KOtkd3m/J4KhwW/0MwAx8cwe7PchjGmCbL59aaCMt72MciS\n",
       "/nEwXTU8Fjed5QxpMYrlYrYp84pddkJOZa4K6Y1NFEgJtEFnGvsMPIFXEM6pARO/ia7Fop+0kA32\n",
       "dMn90PTmZDTaGc2rLNYkroFPUVafdCWMYE8ESCWnvrf6Yx9DbbbDXovJEcT7joVDGRKLu9UICKdW\n",
       "4oQCdb232iHnhHNZHzlanrG4r+xCTMzeQ0uELpgeX6OZBNw0NZgWPvQEJGBWzW3Bo9Vqku6HWygF\n",
       "n+hd4nXBT7o9Efx4JFKBRjXa8uU/JEFaZr5Tb7NY3Y1lK43JcOWorZ2FdpSmNDEtGjjPHh8TGAEo\n",
       "P6g0L7aM/w47xbqwIQ1VBfXmirB18fYlwOlAF4BdqKaa4rkvDwKFYAOKNOho3+BqXjzFzUgkUKP/\n",
       "Ab3/1c5/b5mpeqZq6X1DltRgyxTIzgRlgA6Keu0HxwVzXPPBabEXjNoktlZTu8sYaN73A4FqBui3\n",
       "FegNrkabFhFlOPpIhxFwLYuOggk+eCBUzOQE/RE3031KpxRO21nZjh0fAh0LCSWkE3ij0jJuE1wb\n",
       "34yarlE70c0Lmyv0oBpkIDeT71vXa71K5Vb8GOYwb28TD012FiZ02nASRRdCkv+kwaQzNqkl0C0q\n",
       "VudMqQq0p5bRDzpzJLqkN4wkgg9p83GdlwOmZt56PMWrUvXaWbcOLlIN0iQH1sbExuzW9t5RFRxZ\n",
       "9H+HnswQZADR+TJ9xqSAKZs5gHJZL6n8w2uS04o8Nux0KUAvApkBFPwFVBdQdXZzvEUaRt/oVzYi\n",
       "wWWIXMvEGH5q8Fpc+kO0SBheBR3LkydgFu/fSE+UaQrr8Z6MWLq0aNPZn7/WyzZZp+zHEnU6M3bY\n",
       "H9bIiTp43V2j1I7A8/SkxKkTiq4zRxYPo1vDI8uugpVVJmxjCw6VbhUzzYSPSCT4lWUHlZgVDeHM\n",
       "Qx2yMaG6E4yzsp9Txw8dYjKARJDP+9UHCwBbtUhexxdcD7jtd7AVB+0AP9aUL7VgD6GtjIS7eGUj\n",
       "qNRp+kDQ4BNZoBasmsWEoTNlLwv3Mg8nDoiPBsPngoALwP1EuTceM9wckVwCp0A7kpcgI1aqE7Il\n",
       "5TCqSc6JydFdnhI0vb5MO+nr9P3vxniJgTdPdQFVPYPGU+QtImejjWfUBTBQJ1/ySXgxxSdIdHYA\n",
       "PTdTF94ZmSb/qBkXDr+lnPVROuLQpaXEUptEtLMOwQEH7dtPM+VIeEkjhYg7JhMsHx86kJ4Fl2WM\n",
       "CaG0avXgg89L6v+jvLgWES+U19+IGXFHltevi83GIZcQmBoVg0FITgSjv3TwipCVaI+/9oGs2ZI3\n",
       "jF+ys2VW9to5wQuFM0rpKyy6ASkMs8aghap2WVfSQc0ucCExuAiZQVvOC90uofSvmahibTwlpEMH\n",
       "VpjxMI35H7K3xGniO+EZ6vNmH4yrLv9OJHXhwqW1Bygb7DENuT3otyb+PbdpWiPSZQseyWFReSmc\n",
       "vrhQrFD6Iin8xRv3hFNjjbqwZXhePn0Jd+jyeVNqYBWzp0YNMjio4/P6Xk3ZTPQIXekpkGGy9UhQ\n",
       "AqG0fn9bo4hhkLJi1JA9ZkQYsmFqGc3qjobxTNPWToo5+z3ersR+L5QSusCq3BQxGaiimJzsipeX\n",
       "jMJw6MyWo455TfP744LW7DMMwhQd7Jg+yz6N4R1222TvHUrTKju7vfWGwpS4nOF0uufSPNZ5uX05\n",
       "U0zShP0udVTb52bgx5+uYG8a3atOUry0IkoFZPwW2EAmXa/zQrh62f8lb97CATf4I+mYtMaVlEaV\n",
       "nFfG2d8yHZTZ1loyNquCr9Ohp7/oeDjNvzAZ3D1B9USzpd88DT0sqQYLmrTy1lebVuSk3P7IRFAV\n",
       "J5oQQcMZhKbHfnlUhv9ZehVl6iE1tO3AovfIm35D/HT/H4K1WHKiy9aJ5gOMc/oTA1EYo+P0vcX1\n",
       "iV5ikjqtD9w0pssSTfemFOmbjZ84fRP2jlJNAxDgGc7+1G1j5okNTOB+i+VSHjEVmNFh2VxFpUE6\n",
       "/G7jWJf7tZdbx6da1mvtb1x/QNkDhQ055ENal/+s0YJL0mNBWtET1pdIsyhgwrs5hnuTku5Y0M27\n",
       "RmafKGeG1YlEPB1d7HQoW/oq4ico6waEQZOo5km9l85BiEI6os3Y88hKu3yUwpseCFNuhjGGZasI\n",
       "PaPwbp/9DEgoMHSEzZe95KwnU2SdIZOR9Q+at7ppuBlX+SWfo8TxylERQ0eAgT2PkIICDfWwaN8J\n",
       "twCtSXKuziYoisSJ5XCdosyGUtPXyeP86aEp0xv1sZ1HsCW22lNTENdLf5tzbqKVHsSbQuTA0Qxd\n",
       "0t/qiz+/dZF5KIwPX/TkkLHK4nDmfa4tgx44UHxsOMJFpOOzWJcmzdMS8pzEPftM4/zFTkAvi5rf\n",
       "7c3nkiE26knXSXkUFm+ij6FaOeRAeQXQbVCU2rE2HfdgJM0lGDpTp/0aF2GF5nwvNqecwMI+yC5G\n",
       "j3jnERfrHtffY4YUBBQM+9YXwJXfjXoUBKIRT87jv18qGRb4HuXHA8xhNFHfhtasSIuSEI/OTe5A\n",
       "gaEJ/mS/lBilQBX8qO3fcLYfKUgiFJKlB6fVynYNvN/vTrxlB9AcmfeAnhmDeS/2RZI3Vi+nsFAO\n",
       "9igzYxbW794tOYa5i+NHS7kjoiRrBEClfulAiJA8sG9tyzdVR+ScasxEe+SwrWRT/ZLoNRn+8qTw\n",
       "u+cu26Awodu+MseeW52c01OslRj0hIxTpcJ1cjaNbuz1afzFyrS7LZy6Rp35s1uKo/M1k0+e2FIt\n",
       "x24DlNNEFlXnIKZ8BKF9Ll2fHfFh76o2Wc3E77Z4bxTQbTiFfH6rFy3I2Gdx+JHSBzqTJe4dWyy1\n",
       "pZL046uqSX2kLP3UTo7yPjQAiAkLSK4LrX4dmlog28f3uy81kad0ZVkKn4EpVV2MeLlSTEzUX+8A\n",
       "2EpR8LsS+bVuVztGcu/eJwCBN3Z5cJZqNce1jHipwTvuTzOjy2z2n9iH83+Z8PVoe11OMmAZxxyt\n",
       "lrsklyY1qPz+ZINRK3sYYiRxvVgswYoFf4UfZsksZHQ8v09JetKlgRHr3a8GC32FOi+Ksb6cFtpn\n",
       "hedmCPB2HwDyNvLSt+lAbUK+Ej5n7xx79628ncWLYWGVhXN1bLZFBjmaC2jmp/2F4PbybqiU6ArY\n",
       "hfa29FiFqANCYoPzTIs95iLLWTW2tduclwc84u7SAytkLswDIRutB3W/OCefljda/dooHuvd1sia\n",
       "v8JBBpSPT0ob3pWxPT3CErg44jL2ZoT5QhdtzUZKH/D/qtn+0UmMD4d8S/G3DVDbb9gDmx7ZrBwh\n",
       "h3A/RN2BgGHHcaAMluY9AusiHZ5nnM7hxuQ10piiQEg4zmyVTCifTij1Uug61I5y9g9Phu6ip1m/\n",
       "AVT+Qq1uc7N5uR14zBYNsaBOHJAdFGKcN2MxCIlFOQoHOwOTBafzZs3t22EcxQ+8uVHMs4M/X/3S\n",
       "Wy250Kri5sLJ8UI6+rD2FpyUZA9/43KK6h2J1pa+wDWdtRKfhp/AF3KD1KzWoowK0RzMRUT/dgRn\n",
       "T1dBgiyVPArvo/WpmrAjHfMty0KHiXeTe97BdZlirZH9lDY7hjWkqoDjB9djcJz3iojz72r96geF\n",
       "6llvMVfZjbWaHRL0Yhhs3JeKvxcoHmHeZJ8A1spS5C8dDfbbIIBYNpEUZAaKp7KJFvW/vG3lkrJh\n",
       "S2VpHXomaLuWZchm0JUHMkLVomFu+7awvfXO6MkmEwVxy9th93fR03ixs1nBoWaxEvE/qjzPqXhr\n",
       "sshqyPyWZQT7GZz6ZBCVl70xDUMIH5vZdkTmH4GGr0lcTup/De8YsYLM2R6nAz4uqiMG3WVf/X9h\n",
       "RUxY0NOWde+0NakLMF1Za+BZws6AVHspx6nJ3pYNUOBsKGWrAKW+uo05KEV+YlH0HvdclafulJ8W\n",
       "jqoCQH61Cuw0rT5TWQA0HM9KplguCQGPWLMmcuxEk9hSoJfxJPDXCykDPBy3fMzfZKF3qXiXItNR\n",
       "Zpehj/ptoYdh7uQ2StGBeGFyEmdhW5m+rNbSDUpeyt9jsp/3FDQp222vSsiX2FJ5/xBYMPoZFs5A\n",
       "KV5oIhzjwJ5tkbqZdzTz2VGjohOEiWvzKAI+Fhnpq+DRKdTGWQOGohz9vL7yjiiyh9YOG3hs56sF\n",
       "k2AglZft2XtqPtPZV/gghLSQo8maOFs7Zv1HvLPe4e1Kle0AIuB4BhybhlMxXmWUbjeiPDCiikEV\n",
       "0CjjFikzYqSbq7tu8OhNQBRqevVCpcHtuY4EVdV7eZ1eG3MtO9pfTfR5eaIXO8ngvCmp/81D+xfm\n",
       "jUbfB4xwv6zSxfUdwbm5NhiFlgr0zIX1f5Akh8Lg67aAlo5jo5yqV/CXv6+njYFah+FkiXD7NYbW\n",
       "r/9hs83bFteVFM90MRy36LF/J8SeK5pzgybkdnSqQL6/UlUrfEn3DzgpQCsm9WiduUAeeoRwPoFG\n",
       "kEo6XH1P8T7CZLt/79gGicG8cfu9wkPmBFtuTl6sf+PZKYYMAyctXw1msYX3/nAoB2Jp37qbBYap\n",
       "0+dPOD698FQlaL+0Gkb+lcEZQ72xXSjA3ZQM8ptqJ1z98BVQzaAowk36pT2d7PaDH6kffIMv7wL+\n",
       "x/sE5QtnT8+0yrVj2iJNRS/trwjvnqf0/55LSb+f3lrAbOkoZs2jufSMKeYerkaWwT6UMH43/gFG\n",
       "NYhLw+GNAQtqbYYzNH9F7UiBO+7t2r3RkyI1RCcaQX+XsyNPPMa6Xy0YSnldi0G9PH/x5cTT/26a\n",
       "tijiCh3iP6KSThFDKf3Lijjq3ute4ccXENT1PWv/EFCqjelvJxcQA7KFqbUGz4L+N7I8dc3DH6qV\n",
       "jocVA8x7B69FeslnMxlzdZh1Qkt/OCVqKEX452YN8KZmKVkNFwj5pUxANIi6c6t8/85eXY3NZvcy\n",
       "3QSJQyPoJNYracWPRGMZOk+1bBWImamz/NUat6xoADUgAAAAUkGeQniGfwABLYqf7Cgzaf+xdSoL\n",
       "kd0Fl1gzFtAAT/LWMphb5dAxeA1K2t0XdbJizP2yijQ3ega6Ek0zKAow5Nl0FuLcx67x/vXshZlt\n",
       "9O2UDekAAAA3AZ5hdEK/AAIq6GirYxJqzpZBvAbKIoOAhAmBhRAFrk1ugqtKLtlwzyV7OVl7T8VN\n",
       "iYrHZ4QFNAAAABoBnmNqQr8AAOgyj1AAaZvJeVUz5SBQR2BwQQAAARFBmmhJqEFomUwIb//+p4QA\n",
       "AEVT9AgOpmULf3FL6gpfMNRjkjSTX4bVFXT6rtEumyR3NBVZfAi+0ZGRizsFcXiEPeLnbNTy7qNz\n",
       "jVmIv+Oup6XWzwUZNkOo5bXk5DJ3xay8kKTRymrwM8nn9LWV/VSVXa5NuE9/wS3wZElaf2qFcz87\n",
       "K3bFRQJaqfOidF0zRPBjzs4qEBeTNlEeO0bjsyJwD71OCZ8RzVNqcEt0QeXZO8LHZttr3h5/03Fr\n",
       "PFkg/E+ADpiZQWL/McDhOZCJH+KP5WA0f9guUUXL1LG3xiPH/+nlPE/6LZ2WdGZ7lUFqXOj9v3EP\n",
       "h3m5mDBbraRtH3dZGcYfZIilguFCsWJKUdfuoIEAAADBQZ6GRREsM/8AAHxYKk+1awC9wQ0ONjTG\n",
       "MHV8uIvpcwkJhejCUBgzuPSP0uxL0h7FuKqs66fwLfmLcYNiIwiyMl3gDlpk+iX54sBPgRb7f7/l\n",
       "grLawql5B9MltR8DPMXl9RiVQjNrY7ACT44gmqGVb6VMZv2RnDp8VHTxFwryiKrmxxL6ikUnCyVU\n",
       "KhGwvY2pKpeDts9hZ5l2oz00gRwHjVASyS42BJZ+1oXAGGWblNpRcdJyrvpyPOOPnBKzWN6ekQAA\n",
       "AFABnqV0Qr8AAOfwKJYBCuiFJpmec7x+z8IBjZ1ANi/xc9Oyi0FNoHBn/Gmkk22VVfISzDUzrlSo\n",
       "ovEpcUIQMYBPKQSpF3KD1r97xxhzqT/ltQAAAEwBnqdqQr8AAOgyqKwFDZmIC3Kb0VGDhb2ABg9z\n",
       "Dan1aoi0QRe7FRmOJnqXvwNoX8t2DzU7fnY1dSmQmNl+48FlMMEOQWghmfyG+GzAAAAAakGaq0mo\n",
       "QWyZTAhX//44QAAAAwDiDgmcOvgI/bRl6touQ6Vl+CesK0ZKvGAAZmdW3T/YmPywZpKjULKVPAKy\n",
       "lPzNtSJo5TxMOFjl8OwrmA9KwGRWM9P5mzGKqpbmH9k1bdaFuDKseQwQCLgAAAA/QZ7JRRUsL/8A\n",
       "AKzkZ3mfVSjrcLwI3hEvw70+AZQqPVUAy6jVCSv//iMAYrAPC0hCmCdAj8VCgmhjX6wmgKCBAAAA\n",
       "OgGe6mpCvwAA6DKorAUNmYgfTPZ6AesGEbjsOpHi14tqebf38ALWs6OjZCckLu0t/hm1602OxPYA\n",
       "b0AAAAO6bW9vdgAAAGxtdmhkAAAAAAAAAAAAAAAAAAAD6AAAAlgAAQAAAQAAAAAAAAAAAAAAAAEA\n",
       "AAAAAAAAAAAAAAAAAAABAAAAAAAAAAAAAAAAAABAAAAAAAAAAAAAAAAAAAAAAAAAAAAAAAAAAAAA\n",
       "AAAAAgAAAuR0cmFrAAAAXHRraGQAAAADAAAAAAAAAAAAAAABAAAAAAAAAlgAAAAAAAAAAAAAAAAA\n",
       "AAAAAAEAAAAAAAAAAAAAAAAAAAABAAAAAAAAAAAAAAAAAABAAAAAAoAAAAHgAAAAAAAkZWR0cwAA\n",
       "ABxlbHN0AAAAAAAAAAEAAAJYAAAEAAABAAAAAAJcbWRpYQAAACBtZGhkAAAAAAAAAAAAAAAAAAAo\n",
       "AAAAGABVxAAAAAAALWhkbHIAAAAAAAAAAHZpZGUAAAAAAAAAAAAAAABWaWRlb0hhbmRsZXIAAAAC\n",
       "B21pbmYAAAAUdm1oZAAAAAEAAAAAAAAAAAAAACRkaW5mAAAAHGRyZWYAAAAAAAAAAQAAAAx1cmwg\n",
       "AAAAAQAAAcdzdGJsAAAAt3N0c2QAAAAAAAAAAQAAAKdhdmMxAAAAAAAAAAEAAAAAAAAAAAAAAAAA\n",
       "AAAAAoAB4ABIAAAASAAAAAAAAAABAAAAAAAAAAAAAAAAAAAAAAAAAAAAAAAAAAAAAAAAAAAAGP//\n",
       "AAAANWF2Y0MBZAAe/+EAGGdkAB6s2UCgPaEAAAMAAQAAAwAoDxYtlgEABmjr48siwP34+AAAAAAc\n",
       "dXVpZGtoQPJfJE/FujmlG88DI/MAAAAAAAAAGHN0dHMAAAAAAAAAAQAAAAwAAAIAAAAAFHN0c3MA\n",
       "AAAAAAAAAQAAAAEAAABoY3R0cwAAAAAAAAALAAAAAQAABAAAAAABAAAKAAAAAAEAAAQAAAAAAQAA\n",
       "AAAAAAABAAACAAAAAAEAAAoAAAAAAQAABAAAAAABAAAAAAAAAAEAAAIAAAAAAQAACAAAAAACAAAC\n",
       "AAAAABxzdHNjAAAAAAAAAAEAAAABAAAADAAAAAEAAABEc3RzegAAAAAAAAAAAAAADAAAOF0AAA/x\n",
       "AAAAVgAAADsAAAAeAAABFQAAAMUAAABUAAAAUAAAAG4AAABDAAAAPgAAABRzdGNvAAAAAAAAAAEA\n",
       "AAAwAAAAYnVkdGEAAABabWV0YQAAAAAAAAAhaGRscgAAAAAAAAAAbWRpcmFwcGwAAAAAAAAAAAAA\n",
       "AAAtaWxzdAAAACWpdG9vAAAAHWRhdGEAAAABAAAAAExhdmY1OC43Ni4xMDA=\n",
       "\">\n",
       "  Your browser does not support the video tag.\n",
       "</video>"
      ],
      "text/plain": [
       "<IPython.core.display.HTML object>"
      ]
     },
     "execution_count": 14,
     "metadata": {},
     "output_type": "execute_result"
    }
   ],
   "source": [
    "def_preds_reconstructed2 = def_preds_reconstructed.copy()\n",
    "def_preds_reconstructed2[def_preds_reconstructed2 > 0.3] = 1\n",
    "display_video(def_preds_reconstructed2)"
   ]
  },
  {
   "cell_type": "code",
   "execution_count": 29,
   "metadata": {},
   "outputs": [],
   "source": [
    "plt.show()\n",
    "# with open('animation.html', 'w') as f:\n",
    "#     f.write(str(html_video))"
   ]
  },
  {
   "cell_type": "code",
   "execution_count": 5,
   "metadata": {},
   "outputs": [
    {
     "name": "stdout",
     "output_type": "stream",
     "text": [
      "(48, 2333, 3005)\n",
      "(2333, 3005)\n"
     ]
    }
   ],
   "source": [
    "print(deter_img_test.shape)\n",
    "print(mask.shape)"
   ]
  },
  {
   "cell_type": "code",
   "execution_count": 6,
   "metadata": {},
   "outputs": [
    {
     "name": "stdout",
     "output_type": "stream",
     "text": [
      "Test Patches: (48, 414, 128, 128)\n",
      "Mask Test Patches: (414, 128, 128)\n"
     ]
    }
   ],
   "source": [
    "test_patches = extract_temporal_sorted_patches(deter_img_test, training_config['patch_size'])\n",
    "print('Test Patches:', test_patches.shape)\n",
    "\n",
    "mask_test_patches = extract_sorted_patches(mask, training_config['patch_size'])\n",
    "print('Mask Test Patches:', mask_test_patches.shape)"
   ]
  },
  {
   "cell_type": "code",
   "execution_count": 7,
   "metadata": {},
   "outputs": [
    {
     "name": "stderr",
     "output_type": "stream",
     "text": [
      "Dividing in prediction windows:   0%|          | 0/19632 [00:00<?, ?it/s]"
     ]
    },
    {
     "name": "stderr",
     "output_type": "stream",
     "text": [
      "/home/thiago/python-envs/base/lib/python3.10/site-packages/numpy/core/fromnumeric.py:3504: RuntimeWarning: Mean of empty slice.\n",
      "  return _methods._mean(a, axis=axis, dtype=dtype,\n",
      "/home/thiago/python-envs/base/lib/python3.10/site-packages/numpy/core/_methods.py:129: RuntimeWarning: invalid value encountered in scalar divide\n",
      "  ret = ret.dtype.type(ret / rcount)\n",
      "Dividing in prediction windows: 100%|██████████| 19632/19632 [00:02<00:00, 8712.29it/s] \n"
     ]
    },
    {
     "name": "stdout",
     "output_type": "stream",
     "text": [
      "0 Skipped Images\n",
      "Test shape: (19632, 6, 128, 128) - (19632, 128, 128)\n"
     ]
    }
   ],
   "source": [
    "test_files, mask_test_files, _ = divide_pred_windows(test_patches, min_def=0, window_size=training_config['total_length'],\\\n",
    "    mask_patches=mask_test_patches)\n",
    "print(f'Test shape: {test_files.shape} - {mask_test_files.shape}')\n",
    "del test_patches, mask_test_patches"
   ]
  },
  {
   "cell_type": "code",
   "execution_count": 18,
   "metadata": {},
   "outputs": [
    {
     "name": "stdout",
     "output_type": "stream",
     "text": [
      "Skipped 79147 patches\n"
     ]
    }
   ],
   "source": [
    "min_def = 0.005\n",
    "skip_count = 0\n",
    "def_indexes = []\n",
    "def_means = []\n",
    "for i in range(test_files.shape[0]):\n",
    "    # print(f'Processing {i} of {test_files.shape[0]}')\n",
    "    # test_files[i] = (test_files[i] - mean_std[0])/mean_std[1]\n",
    "    patches = test_files[i]\n",
    "    labels = patches[-2:]\n",
    "    _label = labels[:, mask_test_files[i] == 1]\n",
    "    _label[_label > 0] = 1\n",
    "    # print(_label.shape)\n",
    "    mean = np.mean(_label, axis=(0, 1))\n",
    "    # 1/0\n",
    "    # Deal with Nan\n",
    "    if np.isnan(mean): mean = 0\n",
    "    # if np.isnan(mean[0]): mean[0] = 0\n",
    "    # if np.isnan(mean[1]): mean[1] = 0\n",
    "    # if mean[0] < min_def or mean[1] < min_def:\n",
    "    if mean < min_def:\n",
    "    # if mean[0] + mean[1] < min_def:\n",
    "        skip_count += 1\n",
    "        # print('here')\n",
    "        continue\n",
    "    # print(mean.shape)\n",
    "    # print(mean[0] + mean[1])\n",
    "    def_indexes.append(i)\n",
    "    def_means.append(mean)\n",
    "    # patches_pred = preds[i, 1]\n",
    "    # patches_pred[:, mask_test_files[i] == 0] = -1\n",
    "    # patches[:, mask_test_files[i] == 0] = -1\n",
    "    # print('finished')\n",
    "    # break\n",
    "print(f'Skipped {skip_count} patches')"
   ]
  },
  {
   "cell_type": "code",
   "execution_count": 19,
   "metadata": {},
   "outputs": [
    {
     "name": "stdout",
     "output_type": "stream",
     "text": [
      "(6, 64, 64)\n",
      "101\n",
      "101\n",
      "[36700, 36701, 36705, 36706, 36714, 36715, 36718, 36719, 36760, 36761, 36762, 36846, 36847, 36895, 36896, 37073, 37074, 37081, 37082, 37120, 37121, 37162, 37163, 37170, 37171, 37176, 37177, 37207, 37208, 37303, 37304, 37404, 37405, 37565, 37566, 37671, 37672, 37673, 37674, 37717, 37718, 38174, 38175, 38266, 38398, 38399, 38408, 38412, 38413, 38455, 38456, 38534, 38535, 38541, 38542, 38543, 38577, 38578, 38579, 38580, 38582, 38583, 38585, 38586, 38587, 38588, 38630, 38631, 38632, 38642, 38643, 38674, 38719, 38720, 38721, 38723, 38724, 38725, 38726, 38767, 38768, 38773, 38774, 38776, 38777, 38778, 38820, 38821, 38822, 38823, 38824, 38975, 38976, 39021, 39022, 39061, 39062, 39413, 39414, 39459, 39460]\n"
     ]
    }
   ],
   "source": [
    "print(patches.shape)\n",
    "# print(patches_pred.shape)\n",
    "print(len(def_indexes))\n",
    "print(len(def_means))\n",
    "print(def_indexes)"
   ]
  },
  {
   "cell_type": "code",
   "execution_count": 25,
   "metadata": {},
   "outputs": [
    {
     "name": "stdout",
     "output_type": "stream",
     "text": [
      "38175\n"
     ]
    },
    {
     "data": {
      "image/png": "[encoded data removed]",
      "text/plain": [
       "<Figure size 1500x1000 with 16 Axes>"
      ]
     },
     "metadata": {},
     "output_type": "display_data"
    }
   ],
   "source": [
    "import matplotlib.pyplot as plt\n",
    "from mpl_toolkits.axes_grid1 import make_axes_locatable\n",
    "\n",
    "# Pick a random number from the list\n",
    "index = np.random.choice(def_indexes)\n",
    "# cont=0\n",
    "# cont -= -1\n",
    "# index = def_indexes[cont]\n",
    "print(index)\n",
    "patches_pred = preds[index, 1]\n",
    "patches = test_files[index]\n",
    "\n",
    "patches_pred[:, mask_test_files[index] == 0] = -1\n",
    "\n",
    "patches[:, mask_test_files[index] == 0] = -1\n",
    "patches[patches > 0] = 1\n",
    "patches[patches < 0] = 0\n",
    "    \n",
    "fig, axs = plt.subplots(2, 4, figsize=(15, 10))\n",
    "\n",
    "patches_plot = np.concatenate((patches, patches_pred), axis=0)\n",
    "for i in range(2):\n",
    "    for j in range(4):\n",
    "        im = axs[i, j].imshow(patches_plot[i*4 + j])\n",
    "        divider = make_axes_locatable(axs[i, j])\n",
    "        cax = divider.append_axes(\"right\", size=\"10%\", pad=0.1)\n",
    "        fig.colorbar(im, cax=cax)\n",
    "        # axs[i, j].axis('off')\n",
    "\n",
    "plt.tight_layout()\n",
    "plt.show()"
   ]
  },
  {
   "cell_type": "code",
   "execution_count": 8,
   "metadata": {},
   "outputs": [],
   "source": [
    "#apply pred mask\n",
    "for i in range(preds.shape[0]):\n",
    "    # preds[i, :, patches_pred[i] == 1] = -1\n",
    "    # patches_pred = preds[i, 1]\n",
    "    # print(preds[i].shape)\n",
    "    preds[i, :, :, mask_test_files[i] == 0] = -1"
   ]
  },
  {
   "cell_type": "code",
   "execution_count": 58,
   "metadata": {},
   "outputs": [
    {
     "name": "stdout",
     "output_type": "stream",
     "text": [
      "(79248, 2, 2, 64, 64)\n"
     ]
    }
   ],
   "source": [
    "print(preds.shape)"
   ]
  },
  {
   "cell_type": "code",
   "execution_count": 9,
   "metadata": {},
   "outputs": [
    {
     "data": {
      "image/png": "[encoded data removed]",
      "text/plain": [
       "<Figure size 640x480 with 1 Axes>"
      ]
     },
     "metadata": {},
     "output_type": "display_data"
    }
   ],
   "source": [
    "# def_preds = preds[:, 1]\n",
    "# def_preds = def_preds[def_preds != -1]\n",
    "test_files2 = test_patches.copy()\n",
    "test_files2[test_files2 > 0] = 1\n",
    "test_files2[test_files2 <= 0] = 0\n",
    "test_files3 = test_files2[test_files2 == 1]\n",
    "# Plot histogram\n",
    "plt.hist(test_files3.reshape(-1), bins=100)\n",
    "plt.show()"
   ]
  },
  {
   "cell_type": "code",
   "execution_count": 9,
   "metadata": {},
   "outputs": [
    {
     "data": {
      "image/png": "[encoded data removed]",
      "text/plain": [
       "<Figure size 640x480 with 1 Axes>"
      ]
     },
     "metadata": {},
     "output_type": "display_data"
    }
   ],
   "source": [
    "def_preds = preds[:, 1]\n",
    "def_preds = def_preds[def_preds != -1]\n",
    "\n",
    "# Plot histogram\n",
    "plt.hist(def_preds, bins=100)\n",
    "plt.show()"
   ]
  },
  {
   "cell_type": "code",
   "execution_count": 10,
   "metadata": {},
   "outputs": [
    {
     "data": {
      "image/png": "[encoded data removed]",
      "text/plain": [
       "<Figure size 640x480 with 1 Axes>"
      ]
     },
     "metadata": {},
     "output_type": "display_data"
    }
   ],
   "source": [
    "no_def_preds = preds[:, 0]\n",
    "no_def_preds = no_def_preds[no_def_preds != -1]\n",
    "\n",
    "# Plot histogram\n",
    "plt.hist(no_def_preds, bins=100)\n",
    "plt.show()"
   ]
  },
  {
   "cell_type": "code",
   "execution_count": null,
   "metadata": {},
   "outputs": [],
   "source": []
  }
 ],
 "metadata": {
  "kernelspec": {
   "display_name": "base",
   "language": "python",
   "name": "python3"
  },
  "language_info": {
   "codemirror_mode": {
    "name": "ipython",
    "version": 3
   },
   "file_extension": ".py",
   "mimetype": "text/x-python",
   "name": "python",
   "nbconvert_exporter": "python",
   "pygments_lexer": "ipython3",
   "version": "3.10.12"
  }
 },
 "nbformat": 4,
 "nbformat_minor": 2
}
