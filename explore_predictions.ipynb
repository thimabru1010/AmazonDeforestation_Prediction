{
 "cells": [
  {
   "cell_type": "code",
   "execution_count": 1,
   "metadata": {},
   "outputs": [
    {
     "name": "stderr",
     "output_type": "stream",
     "text": [
      "/home/thiago/python-envs/base/lib/python3.10/site-packages/tqdm/auto.py:21: TqdmWarning: IProgress not found. Please update jupyter and ipywidgets. See https://ipywidgets.readthedocs.io/en/stable/user_install.html\n",
      "  from .autonotebook import tqdm as notebook_tqdm\n"
     ]
    }
   ],
   "source": [
    "import torch\n",
    "import torch.nn as nn\n",
    "import torch.optim as optm\n",
    "import os\n",
    "import json\n",
    "from metrics_amazon import CM, f1_score0, f1_score1, Recall, Precision, ACC\n",
    "import numpy as np\n",
    "from preprocess import load_tif_image, extract_temporal_sorted_patches, extract_sorted_patches, divide_pred_windows\n",
    "import matplotlib.pyplot as plt\n",
    "\n",
    "import imageio\n",
    "import matplotlib.animation as animation\n",
    "from IPython.display import HTML\n",
    "import cv2\n",
    "\n",
    "from skimage.measure import block_reduce\n"
   ]
  },
  {
   "cell_type": "code",
   "execution_count": 2,
   "metadata": {},
   "outputs": [],
   "source": [
    "def display_video(video, video_ref):\n",
    "    fig, axs = plt.subplots(1, 2)\n",
    "    ims = []\n",
    "    for i in range(video.shape[0]):\n",
    "        im1 = axs[0].imshow(video[i], animated=True)\n",
    "        im2 = axs[1].imshow(video_ref[i], animated=True)\n",
    "        ims.append([im1, im2])\n",
    "    ani = animation.ArtistAnimation(fig, ims, interval=200, blit=True, repeat_delay=1000)\n",
    "    plt.colorbar(im1, ax=axs[0])\n",
    "    plt.colorbar(im2, ax=axs[1])\n",
    "    plt.tight_layout()\n",
    "    plt.close()\n",
    "    ani.save('animation.mp4', writer='ffmpeg')\n",
    "    # return HTML(ani.to_jshtml())\n",
    "    return HTML(ani.to_html5_video())"
   ]
  },
  {
   "cell_type": "code",
   "execution_count": 2,
   "metadata": {},
   "outputs": [
    {
     "name": "stdout",
     "output_type": "stream",
     "text": [
      "(79248, 1, 2, 64, 64)\n",
      "{'pre_seq_length': 4, 'aft_seq_length': 2, 'total_length': 6, 'batch_size': 64, 'val_batch_size': 64, 'epoch': 100, 'lr': 1e-05, 'metrics': ['mse', 'mae'], 'ex_name': 'exp02_2', 'in_shape': [4, 1, 64, 64], 'patience': 10, 'delta': 0.0001, 'amazon_mask': True, 'pixel_size': '1K', 'patch_size': 64, 'window_size': 6, 'overlap': 0.25, 'loss': 'focal', 'aux_metrics': ['CM'], 'normalize': True, 'scheduler_step_size': 1, 'scheduler_decay_factor': 0.95, 'optmizer': 'sgd', 'sgd_momentum': 0.8, 'focal_gamma': 4.7, 'focal_alpha': 0.01}\n"
     ]
    }
   ],
   "source": [
    "experiment = 'exp02_2'\n",
    "\n",
    "preds = np.load(os.path.join('work_dirs', experiment, 'preds.npy'))\n",
    "print(preds.shape)\n",
    "# preds_reconstructed = np.load(os.path.join('work_dirs', experiment, 'img_reconstructed.npy'))\n",
    "# def_preds_reconstructed = np.load(os.path.join('work_dirs', experiment, 'def_img_reconstructed.npy'))\n",
    "\n",
    "mean_std = np.load(os.path.join('work_dirs', experiment, 'mean_std.npy'))\n",
    "\n",
    "training_config = json.load(open(os.path.join('work_dirs', experiment, 'model_training.json')))\n",
    "print(training_config)"
   ]
  },
  {
   "cell_type": "code",
   "execution_count": 3,
   "metadata": {},
   "outputs": [],
   "source": [
    "# Load Test Image\n",
    "deter_img = load_tif_image('data/DETER/deter_increments_1km_1week.tif')\n",
    "\n",
    "mask = load_tif_image('data/IBAMA_INPE/1K/tiff_filled/mask.tif')\n",
    "mask = mask[:deter_img.shape[1], :deter_img.shape[2]]\n",
    "\n",
    "# deter_img[:, mask == 0] = -1\n",
    "# deter_img[deter_img > 0] = 1\n",
    "deter_img_test = deter_img[(96 + 48):(96 + 48 + 48)]\n",
    "del deter_img"
   ]
  },
  {
   "cell_type": "code",
   "execution_count": 4,
   "metadata": {},
   "outputs": [
    {
     "name": "stdout",
     "output_type": "stream",
     "text": [
      "(48, 2333, 3005)\n"
     ]
    }
   ],
   "source": [
    "print(deter_img_test.shape)\n",
    "deter_img_test2 = deter_img_test.copy()"
   ]
  },
  {
   "cell_type": "code",
   "execution_count": 8,
   "metadata": {},
   "outputs": [],
   "source": [
    "# Sum Pooling with pool size of (2, 2)\n",
    "sum_pooled_feature_map = block_reduce(deter_img_test2[0], (2, 2), np.sum)\n",
    "pooled_mask = block_reduce(mask, (2, 2), np.sum)"
   ]
  },
  {
   "cell_type": "code",
   "execution_count": 9,
   "metadata": {},
   "outputs": [
    {
     "name": "stdout",
     "output_type": "stream",
     "text": [
      "(1167, 1503)\n"
     ]
    },
    {
     "data": {
      "image/png": "[encoded data removed]",
      "text/plain": [
       "<Figure size 640x480 with 1 Axes>"
      ]
     },
     "metadata": {},
     "output_type": "display_data"
    }
   ],
   "source": [
    "print(sum_pooled_feature_map.shape)\n",
    "sum_pooled_feature_map[pooled_mask == 0] = -1\n",
    "plt.imshow(sum_pooled_feature_map)\n",
    "plt.show()"
   ]
  },
  {
   "cell_type": "code",
   "execution_count": 25,
   "metadata": {},
   "outputs": [],
   "source": [
    "def_preds_reconstructed = np.load('work_dirs/exp02_2/def_preds_reconstructed.npy')"
   ]
  },
  {
   "cell_type": "code",
   "execution_count": 15,
   "metadata": {},
   "outputs": [
    {
     "name": "stdout",
     "output_type": "stream",
     "text": [
      "(48, 2333, 3005)\n",
      "0\n",
      "1\n",
      "2\n",
      "3\n",
      "4\n",
      "5\n",
      "6\n",
      "7\n",
      "8\n",
      "9\n",
      "10\n",
      "11\n",
      "12\n",
      "13\n",
      "14\n",
      "15\n",
      "16\n",
      "17\n",
      "18\n",
      "19\n",
      "20\n",
      "21\n",
      "22\n",
      "23\n",
      "24\n",
      "25\n",
      "26\n",
      "27\n",
      "28\n",
      "29\n",
      "30\n",
      "31\n",
      "32\n",
      "33\n",
      "34\n",
      "35\n",
      "36\n",
      "37\n",
      "38\n",
      "39\n",
      "40\n",
      "41\n",
      "42\n",
      "43\n",
      "44\n",
      "45\n",
      "46\n",
      "47\n"
     ]
    }
   ],
   "source": [
    "print(def_preds_reconstructed.shape)\n",
    "for i in range(def_preds_reconstructed.shape[0]):\n",
    "    print(i)\n",
    "    def_preds_reconstructed[i][mask == 0] = -1\n",
    "    deter_img_test2[i][mask == 0] = -1\n",
    "    # display_video(def_preds_reconstructed[i])"
   ]
  },
  {
   "cell_type": "code",
   "execution_count": 28,
   "metadata": {},
   "outputs": [
    {
     "data": {
      "text/html": [
       "<video width=\"640\" height=\"480\" controls autoplay loop>\n",
       "  <source type=\"video/mp4\" src=\"data:video/mp4;base64,AAAAIGZ0eXBNNFYgAAACAE00ViBpc29taXNvMmF2YzEAAAAIZnJlZQAAXidtZGF0AAACrgYF//+q\n",
       "3EXpvebZSLeWLNgg2SPu73gyNjQgLSBjb3JlIDE2MyByMzA2MCA1ZGI2YWE2IC0gSC4yNjQvTVBF\n",
       "Ry00IEFWQyBjb2RlYyAtIENvcHlsZWZ0IDIwMDMtMjAyMSAtIGh0dHA6Ly93d3cudmlkZW9sYW4u\n",
       "b3JnL3gyNjQuaHRtbCAtIG9wdGlvbnM6IGNhYmFjPTEgcmVmPTMgZGVibG9jaz0xOjA6MCBhbmFs\n",
       "eXNlPTB4MzoweDExMyBtZT1oZXggc3VibWU9NyBwc3k9MSBwc3lfcmQ9MS4wMDowLjAwIG1peGVk\n",
       "X3JlZj0xIG1lX3JhbmdlPTE2IGNocm9tYV9tZT0xIHRyZWxsaXM9MSA4eDhkY3Q9MSBjcW09MCBk\n",
       "ZWFkem9uZT0yMSwxMSBmYXN0X3Bza2lwPTEgY2hyb21hX3FwX29mZnNldD0tMiB0aHJlYWRzPTEy\n",
       "IGxvb2thaGVhZF90aHJlYWRzPTIgc2xpY2VkX3RocmVhZHM9MCBucj0wIGRlY2ltYXRlPTEgaW50\n",
       "ZXJsYWNlZD0wIGJsdXJheV9jb21wYXQ9MCBjb25zdHJhaW5lZF9pbnRyYT0wIGJmcmFtZXM9MyBi\n",
       "X3B5cmFtaWQ9MiBiX2FkYXB0PTEgYl9iaWFzPTAgZGlyZWN0PTEgd2VpZ2h0Yj0xIG9wZW5fZ29w\n",
       "PTAgd2VpZ2h0cD0yIGtleWludD0yNTAga2V5aW50X21pbj01IHNjZW5lY3V0PTQwIGludHJhX3Jl\n",
       "ZnJlc2g9MCByY19sb29rYWhlYWQ9NDAgcmM9Y3JmIG1idHJlZT0xIGNyZj0yMy4wIHFjb21wPTAu\n",
       "NjAgcXBtaW49MCBxcG1heD02OSBxcHN0ZXA9NCBpcF9yYXRpbz0xLjQwIGFxPTE6MS4wMACAAAA+\n",
       "hGWIhAAU//73x0/Apuj5ZsudRT0hMIrY+kgovVjs0DJ1AAADAAADAAADARQL7RWBeZEBZNrzTqfT\n",
       "OACcgr9LRAjTHw2UI9VQBrwi1Kevb/Mqs9kRLrufRcYzwR3Nx70Vm/Ne3ZSmlsyDeRn8/qpfraKd\n",
       "haEqjt2C5GgZSxLf8+mdvKFLfA1V2+CkiKBHOzwHOVMdO/7wQL+pH13SPFSVSdkiHL/07axaFzDL\n",
       "vyXUvp3+3bxlZBL6CAcJzPyPjyF1Q9x7US/pVtZqnqnMuK51hTY+vDenyfp1Yl3GijKzMkWyyKhq\n",
       "Vcag77SXmjrCbgNv5l+soEA1q/0EcNkiqhUKwvqBZNd3oDwZiP2T9ZWu01keLd62bIVAhUmJbme6\n",
       "j0SGNjSNQHwwKPyJRdzYSZcBL7E4YwZ5bDxOH007K6eH525nrWkI3+CvEk/AAACmBkYF/B/a2cEf\n",
       "5DOW9k2MgRpocN/oMOQQA/plV9flDW2eeTH40wEAWY3FbHDjwjHiTCjwX294Pvc0QT/ge8KK13d6\n",
       "EYwLmeluP6m0dxSaphO6t4uGulEbgCY80EjUiv6AIqj30MImxvzHL/bpxJRf40eDMFnUlRxboD9O\n",
       "m5f0W2ikJqdLPifJV2N+q7MQcmu8M+8T3TGhUSVbkmEF4QinokBiVzKycUWCZLUzlyjH73wDwyzG\n",
       "wK3tauoYbLsB8obtclQlJDxCRsUGY4P/whTwb6IRJEpjLe5E/Wu3xeswjoejbDHnXgryyktcNKRE\n",
       "bX8r+ySQGpQ3I9dT+xSjj66qT/3OfO9piVOqMn9v0RGrXpExHJ5TRwTSGTSyIhNjqPBNIrp0VZ0V\n",
       "yCnSyeoP5f+4LKEOPey0/NjvdoM6e4kg1pPlBPsEi9p7fTY8a4VNPsQLxE38ABfL4Gk6bzGZHAi7\n",
       "SVTM+MyyIAy/7sIPyIxN6wGpirTIf0klsLPwudfkfvOfxkdiqE8dbhw0drrvfgCd7BTCXxzxuflT\n",
       "t3GIffSom/r0VTGePyjj30oY1WXQb78Amz50DSXQl4l8gscI7qSf4lLKj3QysFV3ShFSjguwBUCa\n",
       "6f3SpXumsLDgmSF1mdJPdsYeTryjdMgh5U5j/ukmHXCQaNGFCaWAxCX5UjJNHwO6oX9R76sbvbrb\n",
       "4Pge+A5BbIouXQNesGRTVHLPuTPg6rLI5JyCf4GklguIcJq/61tlqMZDFwlp70/8rKPPzDODL5f0\n",
       "vs+hZLn8bkBRQaoavN7y0Ee3TsBxkJArMZKvWnsAqpJbRBB6/+ocZN9Qlr/pMufOun8P2Q6lQEqn\n",
       "5Gie1M6ZB0F+yNvrzjlGuiqU+ueRFr51VkEpvTuJfPb+VYCWHl7krJYtaERg63G9nbWst1pxQhA2\n",
       "8SxWGLQyoJfPXP257sHMEH7zRvZwRUc3FycfVYHgg8WFUHI2EBBfvLHrrNklPqaxi7OwGgA16b1H\n",
       "QQFt77HIhU88QSXPea6tGKcy6TEMF6a4pYwWRAMKY9NDf0IHVlyNCbnLKB0lZJTyFmorJF2iMwEy\n",
       "PqjSOFJhvPfmp6xiO/ZakKbHDqj7FDd1PgNGW67R95IwagALogq6Bt7FyrYVr+R6b+bIvoTrJygh\n",
       "nxp6NwbVmw1wANJxxquuEkg68B2r0fNJuDhN2m8j4k3hBagp0Xi6MUVHYyqpKiZgfE23blc8M+AS\n",
       "NERIxizZcJD4uWJTuABfBBD/l2jxYN/sl6Wz7mN9ImseAvv9KVCLXJVOX+MZ/QpT2eCR0Gszob/V\n",
       "af1aMBBrOYTlx2HKmwVpoOPPYQyLhSVwvC5xMtxpRk10F5eyVdoAQTOno9XkN/csRSKWY2wbj6Ph\n",
       "mDYPdl6oQRAXm6c/73pCiVhKy/ahs7JClL4tLF8XmOSvYH/qhPAjrxQYIgdNXAxf//KjfKaCR4Eo\n",
       "TXI6BB66kUgTDFgwzEPrZZUqdXYeKfyBSyreApilI4KK9vOryy66+ck3f6j8bl6e0CpS3pV/XsxG\n",
       "+gD9ByHDgsxWMVi5trMZhd7yPiRRN1oGes2GK9ejn0JtXGwHBS0U04tGEtsG2Pf1RFDb7gh5gO0k\n",
       "04sbIHntW7Iuv0QbSaNlHaOzFeLcn1qUSRHyVGpdNvwENCQ5CN00qdDQD9h5OWKa+yPrNNPE6qcJ\n",
       "TsIma1qx8D41plDNSbT+xcwqgcZ4qI2nXbKaS8TUdq225ntYqBdX7gg/t2xi3bXSt2kANqW9/icv\n",
       "NM1O0cY7VYXHKwRvBP/s7Y2lXTP6vFsj7SGZFcCUHKKFh4xNcfLUnHDvMgjF2tXTTX3Nf2L+OOyD\n",
       "DKZkoWfRO4cWuw33a/2Qdfe3qXRpMrUtiy5wu0bMdjwTqDLHDNCj8no8/u9gh0mbm6APEQ+qQbQ4\n",
       "ogmWx44cxkaRwt1nIHvpuu6mAQ3a65Bt3Qcuy6NCMsVVIT+1outChezpLyVT9cw2U4KbRNnN8XDI\n",
       "7hkW38+9D6yd8lnTFeKdPPI9B3h3knb6BJv0x49HlLrw46rEVQ19Ov9Mazm0kF7//uXTD/a5KSSB\n",
       "u/qaA1mSDwkCpXCnidZCOtjaUyhE56X3OoTt/llyx9v1h5foKKRQYr4BI7C2oynueDtmYH1FiBXM\n",
       "U28yJpnMWpKob22boY+akGI5UoGe1vX+YngGyv9KNJ9y/MMQ8v0MCu+PHws+cV4kEq9DCChcRRqA\n",
       "mvLabYcGVHFvnYM7bXvs2i9CpQnnHcE6rTKcFU5fl4nkJqdqA5iTVkflA0BTVC8ZzlNzzVaXfKOJ\n",
       "WyCBrVz9dAMS0PtegOc1WMRSf6C2YScgn2AxeWy+F63LyL9SnvBUntj0O46jx7spF3LiYPiintEL\n",
       "Rf6BMRTlnU6CKfckx5Wh12nNVtO4OQaWwsa4EqmLByV84mX7ah9YAWthMUPMmdcPkmF63q5wsW2E\n",
       "uz1wRp/CDxR/Esp6P7W2WflYGU601rBIWnzoFN5EjS02Hbes+vCr5WqsBWZiuq8uUlHyjRzNuf/d\n",
       "s6xfQn5RsLnb5rocChl3orVrdIewWPLVX848FqGrbNmV/MCu9Kr7BXf+iwwBTCDoMp9cvy3rFVHx\n",
       "ZFGUPD6JyaufdnfUMDEw0wyApcdbWfAhjrIUsfIwAunKXu7gyqUgC2LZFPqlu2if0cUitRB+6EWR\n",
       "2wK7jkePfvfef/2iF4WER5G5SfFBfZ4IAe+OlE5/JpawhUylQWZdQu5PHzK8DTRb+EElu8oTxgog\n",
       "kk+y15EvA9DPT4s43J4n0w+Bsn4I171UNLUn/qtf0qqx3lLyLGOWlvu4rcmmy/+jhclXZ1BqW5X8\n",
       "+gEWZyj0TNix/xoxjgwnSPTyif/6rNChYXZwkBoegGUNayMOvbsStl9dg4nXgI+tmYSS3mQysyAD\n",
       "NdQfqPPBSDiyzraoFTiQvySyD6FLEidyojA/H/gPkISfL5R6SlJNoci4vZCU6w6uhEOi5z+8m7YO\n",
       "+bLUnezjybHTZHuDuicnKcvUFPRi2uHEO8tus00AdO23djuIt5ofK/NuHIzrvwwHRprsoYNXzJdD\n",
       "1Lpa+vXlUNESnLArHBkdgv8zvOxPfrXklfjE9mCP1BQCN67jv3VcQaL33XxTr8d2vGQSNdrKI6dE\n",
       "yCfg8uwteFVhmIY8BAqpMgdXrv76AnTOpLRc3XDEoITiOjfZ4k2ppQuNe3GQP683zWzANINRcDbZ\n",
       "/EiNYw/46l1B0UAHgfx8/QvOew0h4n3ykUd+XQDe0Yi5hPd2oPugy/Xrwva+83wSF8x8iV07kqB8\n",
       "+skEiml2ThGCnEvlAfVlx+XdxtLwBeRZDxjoyuHkZrkx3/siS9mt3gwChc7HTj9+j2UoDsKXb0vw\n",
       "wwrtfkUPLlw8h1uVSdIhSYvSh+F64JZAjcoSDJhEVatOa6lL96ovsgqMkY9ZrysjaOCNpV92sO6Q\n",
       "fQzfyJ7x+Snw8ezSEJsYb9tlGv/mQlIOE8Qu9P/qT5n896OdaBDlFeAK+Ms0QdbXSm6L+mnq3qRs\n",
       "XoviMh9ERUdfZ8lwljGxDI15DgoePPNdyT5EiCY9Ux3X3rosA0nn98BCE+U1AkGj63wNlzJUaaik\n",
       "nUhNpX/gEibtwyzvQKTwr2ZqFAXqu9+G5UIUCUrlE/hxTtDvP6+vR0fcyc40bwIy177lIBrZRP62\n",
       "oudb6KDpCsX/myBLcoBEKFYT0QuKD2s0+aApW9M0y13Ss5acm6VDyXXcZtXYUHMt8GLDUAqtJbdV\n",
       "sEGEuGWesuVIX8p9NefddFGgz/fQ1o0ZWxx7rQpRZogV5SiEGB65vx5eESkQVFUd/kTiVo6J0AKM\n",
       "dMouGDRAsUhFuqsPgR9tYisZVHoH5PYYc7N6rB/QL/E6H04k8o637OHgUpQEsVSouZJaQqG1eqBz\n",
       "0dIPP6a9knSSRyHxhRha2iEXhmZJUh5MHSoB+fiZao0IfIPzOkLZfV/n9wlWxee88j0ld6Pwk1xA\n",
       "GP/AYa9UHhrGwWPTiYOll4+wLT1qQnHPyZXLiJtXJ95N5iy4I9nc/C9kR+x/Qd3sw5tjerfst2FJ\n",
       "Qx4sckKKS0auWWq+OJEcZXlW2V6/J7CiwaIFeLuT52AnARH5aiTIoo2dvzALyOkFog+Iedz3UEqI\n",
       "FVdtTB1wIibqSSkJp4sEpHAYwkSe/9BzKVhz9p1QFpB2LuPKcKu7FqiVJe2SOYEHKUK03PX9TAlU\n",
       "dRGloTDETnJg6gqTSpwYC3hlbHmqI3tPnSE8EOJN3q0bG0KXHrwHvxxvO3uvmrI5/ppyVGpPunTa\n",
       "PfIm5CwoUUi7/HNC1bmm8CCY7ibW3Dictcskc2CE/78tlJN8qiwA02x7kx8GfYezCUQ8kJySjuKc\n",
       "hBlYhc24KCmVJB4mb+eH9GEIXjVYw/9gikpfvpFFDnyivYrTmVXrBUDF9XpcAFukpmOWrzGCMkU5\n",
       "RgwKJDWjdS69lVy1+jr4Ee1gGdY1Cm3kczcDmXR7swACQSisA+YFYaONmr+c2XZdjdh3PPbEGMLt\n",
       "0gfhryHrtDpkzIAaYSluP/TR1t5if41gEM2udP6byUIbh0FvneZjeesrUGGF+deQD5y8k3lnehp1\n",
       "qj+DRsgdRWlWtNpJXW9z9f8UWmS3tr9Z37Vbw6oft85sGQVxvq2CUpoXtAdTYVeX5FWTJUIkTevX\n",
       "vx5TFqkbllisvq5W6dhEC49P8AHVbIGOvY9AqwvoKbhccx64oICkt+BwgAHP+GDhGqWmy0fbU4/e\n",
       "7QWBUeQ86i1MhKZHccXDdDgCwaeXSCdxfqykM9Q+RSTrVxm4v2sdIyosAueKuDCxCvqS+/k0BTwZ\n",
       "4/f80M5r8aUDFqTJ/AQETBFr2v0Xf90rFFO55GKh8iEGr8zhsMzK60sx8OjoFhifG4MEiMxg2uHg\n",
       "J2mA+tqeQHT6BRizOItPVFIcrB8JBe4G1Qs+Ylg7J9kWX+PvDQswXMalLTnMIu2Aqa8BmETLgHR8\n",
       "njazCbA7MAnUGeuYv5pqVGkMd4CskvLSu5VVq/GUVHCXu9fyKtxj6OrXDhOik2nOAseVD7JCkmgR\n",
       "eNm692tNPyhUxTpl07FCBWKESkrR+V39JDVJ2N3YWC/rr6HHLzvdGtOglf5U2692z4vFOXMrDCHM\n",
       "mhyHBgdIIkJlfuydvv5IIOtmF46TBUpJRsO9FN70/2It6bW/NuHngJBbkDDZ9+Hq1r8ki8jWf4G7\n",
       "BxNXtbdTIp8cBPQ2y9WOK73c3gnN7FASYMi128obVQmEOm/rAMb8i+URRWzmx08IpqHkTov2Bkwz\n",
       "Dyy87AtD6YwWL9o97GQ/r80H9PTS8O78qTjb7Aof4hCgWPMbzvkkvGrSyvzJkLdqJekdKllSFqD4\n",
       "3Ivt07nkB5LrNKGgg88HqjIsT2/KdPKeNXmFYgpSe2/3/T9/xY2PGKVmUgrLDrOHJ7s2QcwGniKl\n",
       "PWLO3JiLGNsRshIjPHwOvIt2KE7RLnN6YHdS3TSH7QS1dXqvgFjIhwy8w+A7J/A/bP4+s15f5FhE\n",
       "GmFgJQefRyLegW7YK6lIn80XKE6LIHGmhgmFzqUqVf9H95qmmhF16TZDXLa3w473e9BECC7ftu/n\n",
       "A7ypDoZ+LvmiKOiuTRrpZ2BAjyTLhU7X0KHPb9BFSfXCMbb3GoPCvsf0bzDvJ1OBw9NDEXFitmcr\n",
       "x4Qp8YWtg0is65ZmB0m6TxkYu0cdINv262sLu1ZKkyb8tCYrLBOilNzZ010MZT/E1T/rkDdbS/Ne\n",
       "VcWdZy0a0KRX/CVpSu81v/OXPkACfxDiyopoMzn+4kwsDB0ykQezbZU53jBZliFgRZucsVUGY90P\n",
       "pSQtqIUNG+jSWXRaQOHqOHTWO7z0TdEP7BXjMQHWo92XsQ+SU0A9hUEFqH4unUcEObbsGSykPBUy\n",
       "4+kq6BCOpVODFpMraxeaFqJu8iQCKvtBP3B5ZHoX9kUzaR9DdipRcZVKU+zx6D3Puv2iEFN/FyT+\n",
       "LTP+Infx4L/DO66IZ1VO5oW9l0fmwMtBC5hJYpi79vT9PW290lsl1TJx/nFwBcbbMBk1MUIsS//w\n",
       "O5v4h6pwH1os8c4rXG4GQ495BMqC6KlHrwzjA/s3XRqgq7hDJWokf5uf7Ik8eVbGJahyHO1tCha2\n",
       "BWuxBD9pbTgd/QC8+14DhLuYNGpgOb93T8Bq8wdgp3uq2mJa0ffIN8aVzm2tDHDAX7+JZ6n+pvIt\n",
       "k/S4LKBt10a5Aj6OTaVH4NuoLM+5ld3cTfk7Eb8DjgJW0MyImJPuSEUk70yED+HF60wgnolHu4VK\n",
       "AS5QkpaIXXdmIRaD2VEdEXtaCidMnjXDqp/dwLfqd9YqQdlN1sOLuk6ONJe7jl9vDRl38cJiLRQ3\n",
       "oav5zDEV0BEqEZwWq2eTM6o6tOhqDZG3cR6SBJCJ32R5Ck+ZphqY0vl9t3QAx6g/LFnif2XLGNgT\n",
       "vkHg3Dtc1bXoFN0WHzvWb9/ngBjskjTVWTmzI2XVMeBQ/FDvf3N1a1Svg4f60EtFAT5UFKFfA8th\n",
       "OEfhy0b9cDDR5YkjkibbsrfDr8mzVdtW6vYpRsYijkjo7mnqcTtuvboYMoT+C1yVKLo7MxrxgKBD\n",
       "WBwyk/kcki0MY7oWOqKlwJspRYCuleMWc1n4G0hjN6xRZMSsniMmgyF0JYZRN/SesH1wR1CC0lJ5\n",
       "I5lIU5nOR3XT+ayNWdkUZ6Ti/+WUmSDiTR+vEvDMbEOPhgc4jCMrELIv+p+ba5YhnjtI3PynTIte\n",
       "LmDlpVe0rE2/sFQ/Ib8pbGI9hEr25zNd+nrkj6jIoCiPjRWinvhswzeZIvw+g5K/na6RsxR8QVGb\n",
       "gtnjNpQkFSMwJ3RPTjFrRtlJaEQE18Diz75n5aDjrkS/gjPV00Iag64ZTbpC/BtlyuO4Bi8fkdXr\n",
       "TIA2V7VsQD4XoUeJYg3+saoNMj2YZW+XipI+MdGyvamROt1N1l9q4YoUuFcojvB416ESnNVxxsd0\n",
       "pZIIeC4mX8n8cFiHuval7qKxsS7/DczrefuNUw1RWjEjonPXouHSON0U7p0F6L4Q0Zy0BtzaIp2Q\n",
       "eTPVrIYYXdJzSedgKFi5lRIPOXo7mvAKg7In+0PzQr062VL+lkwOsKlrobFummQqOu2F+Oproxx5\n",
       "+X4lZh91I1wXfFW4s2nHUQgWlufm++tTJpleGB0TDDg/knkE2yu76Z+r82oyPuy4niO3OQE/Q3qU\n",
       "FWN+TQlmYnhnvFuoanUvb36KCdmEIilE5Ii7qW1hHSnOSyzBmz/cR4N4AHzP0YkTY2oPfm+Omayz\n",
       "bF2rVC6KR1qxvUzIQ8WY7WfoAe+JMYzis8iCgp23zY3y4X5dDHLQi1ZRlXi7sKZBMRRlc4dThQ5a\n",
       "kaVj1jdfdxpAc8v8BNl/0bSQKcwpmRaC+e8lDOauQVA+Jrd4rBvXKsLCrK1Ev2jGyW+i8b8PARae\n",
       "2FLHqPLQSCpnRMR6Pa+1r1cPu9YoxVQevxRgGpvCWWwzP2gInFvcxjcaF+ydTpixtzzMYk8Z8tR9\n",
       "xn2eL9c4t2isCWEifFC+MgEwLgyfcuYwItQgIFHsdmKcLOt/Fqb8kAIAjblSygBHWBlifMkRNnsd\n",
       "ajWX2llKwIt+V1az44c+/Khgf+ojJ3C9gpkPneCX5hr1HnHhrjRJgGXQ+069ekAuswNjxNu1H7m7\n",
       "zYibi4t6bn45U+O1OhEM/pzjkOyrW9/Vb+dLOG63scYE2NWepkX1+wofB3GvO/ufQFwCYLfpJd1n\n",
       "hy17fhbHTLhsmiwJckoQCgP3dhsX+BbfhscRKPTjU5q233pwiADvngWnqtRriuU9Bfc+PB4n7FyJ\n",
       "6Kl8Ru4R6zRwSv4rlMo+H8miLt2WSwRj6f9EfH9yGk7JcBA/agv/2NKEhsPQZY2GBk7TCgwxnw6T\n",
       "1cAXwz5xbYNKlOXarET9HzOzy5Vdz4pMBAhfvwu1YJQv8snJssG8DfZeycHFDQh7CW27ZQVqrESR\n",
       "fTH0sav9tDu2CjeO1lSIPyvIoOTEw1X8ezQuJya9deURxS4HSoE5Tk+nNe3YkveqlAqpJGTgtgPz\n",
       "kU/77o6FJhVDKP5WOW0WT8s0kB9Y/QuwuWG/iO+8l3T6r+na6sxJyPdLrfdT9nHga431MABYY8HU\n",
       "UDYqMrJJwkZC68nUu7KuW6FAGoqVA8t3ZXPEhbp32GwLq0KlqXngkqrSnTOZ7Q5NrgrBFZ+gpeJC\n",
       "hJTzXpPjHJrSVCRBd+XOHfdLGpOQYI95mkxGgRrJXf5dPz36DPBksCp2RSGqGSmUpUzuLiakYC7k\n",
       "OWQc8fBEjnEPsWlLBvT50EQiCrTvr3kz/zsL7x3xNWaRPtizsg7cMcbx5DzkZn6bY0/Rc58SCRUv\n",
       "XHuQSNsru0ruUj4XDfdp2CdQtAv9h9CQNd82VBiP5eFnx3ZjU7rwlUzR04b1qneaDfm+vDnw59x4\n",
       "Bu7taX8HcglOmmfs0t8XzPTciZcE24OoqJ0eBwp1ePkbom1czVczMnFdrcGABkLgFzEv4zesg7Kz\n",
       "V4bZwcyTYeAQsVWmC3kbBksCIl4yMerJhXfYhaT4mQ2mn+368LWAp+FT5MJ3DlPYVj+0dAckTXMz\n",
       "FeEFCAxCIn9Sqjd31jc7WZpkxFj3G69cyZjB2lcA7CfAMwMcDDe7/8axdMqp0SCYEbSIQbrOA/po\n",
       "lqKfutI/dQf1jWdhuvbTvTTiLQKN73e0xvdVFsFHIE6oa6IHgKwIdbCe6yO4pq6aiow9sctHEF23\n",
       "MIIzH6EZ6WRRG1jaBtlQe4IET/DuXV/e6eKc89hW3n5oZuurAW0ofKPa/tNhv8faixjpQiSSxWiu\n",
       "sLfu6Je9KPp12w7oW5OeeeNb/xRvUUnB/gocZjr0mqC4S1c+7b1TInsldzUpGBsLPYGccSieGJqY\n",
       "MbVXGiSKyMIbHUNa+3ms9rB3fE1kdIvMqYOQOxSWLXCaiURPKyG/VnMhJrT7j04vMbwJK/U4JXsK\n",
       "2gvaG7+C+vE3aGyI3IYtBUd/LecVDy6x8Bo9Hh8m/BIuD4qgk/58yna8n2p+trzyKznw0XAaHZWk\n",
       "UlwK+YBvW03ZWfB9NSvWmRqw+y5Iv4iFy24uHgrqXnxhSRtlqbRmwLNJ9ITtfbgvePyIOW8tnCCz\n",
       "gIkTW3couiwIVDWC3FNmsGYOz3DjRcc90dF87YDY23opgGBoyKe70FhhIRWYtVgdweOPiMgHDP0Q\n",
       "xI0RTFazCrc/40DOEa7ZgGbi0CDz5mHE8SCgeHiEtQxy3z8uS1bco3BevpObu1e4Oswa/Le6jCdK\n",
       "wWmKZ9AQRfMCorgkoByfYHMCBbZDtCVPL1rcj5nVS6KdO+hhCym3+MfYWBgqYF6VQ4ean1zW7aCL\n",
       "mqR/H+NXGCrVcYNnpxMsUTu9ZcvnfdScdXY6xGjCmZmjULmh3lsi52WBOc2n6+K6JsCWaBPrhKy4\n",
       "eRaMkXR9zERYfuDhw5Tmdl9i6P07GeCBYKQXMttDJFn+dy3S0z/gK04NILsN6K4d5YeakhpbEt8X\n",
       "oYOUab3PaPI54zh/DoWiiB08/ANnrNHQj64huDHsgV060YilpSjxXJgflfa5pX6/81IN1KT3e4ei\n",
       "PWN7N8sWagmEd2lY6QMQHipOOyf+JJ26czJIjbB1rrhSPaqlUq7TXU5B7X1yatcLkyDPik3MsAL8\n",
       "d9ynR+Kv15/4KKlkXBM0XGPbfaKSbjR5gKzadPlAtu93TtzomgEJLy6O5uk2ADXv0ImtduD4bZMj\n",
       "cweeIZBaTmsOJK1QxA+8HT1+CDyWxM0foBeJXywVLcs+BMryQiiPBYgOLpFE23a4rsGK+nH5iYAW\n",
       "NDwK7SZ8JAP/Hy8n3UEmc7RAJbDxNKDiM/Ebx3EVAuW1jCLGmeC0fimvE0gHS8vB3tVO/RY09PMr\n",
       "i7sUpb/v8Vn5R/wsqfkvlYsV0QMlMKBdwzduZ/5fQm4AZi8VYU61frXi3ntv/E5kX0K4sEDNn24G\n",
       "S+RvP6AaDXBEkNR0BwPboHHioPFbMiohgGWiOIMtnobeSWRWlRdktSaXwFFeBG19xl41w6Bg46Ua\n",
       "a63/stH/VQD7g/8qVse/GVYURBHD+afxqDkVkoAHzf6fPGVIOVQB+MKysxxhcpknEnHmVLAU1uSx\n",
       "L3aa8zN6mTOxbfCZy3L3py6biT4XEOKA0y4XJEm9phtJq0Dthuno+cRJOD6QVN/YvCipkjkicnVQ\n",
       "aTkL9Zi9nmNsPb0hOXrSEP+Yk5YeObZvBnFiZvjFKsArVUYhbPFeocjjO3/XlO57J804dR6h5nWx\n",
       "vZTXXsgOZLu47ViZCL/xP+igLtgY7BLWLGgkw+ZH3gTnDZJuHd7iQDPpgAQTaZXo2LivY284SX5i\n",
       "X1V2G3Xd/C7HqLdF3MU53MDNMzSNh9t1wsa4CTsrIfaNRjWBV06CFH9OYI8G2cSzMUiQcyH201o/\n",
       "rbVgmhAuAF81lUOnHDoaKfAr4UCcd+mHUErkaUPu8e3bPuUanZYD6upPYTIVP2R/QLjCBgSX/5GJ\n",
       "c5UG3FbhB/SpfDsZdVO/ZP5DolzAWi8XPiUbLYd2wxqz3hSjPrHhnaPYcN4E5VlEl/8480Iu9Juu\n",
       "KDqNdLJpIYDphvdcg2Fk7EkAZaZf4HjmMPb2igXpH5egr5wgiz86V11qYS49eP/L6tcni0j1xv6B\n",
       "BCtxd6xBX2uT+rYvCf++uvQw9ZxJ0kOx2iHOyb5fHzTCJwvr9rA2GV8mijakvr/6zqGwn3QViUCq\n",
       "UmGpPlu6BaMp6/vXUlcJMA0U5ToJtw7xEwFyxBzYdOGiC5AM17WUjzSkhj5oRWnEIQOFYdPbEiZ2\n",
       "Wv7LZ2dFjTKz9azNIw7gSNpG1qUXgUr7ltSa3MfWI+VESxe1dN7Nai1RjpmAjjq0EawaEdRy+AQm\n",
       "e0cc7K4wFItycLMyH44DVDUC85YI5WISDCX8lBh2LwMT7Mlq7xD2mrnGjmc8jk5tLLKTsa+/CCQv\n",
       "gBycz0kQAh0VsvA3ABb/FADLBXgzzRHI+wsb4rb/WTyPFKYEzMYmBICLh4fYpmoAHbCKDF6F5uh1\n",
       "bLpRUGKZ5CjABiTVnW01O7dQTFY0V9R4rIridloU+hQMkHY39GcZ4Edhs6gVRugzsAvzEdXjTU9+\n",
       "hN4iD/VSwRg4PyVg6jNx+41VxdKWDD3yDbzbDQGaiPjbOBj8t+WeO/79tso+cig/Y7H5qZK3wph7\n",
       "XJRkOaiX6v1OkRLFerYgi5u/VR0er+9UOmkc8W2/5pZFfQ8KcsA7GewCal37fp+j3RwCs14K5YT0\n",
       "NnqIeu8X3WDOIL3cju5cJCth2GNwN6enDfAKB5S7n9GRBI97AAeCZUkHaECZiQ8+y6GP93U3Cup9\n",
       "3cy0MGrjOlreo3/bbMgxWSIR4ZIIOduD/jfkg277pOQaxrOAZgjMECJbkX5fI5NShsr7b1A1GXFY\n",
       "JWD1AB/9IimkbneOQ4jaQUaW1eJ90n08fRX7GYakrh//ZsBUZUz0DMs7qw/irZxreaGdrx4rcSrz\n",
       "oJreNer3FxP9Z4/PclljIVEXht1PTT4MhbDkEIjdY0W8w1VbG6JmR4mqwP1HIcHeSH6FYuGkB2/H\n",
       "OffKtGMiA+WYp5hm2BMCw+v4UyVYu/+xyri3H73M3t6k+kkpTLC9cPA/1o+WG6Se1Pg1ElaKcFcU\n",
       "0wffW/TKHz4U4HhAEObsy9nKpY6gYxUO+flAe2Wi37dmCK2pQNtcyPpiRqWIGV0FbHG+aevtj+jl\n",
       "cogXOHPna7BVswGg5/okXLMQ09acfepRj/zF+5X1JEYNsBFzoXtuw9zKuW3SYguym5pqm6ZqpHT+\n",
       "RdleWc3rNc4pSNK9jlQDLAirBEUSd28sHaF7n30LH5OlBQDRa8KpFpVJQoxnNoXszJOjDhyR34Ev\n",
       "/r3faDEzF0H3fqU2FKtkEgbNQ03DmWRdANNDZ0+u9prcTY0qhqwnGlaR3DIOV+KW4HJxXjgdJObT\n",
       "YefjSMkOrrdmVamaKU5ht7M0T2TtMk6sHoZ/6KVVF1BKCsUbYPrHqUUaQvFj3ZRsxn4p4AEzoZeD\n",
       "w5mJHaSkmofYenpAdMB8SabTnPv8uDa5Y5ICxNQvj8rJK3OR3ARYxZso2KTvzQ8dM2Ey8wjjvDHZ\n",
       "Cmk274B22a292tP6zWYbxERMaLPqOeQc8kYCs8Zy3IH0tmvaU8XQCsM7fiKHP6h9646lQCXJc9YW\n",
       "c7iIFRjuvqDcB6bclrk+RsNfOMKLhlYYELgO6f0mH2QwuEx06Cm2uNTrCx4DIIiR9Krs3LkFX8+h\n",
       "zWWPK9ibsQ1ev4nxR9AHXwBS/rvixijCDP4+jsoPg0w3/qm2HPge3Q8rV0v58zLsrQqBkw1XiXun\n",
       "Bs5tYBGXiAEAOZXCsQGpXd459ozMHB6FLxyyLbW5UfOsQZZPiqprfyIHgzn0mzEPbSOS4XVOJ0IU\n",
       "gdwgx5rL6Do0FZpGxwc8yrSMzb2jjZrAyCW/flIJesyP2z7jJA6BGW3cKjO/KMtngzyvtthL9vlZ\n",
       "QWGoNLz8fB0Vj6BYdlDQf5HijtiXA9vIICOghoI9QXdA4lE77/z43l37FB0Az6BE/qA1M9q9OSl2\n",
       "zqjvUKzZb8A5NykyfTXu9eNXWP/T3WsMo7EAUbw7ZjhewWg//4uJ6LD3luZfkF09iqcUAaybSpre\n",
       "+Hloya5AEq6mAXI0gf88KEIbNGmwpi04MbihKNXFhdAV3O6Gt0k+cS0jDWK6ypVsYseh1XBIJonB\n",
       "I5PUbg2fuvKYGLTnU4ZFDWS04VJxT80kwxU4+tpdPei/rj1z8qfbKH/Mr4Fk13B9jhGgz0BuF3+/\n",
       "tnC82cTt/ifdqXcRDNw6I96ugpFdDN6nOhGAi1MRjowHmjMx5nInMMmxLPxis2As23ZzM96YpGqP\n",
       "syCKR2rdI0siBOYat5l6/lzkhJBtRxefv5RKCuJ03x1VT7XflUq9MZAXQ+leTAwAvEp5xVhiFSa1\n",
       "QStvGFJVr2trgpwZHYB1xF2j3wBGlO18plkDA2QeROeTBBk1EdO+4iKnklygFeKCzy5kxMI7ubVx\n",
       "n83VB5PvWq5VFTUY6bJNS9D1vmKmTKugG+X0kJr9maVAJp49uvKQ2KYvYd0vlscgAFxHC0pBhx0/\n",
       "6sRJCpEzOlmzyYavU8c4xOlqsOCNLxFXbWzEei6gAcRtpz3wAFkPlXEzJ4GXVLQUd3UtPj7aQkyX\n",
       "dN39vL7BkmnkaWEYgWUPy30gLmRHcTZQ/9ISu17ZTrqyECbSPjzOM0W5bhFShcqsPieKtstzyIzQ\n",
       "7MkN+W+m77l7OBTCCaQ/gTaLbxHX8Z8+zjnSj/DMW0F18Km2Ri21RiuQP2zAAobepaX81dzr88N/\n",
       "Xc4Ln0LQstqArh4KwCTXW8Bzw9sjA8IZhY4BiDr96xupE5VC3VATkVBK5RIVfZG8x3Khar6MOr2N\n",
       "VCsbkVS6MRei+Kv+2dMkTJpHg/DZqMffrFOPepux3Hrf6Iw/lFNhyctKSHKljbmsjb0dvX5eJ+kI\n",
       "tanoFIb4A01pihqVIeyGAOC76UkrwrG5+eB12bPbiYzpM3xOo4jiWuWBRIhTkF+r+CRF+Zivqt6t\n",
       "LU4OB/TFnLQ2l+WCC7ZkA+BEKrQXhm9HzM4+4gGP85SOiH1PkW2SzxHbDUaPA/ConxSuunD+/9on\n",
       "q2cFmEpGZSWbPckTxx1DolOS5+0hn6KwavH3WqktldD+bvQOmrKON+s02UDlFfcik0X4ppG2/8dB\n",
       "D83y4kC7gFAg3eMc969o66EzdOeW1exANH2Gh4Qmc5MVs0W6tPPV87R6m1CmWDjIULYPbePq8xbq\n",
       "ENKob5bLH3eEzWRGY8EpCzNyUm9bdyBaPUx3fFzdZ4seSYRQwyXjt41liMTXStiLfn2vh9n8tlVh\n",
       "sAFw6CUc5wx3UdgFayHPKM0BnknhcMowoelsXJo772Rvu1aizf35HiKxD4o9aCTvywm014D9wsEI\n",
       "ijUpx2g8TWeOhSNtUzN3BkY50Bu7bQtbaJm8k6qtRyfd47AZ4s5iw0dFgJ/82EHlc7oyVIxbm1rH\n",
       "hwUR+GoMWJMtZe/T+xadj/cvnHL/WlLsf9juUf5ERqzOv31HBc+fT5aZvfzYLNzyD8bsCYahliGr\n",
       "pkyGlVp+BHzLlqHe6voV3W99wbmunO49BJcDH2mc8Giv1rnNt3wCJFyxa31An0YWGkzSptVHnqo6\n",
       "Xg9u3iLfxBEMoxwY1GLeoovFc+juJ96rr5/e9U6uxQDilCPcuxRxycf48w6kxZmeRWVnPOCtfZ/J\n",
       "Qa+hV0ah3+czNjdXsjM512b7kJ0w4oPir39y5XCEirQvkdvnJaTeepoOvneu5Rlj47rB9/NR41Tg\n",
       "QodSTA2rUYkVRkSVSJrcPwXltiMa25OJlaAsWJcSWbfN/h7dD/sGOnLykYTNFcYNGFqz+nuYyNaM\n",
       "0kwvpgi3PRGoXHn7NAxC3HLHFBHHqTxCQkOfhSEEtTuH13QC5NJPV2q/Qy2cSG7JDnjLuv6xrz/0\n",
       "tA5U5QzJyCuCo1vEmSQMslXmGrwyFfo6NiFAm49srZkWrrZuvAflXVyrWJRHQ3kwDtDQMVFclGt1\n",
       "YzGJaN5SBpnUPYh5eT+e6FvmBwr+lwI7WAajg5XuF7o8vNNVSQ08NonEmZUCXl+lTu/ZeVgIZZl2\n",
       "SGrsqfp6XnzK8V8fj5ad3D8g7u71iVwha0/Yl/uIPoxtWgDPK5Ht8mjBjNhe0tsEB2hsHw+2f0aH\n",
       "MXuOFaQZYFzmGE/M1VXIwPX0IV5odcdu2u9HWcmNTlTW6qfZzY1tU+pqBCn3qNSvIviiGIZ0CKiW\n",
       "XfdeSd7GOpLicRlmNUcOCK9KzoWrpnK4Fn//6l8av0Fv5eCNbEHqq4c6a9jmyVyf60y92LRqvz+U\n",
       "npea8VcuolYSD1/9g2MRMK8M25eWDjz63/YzNAc86uxU2w/1OvZaMfmB8bkZEV/SXppMYBr8lXvc\n",
       "Dba7nKaoVEV/BH70mUJMd3sHXtdhmA86SI//6KxPgQ97ivfy1HXi7prjNjp/lmpH5wxsZ1bybHBz\n",
       "v/W/GhobIl75wVF+r5gSO56Xno5TuXAgyhknIQVFLU3H/00VQQ+a3BcpEHoGaFHYCsN/TRK/cql/\n",
       "/r4c9Md7CwGoxMVpdyFSmAZJNM7VhoX2AV14OcmTa62ofBcMdXzXn5WAjit+MwomNFZ5qmY/iJS9\n",
       "Wh04d/yzGrNlYj9SLoyEwmvdMKriBIV3LI+jK3CDUi2dohIRha36x+mO7lWc3bDxGuba3dYfWsos\n",
       "tTONqhM7sjN5MjvvM7QDM28+NzdWGfHistQgVxYlAECKak19Kl4MOtHtpwSyl4f8Soa7YbqCaNnj\n",
       "+cbD0BNa7GkiRW62nyrEkUIc6dpIoFYJPBYNwDgrRgawd4zxedxcpqZaz4NzJs9ftxcZ7SAq92Nz\n",
       "7g36sOTkKYegjop4r5wD7HK73PzqwvVO+QxVtAWKvGEfZye0gfOB4/mgUEFfxud52c4eisXHXUZ5\n",
       "/zQs1P3wWJBiIOYZ0o3nZMzWCZFyzF+5+l2Y1dkQpLWggr+Jhqjjb/jPwKvMD02ZZZ02EOC9P6Vq\n",
       "vfNLb6gk/1oH7hKsnu+8ybefOTebj3bW7h98B/TinaPzLxcA0Jy29bmW3FGYXnPoYKXnsNziuW2A\n",
       "ql+Ep90oi4Tcx3+dMqzv95Sab4XNKTCBTD3YVJShdpKHPIK+kdWMWs2iMMxQBhsgtjlZoB6Sod7i\n",
       "Yd8cE3TVX9IFcG5kcOcchXdNNncyzaCC6Jmt++zWA892jKk4HSrr2OV+Cd28RkNF/k4CKOGYMKrg\n",
       "8X/p1kwLvkQ8c/Gj5UYZleuVCICJ9zeJugY64cb8b/iXnOdb9PVp4pP2rDCV3/iz5ZOsLESSNC6w\n",
       "1J+It5ITpZirPNwXmBzUV5FgSVZMC7NnbaNyMaiixoiReM5C7+bTKq4jERC6egrbKpwzGa8ehsJT\n",
       "u+xTgXdrtzb3CfDK3kxahHBZ4ZLpF8evGSl5n7Z32AhkGfcZEcBjMKuCL6gP3dppwxCSco+erIdp\n",
       "k1xkPRD6zK/tRcdS2lyH5gwjKP6mxEct8LS3HN9EZNsIm3cx6UB/33vyrHL1LIj2IAatbo/JKA9L\n",
       "L+MpOIhivQ2ekmL4TIZULqlEs+Mdw9Ex3QNihQc4ENATUOLSFZtWOyhMX9WDOTAF/piMreLZf+EW\n",
       "/ZIWdfPo0rH4vCVfui1mGVO5Tmy14wY/cRy1c0eT7UTF9oD//qQ1e7DGUpITGPYjyOnKesl+P2at\n",
       "oViXMRphzS/wCsIzzAOXbt+EdWTOWltSLWBaQFkizsP98xjBUfzA3xXylrunjyHTWy/sqT+nJs8p\n",
       "ZoPQ5mxccLYGr3kUoCIk2QvST/DEff/bd4TzUD1w3/jp758NjRg9g3cahpMy9/vsKjvRRPyZino9\n",
       "WZilvHU7OzXvBsA/1BTapb/3HkuSd2I8i0zr7KCcOWCTrzfLWBIH1iyhYEi3lBfg/lGAad8qs6l0\n",
       "LCL2dngrtyW1jvpau+BC9yX1f9qa5pIYgtgq3LwevxCVElqgYPzAAePFRu7XhzIC81oigDAEjsL1\n",
       "RrXGZlpIhbNRPdgZCf+lMj9mW5GqIOQVWEYiZ+Yj9dnmULEkdUflvjEJdf1MGGuV9B+QevPawG4D\n",
       "P5Ku7J0qLzToiEVxne49y783QK7/2udPr7JZbQSaYzVN6eI/9JH3yvU1FDN1ZAJ2+SxisVBJe3g1\n",
       "wvW40ZXl9A19ssgbuyrlgnjL00GHQlCa6jdCushpkOT4WIzgoti8TN1GBHn8I0ugtgXjob+GxnQS\n",
       "jH891hbUS1qiKBcnqFTHsVRNlKXH/jBT6r0UzvmGNKUukEfNvubQvp1+BWayr4Qie4/JHLZcKYyF\n",
       "VeH+vAo+oP//eghTDZW57GYXP3M8rwLgl09MUeyCaZ9TwBaWOD1gBPUaWswZIX/7NjlKNyEdFsZl\n",
       "q9Cefh86/OzZo8KIwJhnoBoGxyXUfWGLhz9puRfNyzupHk7q11H3O46ELEiG7HxHm5JDBnLroW0H\n",
       "zS25oG4jCSJxFTlMDemTKKjOouMXiOAY425s0Pah4Ix2f+bGeW/LA/Utz9mAavqQMLQKJyoNNaQ4\n",
       "A/BOI2N5tb+PlPQ7x+5kWnmN7wFBXW+binMYg4KlchFqZg5kOxXAhyjI6DHfoPqff/rY1QwJH7fz\n",
       "ez274Gq1I5RjrghOBCHd8XP1efH/uIISv0M7L/9krhnwvEVI34VcaY2a1I+0t6xFK3XB6E6jX9nj\n",
       "yWV7AUKLjEH0UlbJoz/eR27PQSE8W5aJGXRtnDsPxx6GjGMD46BpWAu0djdl9fdvtMyhFMuTzT4L\n",
       "xtv6ugmPfvSIMXqUQKglcGlgfjv6xayjSJPg0lN7a76HHfKC4XTBt4gTtXY9AoDAoxslTfQxzjVs\n",
       "n3dU7QAdST3KtHiS1E5kDq7DO/j0oIAF98ygzy8//KpDo2RBwh1gXZ5dn7wcOUmRGEzGoJdgB+zZ\n",
       "42kAW5MgmyFh4asWMV3aiPK8S45RgexjlS8nHoVWyubLqTNC69BXCAOLrIShTvNZwrCooVU9JNZH\n",
       "X0COmgPSabb5fo4wdsEkBjK3j9d4SaFHBKXp9P2x7bstANew3lBaHt/4dVAX87Rqi9dgou60zN9y\n",
       "B0+O5Ptqx2zYJgeLWIAvE798L6ZPH3kIcrFH9lH78BoQdNj8Y8CkkTpifHMiG/4S9lBQqBLMhY6d\n",
       "PJQadHSuIS0lBlaj4FFiQIWMUu6gKkv9HL99p3Xu8uyXmggO1Y6/llKqtgHqBpvO9EwGmPCug2Vh\n",
       "pdyQAdeQFSpcR5/tVIfETFJbVbIGBIUHXoBTcbRm+aoL5SQs9MQc4PzJq36cvBpV529Lp0rqCqNo\n",
       "rnGnwa8oDV3AxeyR5zFiy/Bd2luiiAI2q6k7B3UTk/y2APkOdyarepbsZyjVs0zetiVTXI5vglfi\n",
       "YdEoEmeD0LA0p6MHGBA+lFluqzvrU4V/rkF04iYR/glg60EBXcBwqmFHlZiYxDAsAReNpEGQpWVV\n",
       "eoiA8TkstqkYhZgm9xBf1EkUjM2aQh06CmJDUxN8icfvBfXd7ns+t0W+/W73ViHqK45dDXL1oyOq\n",
       "bN5rSNI6R2hOPT4tDVcmujJpG5mhWRKiPMVu3V0vqADRapiRLhQwA4foIG/xZa5Mtr1npZ9PEjOm\n",
       "WJdOo6hip8alQNvY1h3MzQpBEFZeDUbNGfa9vcZ8cWOgdOJ2rAB114R3NeUw4neCrUt1Oyg/WaeE\n",
       "eL2N3sPVztPGnWI3mcBLZMAAHB8r8mya7/jEsm4sNKNea4yycl8uEt9YxFDbI+YwaM2rgIRNuMaO\n",
       "CBg0ifzu4UsNdbWuEt4INJokj/nA87RP3r/lAQnzADCgOv5AYzH5w/rDTYH2gj3tjIs+cQi+dAJJ\n",
       "IV54yIJAfBsY3kt/WqLgz9fR4jdEaZDgpxInIUxYs//7dq758TKyHCOuCO5I6z328SaE4W7j/U8l\n",
       "6cj/WaQlxelXfaBXTw6YDMmixgrxYaHoKGNxoXIQqW+e04lhrFxJJiS45C+GbAN2P/1OkKGlp9ce\n",
       "DiM4nyH494NPt60PYk+k6kfXN225U1kF4zozIL57PXr09583wV0ES/lv/1VHdQWwPykoly+ldw4m\n",
       "AJdWAnJ4o9e5crwlp102op5QZ2CFJ5axgjiYd3kYw+Mx9yfjVuKrSl4K5C5w/undDPbvAQUIgJCa\n",
       "JrDKccXRfFYkVg6kiBktMNwHo0sT9334XV+wIxD/+7fM8VtwfoNoF5hS0gCGF1olsget5w7a7rSS\n",
       "w9pAVvp8rDtxdJrMViTwkO0cyJaw+sLfbtmjSkEfqzjwM7cEOFadQr4seF+5BUOwExvnTk6UiaR3\n",
       "+Vt1Ci3PBObe049b+YrSYXWD7Qd4ZH1gL5+ZZ3uXUwYYpHzCiwtF16Y4uo3V+YcejzdKzVas5sk9\n",
       "f+VKRWY5Ky+8nP2OFUV7ebQq1vnzvHpkbdzYKr9wiu/YYESPQvK+Zu/2zHVnJ8drF+4gijeVPbVq\n",
       "mPF9fHN9ODjxFWKh0wJTU8lhm3J1DkXWsXGUobwITfGAqMZxYk38n4D85Gke2x2umwjXRE4SCgvR\n",
       "8Zi/YyY4Wf+3fg6Fx/J6v2mryrerq32vPaJ6cRMF+atzqDr1//UqD0xYRhCuJcl5bDP1QTfadWEa\n",
       "cG7IQXuxYGHvKa3h58xnmzGoEzw23FSMRD7EYid9P/sHYYrDVFOJ2K/ACdne3ZFj4+TSwmhhEpSz\n",
       "VDHEQHXxdMKPKS5j0/oezxhf2SdsR3mjQqmAYIJDLaLvF8NYtbI9qG8TCPWm5wWrVRNL050KX7TB\n",
       "rgLnZCVqmURSy/8Qpyn0AAdabHLbR7vF6SMYbcucvzX1nCzy0/2/Jvx54JlbWOQHfp9Rit1ji1Fm\n",
       "9nkpeer5B6bM9as7ngpkHn30/u0WBOaWfITfYktvgiAs8DtcVUEZ2AKI4uoVJ5eDlDjyq1NFfWtf\n",
       "v/SvNh5EelcAZXvZJr3JP7ULTKwRkRF96y6/Zp1DQPXOWNoM3VW+avR1rhpQegN2q9y+02y1/nAN\n",
       "arHwicGp4woSXUwdZgehAy81HwW5ApYhTlpDIKztuYKSSj/d/IWG0XSMbn2XhIoHqduLn/aoGCSV\n",
       "tca3gbSunF/ty0aiA0ag+TRhe2jOKfou4ZTdFElYzY98PRE3kXHhY1KFG5tzodFry159WJ1nkgfI\n",
       "pm3CiI8euXs3Zk7jkKvutveoH6UrKADqWuLqCGfHRzGdel1+DvT3iU6KDxPGMCCDF5FjrOb7f9C7\n",
       "/XLH5G6XNS9PTHVs3ZjWTS7NM31oSdr5ePT/gU1EuZCXYRQdux7//nDs3aDw1H4kkdcMeVNaQ5rg\n",
       "2X0ZNryZIFyyqCT/9MTHhHAKGwI4CSJucbgYgo/gI6iMaXrQWkYNTKzSiS/EoHm2kr2UOQ0PiYGk\n",
       "W27v+j9+WpWKLux7ecFKZbN1tDGP2wSTq//pFgXJHAboeMxMn5fE2E0P1atBeTVHNcGCu2R3SHSp\n",
       "pqGqVPND6I8PeO3oTRpD5jPIgbrM1mPRjO0216mJCzP13/SCFJ8G+cTwTmYt0o7BuD05NGOKofdo\n",
       "xWk7/bLEkMPmnjJzKAi6uAdCRLGY6Nnwt/vJF6vTOWddmHuPtIKoP1uzX9M2mk1ASwya6YK5z75K\n",
       "ooAJDMn1bYWvF/7Ac/7fH2SuTa/rlEpBxRQ591Wp3nxf3lVJTxrhiiL8wp75OXpX694ETF9sgv8o\n",
       "BGnGy8JuLKvKyF1j1Qsmj+XZfrH/Wn8a29RoK90v5w2GCqKO70WUiGXlt66AnsEchdq3an9/S4kA\n",
       "LjBCpVlcRnSNaP/hMMWmyOrXWxozZmgtyYTqoHtkCUwaf4hpkbKY4+z+eH4lGli+HA94WJkD1P6O\n",
       "MWXKljhBD/WBADm16seImNrjkK3hyKuPmRt1uqDuaKsGrPBt4kubQj3UBrZpAgZg/NpYlKfAS53E\n",
       "IXHfaiNqilWy90c4MOiKCGXf54ezvWpavUIH7F4hxQmbiFc3FBiZAMNYVWpyR6B8qx8SoPhUhiO5\n",
       "iqSgsuWU3URJhSnpEI3xLaeytf1doomk4+c1MkHcItP4kfx+xaE/W0J4nF4V9J5yONRgxUb1mHwv\n",
       "sLe3u33VLB1fX6z8eIyVNaDptr9X3hwCaifC07fQVS7VFwfIlQ70N9SAmWVNQ9856z0j3N8tDbXT\n",
       "esD0X9TuW//2mGSJde3Qshi6hOdS7jPiCDo2iCO0XXhWBivqOJyHNd67X2hca/lZqHXUJDLE2G5m\n",
       "T3Xb0Py7sgi5FSujbpXdV3d3b5QKR4AKJL8NgxraN5oLZvIJwyuhqkURWD6hJmvlVDjrOVswurxQ\n",
       "BUPdmi4iYWb5bIxe9MK9jfo4byuIGh3AzvyhsmhfREHCXbuDb9EXhuS+HlUJWFzfBAi87ClpKSBU\n",
       "sfKJ+H4ePJrqh4hIq3W6Afx7vk2Z1yaoswgmbhzxsM2WBsYZ2u4qTxOX3b6zS4qYsb1FCr4fEnAM\n",
       "Iy/DgAFdgPxKq1h8/eCx+brcWiach3MHYcR09jRaOX1F850rMCB6vegPKNqBAAAM10GaJGxBT/7W\n",
       "jLABs9gNNEAa/r+Cs9uzAd22oOx9oIvEavse/4eLFVKQSd44C3u9wGxyflmRVFoB9T9uHLPXA89l\n",
       "wnQdPV1shoL/BEWLh0YCskWbCEFy1cgYkk1ShtrA5JZBSmCYu6B5l+iIxrEtWlyvVlxbTazhu11P\n",
       "8yGHxcSzcCCrieQIPDp3Bg9mh2/p4cQHieVhGA9kQli6MmttBFfOARgTYCkn4Q/aiQeACovStw4T\n",
       "hMcyiOLfCCcIVXEYxAf+cbNydUc8ZnqDr0L34s+SXB9F4WQdANLY/scun6so63Q9SwXH2Y/rswVN\n",
       "M9y7BgexgYqQOcXJ7JznbswIU92tt6o0xSBQw+5bRRL3VxvJ26tLgY0ummNnJdl3XdhK9Db+SUPK\n",
       "aFsW1T3cwzCuc9a1VBM2ZVDFwXhum1Ap4vcR3QlKYM2o1mjWqBBCdazGpM97fb8hDUClFyykpSbu\n",
       "LZ4a66zKVMrReUutEl45g5waw+VTzdsx/rqowcZKT84cU4y6cmEs759yHcApxHJdliqj9KLHWIQJ\n",
       "6bJgWdFgkLBxT5cfuH319AVNx38gW0MnGjPRjhVLFM7JWXBqSKUlJsNN6ZHBTQEOpOZ7CpdfHphK\n",
       "P8TJCypJSbb5bp0vWLxNi+5TKoIr5jofJUu9tmWksdblX7KERQDpUX/XjfMkL1TtaG8/0qjVhHpu\n",
       "FqIOEU07FTvS+c/vl6kmMftssAuWeRGAALty+UxQnHI6wElMqwQv5SQOG5rPjsTxWxHKYVPU4w8C\n",
       "xygBzZQd3546iAam0BhLbzTRSb6OnFlFr07sRwlGYoc412hLWTBkQOciPYhy9HTb7l1vh2XXqyK3\n",
       "wtnSZK6HCX6zqldLDt+Ky/KU7a4zr+WZCj5M6gNZBsgcbRnI1G5j7BjpJAGetEQZaGPMElKZaybe\n",
       "vCj6yI58cRtArwqvmpy6AgoNH5fwB5Tz2a9Dq/kRjiRXKFQy+A+hJCCBjwzlrUXt6P58GkIp6qu4\n",
       "fcNtgkaOpe5O2vjskF+IHVnT6Z6PBmLr1XedxkaluVFPUFtPL32+/PeFLGgJGtun/rzvePxbsEVQ\n",
       "axKnV3+PWgUmwV/VoM+Al4dvdvPMGcJsuyFXajAa1VU4oHBpbuKIqDmq3G4mnupUDMaM2X5kNgJn\n",
       "zkQJZw5Yf/DmnTAezj92DvFOF4yX1rq578M6LaTvDY6br9P+SMOnQH+1nQbmZ0gEh2Jh6nlQf+xw\n",
       "M1kyBEPJu+OqS6FUGg6x3aYbrbeH+z3ban7teM88wxaJpHaWSZXKQMrhrgalJi+6MAAWw1mApif/\n",
       "0THb5nIxJRqMzlvP/AEY//LW0C1xkiYpICo/H93GWtgei1quajr6gt57FveLIi+qvkYlyvJvsv8r\n",
       "I5pE5tjEj2dDH7JUbtmtwvMtyM63ihFlh4YsZKS68melRbcHPZpskm9XZP2aP7e8NjH9GJLtAfsj\n",
       "FWnBkNqGqXvjrpzY8/oyVxc8AFN4oN8/a19csu6MgKpzNnA7cxxu63nQ3jamaPCj7TthpDEMaPdD\n",
       "M3FhAw8R2og84C/5HwXf6j40yeBuGG7D5FFk5lCfi5YIx6iTjsxPnHe6e//is/ASAROI8a8CRBYx\n",
       "w2FNBDuT26F/5In7DVoaUIoUHYMRazTcTnIWY/sO4ysGf2aag7YO8vA+S87uI1AvRzvP3BPpEOja\n",
       "GyjVQ3opP1u2zg7lY9NE5eowBS+ydvWXHzPISQrkebT/T2wMCfjuT4N0fx8pX2sfzNDu2gsPLBIl\n",
       "bcpdwG0HH6Oh9GyNflVGNNrLyNbhgWhUtMmACrnlbjNI2joCOgwm5QH9Su/yJvZ5XfwE2lnhxM8x\n",
       "keol0zqDSr/VPO4UMriMmW63/sp0QHYb/s91ppG41TE0vU4fHvpumRJTkFAjr2X4yX7iKeYdExDu\n",
       "eFFAj7Ag39wzF712/JEMK/gJywbkcK0+bSUZJS1DmgP/csMUGFPMIkrKaccui9Xy6NzyY8afPvow\n",
       "yEzjSosMNYJvzNLq2M8CctAmj3VRk+3nGEm6LPSXX4tke5WRZXvl4cjMHhG2yVg53QQIpTsPP/HQ\n",
       "OR6CeKpEQiVun9iutkvvN/FJ6l8dytMzCURwxlDyxazhcRoOlJ0Sqjky4TyiAKszNE/EuH8t/zJa\n",
       "z4mHpBRmVe+UiHC59fN/GJN3et47qp6SDREtr/OVXk99kCpwd0WTNOGeghOVHPq6Vriq+UjXqaky\n",
       "XOUg7pLqVfD7nOEtU9m+9GxEltw5qQHsTmzNGhd0CLsbbtoIuOQ9mscrJBa+QUfa1PFxwv1l7c2z\n",
       "E9VK/+NH6ex4fW9TsknX6CG8Ux3kpvJOmSh056+1I0yp53sCCO4I55MUk5LVnz4YO6KAyoCklVW1\n",
       "ysGatA97ZxU3qYXHuPHqy9SjRyrE5PPjY0xkmYWqVDaczjIDllhZKigmNWEioDUVaOxqBksFKnus\n",
       "EUkmNhFZcfA+i8m3KcmaYbbVWJrTSEpdzO+Rq7UII7QC1BFMfY0Tp1XIf25AHYX+YIAXHOg+PsTv\n",
       "eb6ZQAKwkmCssxUpaLV0WguoNUWHSwJyT40eoZGWMLx7se+Po5yuIbJpDegJt+DjbWMHGHwCckii\n",
       "inAyiVqk6Kooy1o3lfmeNbRV7SdPyuyuUhBakbnlb4zQMqod+mx3gDp8YY+Ip3OrWkdebLhUS0Qp\n",
       "xly2omz7ecKXNvKTfJAT5cwnOfdayHn2h2Hf8h35+D5JoY6mplrf3bBXJcrEs1g7/ICyMwDC7+WE\n",
       "n4b0sfutqRqW/9JmOmj567o+PokqJ5UGsFVhOLegM/8veBt/r/FShb27YeFgHrRPVT0fruy/PYfO\n",
       "tbxiPueFzmbbgUznpHSOoNfq5m3/yZ8AmTRKQncgOlgApmiRhufAmT9hppPxf+4B2jetNDBxAdy3\n",
       "McbWCOJijyS74jjjzJPDGb1Y35sDWbpcdxHl16l6x9Kz2eKI6m5KSMdGVp2yEWtyBm433t/Gj0Jr\n",
       "ngQGOoECNeaCQDYTTDymFMQGYOlophNq7LAawQsxbQyBlN9SPVcMiMdRdxc+r6cTYAI/faxTRsHw\n",
       "jfIFwwNfNI5bIEdV4bFvxmz2Bxx3GSX5kcBNwW1XB1Un4PO8IzP58925YjGn1U3CjdcN0XAVWTfX\n",
       "LZHudb4KGgt6u5ct4Blb5zUqxbuVcD7YSNZ/n2uOAyCNREF6joteiGYaDl+k7+DSBjVLF07mWigJ\n",
       "/gBr32JnugFWdHfY5JTY/AxFVe0SxFXy1aVksQKCq3dlJ6SVUYr5oeqjNOxOwmfGs+5u/7v8/FQX\n",
       "6Lrs2MRWTsycexJhlyGX1Tf+ih9cwDqvK2t7NuNXtDUx2Bed4FsJ+6b1x/rTb9IRjBQ+WqO83XUe\n",
       "Oqa4cnFN+pOx91ZuK5oXmomTn7ATdeduoK7NNvflvYC2cnBdp1Nts18HJ/zjDB3HXd9L0VjKUxP9\n",
       "M9UFGVs6r58W7h8E8bM8N8oMXSZJhYGpGXuqrVmD5rDjOfhRqfIETqucQru6kBtym+fHIvYdSqao\n",
       "lxfF5KTb0vzkEBTb0Wr2D+APTDmDdAC9hZEjjOp3x0hNFumPvws2qpdk+MHW9dVyYxqpnx+Ru9vU\n",
       "Or4yiL5coclJSsw1BJEv+Juh2y5qVcQIkGTcrJ8fCH/pP9avBLI5IYfyBGRU/GnZDwAEpe3x1zpA\n",
       "u4JiPVFWK4f5Za2G1xeIgmSRf9+zjRoG0TLNQr5MtS5X9bZDEbqe0/HB3tlzAtLoX1cj6XswP1Zx\n",
       "ws9VEJtisFZjdn1TKpiLFI1Rm311zw40oAyrq5JS3zXi27y1unW8UQKMw8u3XOt7nUb9iiWqYl8A\n",
       "aq7lGVDNIrD+p6gO+CBPlGoPk5Fkcg333dFmdCwj9gwmQAh+Vf8XCRsXuLX/eylG07tvtL4JOmdP\n",
       "pjzAgcWKraZsmHMDJE8rDJH9EaFDqZQMouOqA8u30U1ifnMuCCZ0E6iHVuSb2sS69wJmr4bG0Jv2\n",
       "WGZ0p6vE6w5q0MbCuqAfHBTezlHozWS3LA7PgbkG2w3WqZlnyJ1wlM4EWeeO5or+A47i72CdGjzt\n",
       "0cEoj1J+V7yMFJgIXJODEaK+6te9U2MEcRjXlbDcd9gyITuCIURfuYsGLY2Gt5le4KD9QQMS7tRO\n",
       "mgVXzvCnbqszmstwjHA80DZoYLxWNeulTFlo/ZSWXwS1dYG1kQMt1Eow+cwqFsYc7OnO9MNgHxUa\n",
       "mirsnzSZ4CysrdtkntwILvjJ5puYYDIIEMkDB/R2NcHMUeWieQfcLAaFQfv11MPDwOMoFlbGZy4K\n",
       "z3D8FY4quIpkEiVRkOh9t6WoseVgU0NrGw2t3PiEa4hE8eUg/17u5NAV7+PBYxOgziRooYuOSEQn\n",
       "HFFmr/mncX8KCNQZ7o89dxy9z5WNNhRlaqHmT8+AAAAAhUGeQniCHwAAAwBxJ7hJ5bzTmPprcuLj\n",
       "WD6hspTCg0uDdA4SCjchKHDp9vzoWngwCG5Kb8H6pu3pQlqservNFUfyQbZlno6D0QOnllVMOjZ6\n",
       "X9o7XaQXQVKET+GYvzGGdcjhlgdK9zWNACS1d2rCTeUhBvpk3kfC+kN2ExggmKjaH9NLcbkAAAA/\n",
       "AZ5hdEP/AAADAPhXsxnoUqIbIiOwx7aB7Ovt0h9h6Gx/iEZ80/s7mzzQaiL6AcyvrbqnyKwa0eqC\n",
       "kXM4xJOAAAAANAGeY2pD/wAAAwALoUG0Ao+UAykCX2UIekqfONhDlYhRoYOQafOQ3SNJdPDBN1WM\n",
       "egAAl4EAAAD6QZpoSahBaJlMCCn//taMsALMSy0eapM0RHk3siYICcZEpHLeyceoDAKvTSFZcVIx\n",
       "fX+FNNDhwlxe53yMkYtujgGDKr3s6aCEJg+QLPM4cM35u8NoJpd6hAv/70bMDbCiDDz6W/EHj+Xv\n",
       "Y6afTSW2RIsQq/3msniKksDQm7DlkelJD5tHXwVv4Ah3oLPWBM2/qu6KJCB4Cake1zTHP+WFkVuf\n",
       "yO4/jU6noTmXFP6eJIo6m0M2CIPEvVwba6kMzVe3uGeb+TONMBztXOMymiIGWPwPiJw0Ob3soLWH\n",
       "dODDBNfBJKN+7Kaf+ARtZ117xz1RgGMTaXQv0LaPgQAAAHJBnoZFESwQ/wAAAwAFLtXrzVyKZgHw\n",
       "cgFRVedGKq5pjPQXUDt4bAirBkyF/OSeuia7M/BLyX3zus7iVIX9DLkmzBF/NM3ytF2Su1kQ/I1h\n",
       "22uflPgjm/1AghYkee1NhNOGnmuneFOBSluQFBVjU11/MEEAAAA1AZ6ldEP/AAADAAugtunLUDzy\n",
       "eLeXhXCElFEo9vsX5efpS4J85isfzWjJdyLRCM/aW5AAesEAAAA7AZ6nakP/AAADAAuhQbQBtiuK\n",
       "0gDu5LcU2HzZygBZng1MT+RZZpha4CPP9YPgY4R/YWkLG6/hz/IACBgAAAD2QZqsSahBbJlMCCn/\n",
       "/taMsADuoeST7AAVhCeZu8HW7OoHDIrq3UDbxqqh0CQATZT4ccNIF703Hpuk/ckTMAJSVTf7+lJV\n",
       "dQ0CJ7D2l3Qex3z49QhrwGBTHIstpd3sUFuuatbcK5w0G0cPpB0e/DbJnHwKOlOUctYOkjNjivff\n",
       "V1UOZQEAXhy4agRzM6BDMunXnXX1/wwOJiSUvFA9q1Uxt8b4AMeAHkyt+lNGlVFNACfW+dUeck24\n",
       "6AhtJ4YpX4t5xtW95I4SSVkwCi2A2elH2DTYHi2q0kfe+3qFVUhwH6aXj4D094bc/7QEeNDxHpDQ\n",
       "cDzLTNMwAAAASUGeykUVLBD/AAADAOeWzeqM73r458X2iEmwNwAX/Y4Zqp2M8C1DNyE5AWOO6vuZ\n",
       "BifWtwMmeHbExIOeMVV+2VAwf2AcOiuRCbcAAAA1AZ7pdEP/AAADAfuvji1er7mQ41t6wAmIIN4a\n",
       "HJJLCJdJKk+cRcWoHhWlMt1HyQ2AC+Wy48AAAAAxAZ7rakP/AAADAAuieLyvfJ1nvegDYxR16P6d\n",
       "gk72X6WC1bLOx0HelmVFPxJY3AACXgAAAOpBmvBJqEFsmUwIKf/+1oywBKHHWAAKfYTPUivBgeB/\n",
       "RX2sXjYKoNEOsXRflaZwRsth7k2ulB4VE258AcrB6ceNfoK8/fVegJxxQiyxQRou4b3xauSnMzwY\n",
       "olEyeZ67JaStZgbmTp1LM0P7zdcPp4v0lV9BV4onKtkJYzIYyMvqThWLT7COkMEbsGwhRsZbxXZ+\n",
       "qad9LGWnLDxR4gz4nqUiA8mTpE0NzLsiRlegWF035c9An/Cr/a53sy2uCeG/A0e9n3GPg1ZHvoAx\n",
       "bOPJ5k9BOgGLKXWbKNAZvXwl6bvvXk4jLcBWNySAm4EAAABjQZ8ORRUsEP8AAAMCjfPq2ylP1DAA\n",
       "X3UWkIDGDylnk6vsHAbQNP92CdU4ro1xqvle8rQimK+Ri5DkPBtklScP4jKeh0xpPsWhB2d77st0\n",
       "5qIC+0VyV5cS7zFQkipBWSEzBHhBAAAANgGfLXRD/wAAAwAL7/x+bvPmAhVzM5zkPnOgVs69Kqml\n",
       "o8WfG4l/K8LW1pghzCidhcFquQySbwAAADsBny9qQ/8AAAMAC6Ex8AEttyC2UgYcbj/69+Su5UaV\n",
       "CaKm3OYz8LXOFcbGcJT9F++RbuTlOVJNBQADfgAAAIJBmzRJqEFsmUwIKf/+1oywABQr55x0bfqz\n",
       "gCZc+J5YLozwccctI6b5R2+SO6tiHvVwiycEwytc3aVENy5qyaziqPpZ8qyFDUPtfx924DIZ9v9x\n",
       "xQiNMsFN6FwvTage1hq9HOOYF+xCCZBD/zN44Kcs5iH3aFLYpLSpSKBFeaMAALKAAAAAXUGfUkUV\n",
       "LBD/AAADAo3z6tqO9bKuwAapHoeCsccybYBpLjKCuux8AzpJSsRugCOpRJuIqusExloBLQ7vvJ9M\n",
       "o015wXW3W2Lbf6vCe3W6PccOuP9bA6L4E8Vt4YXCwQAAAC8Bn3F0Q/8AAAWsW/WfgenoAoN2XBcs\n",
       "WJ0EIYHVlmRwUbPUkWiBHyIYhxUdmgAFlAAAACQBn3NqQ/8AAAMAC6E9vJsJs0PBNrAByBmpKHEX\n",
       "7BAsyaAA34AAAAB6QZt4SahBbJlMCCn//taMsAAUK+ecck90GAAHYdVkltwD1XajOgyEN3P1MsBf\n",
       "+giYZs+BMeJhoU6OyIuB64J/K3OKEpaThta0SMVbrPDqiXHKpJJsMbuwAok/Vk2tS3T5mcW8gIuk\n",
       "6al0HGj6FnECiPg6SOaUP9CgATcAAABEQZ+WRRUsEP8AAAMABJhBmAde08CFC3AKGATU0K82xNPp\n",
       "j9LfNkmu7Amzi37zq/w3Ovm3Mp5FMEw/1pmk1S3HxfdTnzAAAAAoAZ+1dEP/AAADAAo6l73btAIV\n",
       "bTwgEZCOIZfmd7oFyJOOU0J10AA5YQAAAB4Bn7dqQ/8AAAMACodHAIC1XjlJcEns2EQKfqAAYsEA\n",
       "AACWQZu8SahBbJlMCCn//taMsAAUK+ecck90GAAHXXlnXuoVvWwGS7+J46A3suOdIZh/7EohpnxK\n",
       "XJwsEzeeuKKPwGDW1OHFTjLgeSLOzoYepmxa9gSJhqJSDe56H5AOfVIZc8k/7Swglimfr/k83ITy\n",
       "BaA90jjAEpgXbWdMQtHsUYM4FkhZmA8dolX7XJvnfiyMpWssABJwAAAASUGf2kUVLBD/AAADAATn\n",
       "alB8AGXPxqyfrMPHvDeeD/Qu8/oSdNvHbmAsI29JUmAn/2rhWc6qtwOiIn8Af+wQbf2WHygLpDkI\n",
       "eH0AAAAfAZ/5dEP/AAADAAsSnl4JKeepKKV/N05q4h1oUwAHHAAAABwBn/tqQ/8AAAMACxI/um48\n",
       "ACZAU/1nNv5IAArZAAAAgkGb4EmoQWyZTAgn//61KoAATnGeqz1qyqYgXbrpN26/f9qs12Iv+73E\n",
       "bAVD6VnwZ/4g6igKh4+F3rKDO9hSYTozrAjawFIPCaEJnjcsriUshNKQJJfiS4scJivO9SJCxEIz\n",
       "wTbYTsDVI7xR75CmMzB6DhZP0hVOpFwDSXjAlxAAi4EAAAAzQZ4eRRUsEP8AAAMABWPoTdV2IZWW\n",
       "4QCN8a3bNyDM2zI/DdH6DWa2GATndLwUFq/GZtOAAAAAPgGePXRD/wAAAwAuo4fB9/cFOBCbUWJo\n",
       "gf4KWSiu3BegUgnHItaa9TeJJsFjlyLXLUzecMERAUtwxvAwAD1gAAAAGQGeP2pD/wAAAwALEj5p\n",
       "+UDnMWYVyXwAH3EAAACTQZokSahBbJlMCCf//rUqgABOcZ6rPWrKpiBdkLk32ljQHuJsLC6dOguL\n",
       "bHeEtFuCylXq4YcLDLn6A/DTaYDqSZ7JFXQ7RjDlVdwMXjuWsf+RWQkLrWGdhA+He5GxG/7RzrWq\n",
       "52dvWrvZnonBqfgs8b/Rvu1HGV1GhCkDBW8VX2pgNGVp68Jmw64SWvDUvskMAAkYAAAAN0GeQkUV\n",
       "LBD/AAADAAUbZDnjGAxs4QZ/b4IcyyjkC/UoicpqVuQ5kIh2TY3Sx+U+yMIl+YCaH8EAAAAyAZ5h\n",
       "dEP/AAADAAtYs9JBP3QCnBzn5F2vvp5/nXvkUauW/ZoDRK18FUGZvQTnc+AAccAAAAAnAZ5jakP/\n",
       "AAADABDnIcJQw2qYs9Wd8qVQ0VXBBli7IaPOspYEABixAAAAj0GaaEmoQWyZTAgn//61KoAATnGe\n",
       "qzwWHk1mAKynlVnQDwrGQWNEUrKqLwTi4keZlGiPRGTgkE45XAyaNGWqg+ncR1HkdY4x3WgkR30S\n",
       "Kte8+mO3SjDWPQKN9vl8IPY7Q0Y6hRQmQ2ncgh5zse2puhTEgDbTVdGHriq5HpMd68AN6HlyP0xi\n",
       "6tPXmJ2AALKBAAAARUGehkUVLBD/AAADAAUbZErYxgHpGzHNs9m73n88g2aCSVOHf0Uf2FmzKOcI\n",
       "ywt31p8acv4q/FoTIfqikNMAM6BG8F7BYQAAABoBnqV0Q/8AAAMACxC4uBopL7IUz2AAAAMDewAA\n",
       "ACkBnqdqQ/8AAAMAC1PMeaO6aAZKhGbg4dskVjSOR7wSh036l5wweyAFBAAAAMVBmqxJqEFsmUwI\n",
       "Jf/+tSqAAAAEIcGkwBP+u0BdVxSyvHYeGiaKdXWQDKtT2ZsgAVlfq8c8H7tVZbRRLxg9USoOlG08\n",
       "oKNOtU4xReGtUevMZv+sVuqFpcQ1H/vqw9SJm2yHSwgiKzE0ymjjPcloS4QAdKKN7NMBkRblOqxV\n",
       "5okz6OvDQbQi1qPHYvD5zrpQRizOeg1aFhKynWfhhkIlHGTsvLpaOD7zxsUzbyKwNlYLSJ1BeqT7\n",
       "6Q96sOXSbZrV7z7eBgAJ2AAAAExBnspFFSwQ/wAAAwAFP/KagDUx2p52V69iQpVh4j0EtKaoaoNL\n",
       "1EqVzMoLk+EdhU78ZycWCCumLfApVOu5zEK91KDNy5pc8VlnwPAhAAAAPgGe6XRD/wAAAwALopdJ\n",
       "s7NXQA5ilNXJJI858WbSmqcxi7X3tCkIpKLlF100+NQs/gWpAqEWkbJb4gA4AEnAAAAANAGe62pD\n",
       "/wAAAwALoTORSffI1ALItycM/FmJfgMT8oEx6cjzhEPzAn9YwqYOWa2W4kIACXgAAAB0QZrvSahB\n",
       "bJlMCH///qmWAAADAgB3fAFz7YGRulAr4CliJ5IU2Is7RYN9wfPe9FjGxXC0YuYgjZ6vb6W78Hif\n",
       "I3t/aYXtwJ7ykGPc+mMRq6tm8CT0u80Ktwk03CX4LznmuKN+4eCOCK7JvniPD1EeZAAA7oEAAABJ\n",
       "QZ8NRRUsEP8AAAMABUBefSJ5Se+iWjSAQJRGm1nfIX73APyTk5HDbrYffLVm2nvi4ndbqDvvl9xv\n",
       "a/TRtfvVHo4c0dUGiL8JOQAAAEUBny5qQ/8AAAMAGcDLTknPlrNgKEZPSavxfXfSR7F76NnT6tbv\n",
       "9ojBVyxQdJDaJEDnyY2aKRCqoBM0UCfp91f9+XAAYMEAAAVqbW9vdgAAAGxtdmhkAAAAAAAAAAAA\n",
       "AAAAAAAD6AAAJYAAAQAAAQAAAAAAAAAAAAAAAAEAAAAAAAAAAAAAAAAAAAABAAAAAAAAAAAAAAAA\n",
       "AABAAAAAAAAAAAAAAAAAAAAAAAAAAAAAAAAAAAAAAAAAAgAABJR0cmFrAAAAXHRraGQAAAADAAAA\n",
       "AAAAAAAAAAABAAAAAAAAJYAAAAAAAAAAAAAAAAAAAAAAAAEAAAAAAAAAAAAAAAAAAAABAAAAAAAA\n",
       "AAAAAAAAAABAAAAAAoAAAAHgAAAAAAAkZWR0cwAAABxlbHN0AAAAAAAAAAEAACWAAAAQAAABAAAA\n",
       "AAQMbWRpYQAAACBtZGhkAAAAAAAAAAAAAAAAAAAoAAABgABVxAAAAAAALWhkbHIAAAAAAAAAAHZp\n",
       "ZGUAAAAAAAAAAAAAAABWaWRlb0hhbmRsZXIAAAADt21pbmYAAAAUdm1oZAAAAAEAAAAAAAAAAAAA\n",
       "ACRkaW5mAAAAHGRyZWYAAAAAAAAAAQAAAAx1cmwgAAAAAQAAA3dzdGJsAAAAt3N0c2QAAAAAAAAA\n",
       "AQAAAKdhdmMxAAAAAAAAAAEAAAAAAAAAAAAAAAAAAAAAAoAB4ABIAAAASAAAAAAAAAABAAAAAAAA\n",
       "AAAAAAAAAAAAAAAAAAAAAAAAAAAAAAAAAAAAGP//AAAANWF2Y0MBZAAW/+EAGGdkABas2UCgPaEA\n",
       "AAMAAQAAAwAKDxYtlgEABmjr48siwP34+AAAAAAcdXVpZGtoQPJfJE/FujmlG88DI/MAAAAAAAAA\n",
       "GHN0dHMAAAAAAAAAAQAAADAAAAgAAAAAFHN0c3MAAAAAAAAAAQAAAAEAAAGIY3R0cwAAAAAAAAAv\n",
       "AAAAAQAAEAAAAAABAAAoAAAAAAEAABAAAAAAAQAAAAAAAAABAAAIAAAAAAEAACgAAAAAAQAAEAAA\n",
       "AAABAAAAAAAAAAEAAAgAAAAAAQAAKAAAAAABAAAQAAAAAAEAAAAAAAAAAQAACAAAAAABAAAoAAAA\n",
       "AAEAABAAAAAAAQAAAAAAAAABAAAIAAAAAAEAACgAAAAAAQAAEAAAAAABAAAAAAAAAAEAAAgAAAAA\n",
       "AQAAKAAAAAABAAAQAAAAAAEAAAAAAAAAAQAACAAAAAABAAAoAAAAAAEAABAAAAAAAQAAAAAAAAAB\n",
       "AAAIAAAAAAEAACgAAAAAAQAAEAAAAAABAAAAAAAAAAEAAAgAAAAAAQAAKAAAAAABAAAQAAAAAAEA\n",
       "AAAAAAAAAQAACAAAAAABAAAoAAAAAAEAABAAAAAAAQAAAAAAAAABAAAIAAAAAAEAACgAAAAAAQAA\n",
       "EAAAAAABAAAAAAAAAAEAAAgAAAAAAQAAIAAAAAACAAAIAAAAABxzdHNjAAAAAAAAAAEAAAABAAAA\n",
       "MAAAAAEAAADUc3RzegAAAAAAAAAAAAAAMAAAQToAAAzbAAAAiQAAAEMAAAA4AAAA/gAAAHYAAAA5\n",
       "AAAAPwAAAPoAAABNAAAAOQAAADUAAADuAAAAZwAAADoAAAA/AAAAhgAAAGEAAAAzAAAAKAAAAH4A\n",
       "AABIAAAALAAAACIAAACaAAAATQAAACMAAAAgAAAAhgAAADcAAABCAAAAHQAAAJcAAAA7AAAANgAA\n",
       "ACsAAACTAAAASQAAAB4AAAAtAAAAyQAAAFAAAABCAAAAOAAAAHgAAABNAAAASQAAABRzdGNvAAAA\n",
       "AAAAAAEAAAAwAAAAYnVkdGEAAABabWV0YQAAAAAAAAAhaGRscgAAAAAAAAAAbWRpcmFwcGwAAAAA\n",
       "AAAAAAAAAAAtaWxzdAAAACWpdG9vAAAAHWRhdGEAAAABAAAAAExhdmY1OC43Ni4xMDA=\n",
       "\">\n",
       "  Your browser does not support the video tag.\n",
       "</video>"
      ],
      "text/plain": [
       "<IPython.core.display.HTML object>"
      ]
     },
     "execution_count": 28,
     "metadata": {},
     "output_type": "execute_result"
    }
   ],
   "source": [
    "def_preds_reconstructed2 = def_preds_reconstructed.copy()\n",
    "# def_preds_reconstructed2[def_preds_reconstructed2 > 0.3] = 1\n",
    "deter_img_test2[deter_img_test2 > 0] = 1\n",
    "display_video(def_preds_reconstructed2, deter_img_test2)"
   ]
  },
  {
   "cell_type": "code",
   "execution_count": 5,
   "metadata": {},
   "outputs": [
    {
     "name": "stdout",
     "output_type": "stream",
     "text": [
      "(48, 2333, 3005)\n",
      "(2333, 3005)\n"
     ]
    }
   ],
   "source": [
    "print(deter_img_test.shape)\n",
    "print(mask.shape)"
   ]
  },
  {
   "cell_type": "code",
   "execution_count": 4,
   "metadata": {},
   "outputs": [
    {
     "name": "stdout",
     "output_type": "stream",
     "text": [
      "Test Patches: (48, 1656, 64, 64)\n",
      "Mask Test Patches: (1656, 64, 64)\n"
     ]
    }
   ],
   "source": [
    "test_patches = extract_temporal_sorted_patches(deter_img_test, training_config['patch_size'])\n",
    "print('Test Patches:', test_patches.shape)\n",
    "\n",
    "mask_test_patches = extract_sorted_patches(mask, training_config['patch_size'])\n",
    "print('Mask Test Patches:', mask_test_patches.shape)"
   ]
  },
  {
   "cell_type": "code",
   "execution_count": 5,
   "metadata": {},
   "outputs": [
    {
     "name": "stderr",
     "output_type": "stream",
     "text": [
      "Dividing in prediction windows:   0%|          | 0/71208 [00:00<?, ?it/s]/home/thiago/python-envs/base/lib/python3.10/site-packages/numpy/core/fromnumeric.py:3504: RuntimeWarning: Mean of empty slice.\n",
      "  return _methods._mean(a, axis=axis, dtype=dtype,\n",
      "/home/thiago/python-envs/base/lib/python3.10/site-packages/numpy/core/_methods.py:129: RuntimeWarning: invalid value encountered in scalar divide\n",
      "  ret = ret.dtype.type(ret / rcount)\n",
      "Dividing in prediction windows: 100%|██████████| 71208/71208 [00:03<00:00, 19294.83it/s]\n"
     ]
    },
    {
     "name": "stdout",
     "output_type": "stream",
     "text": [
      "0 Skipped Images\n",
      "Test shape: (71208, 6, 64, 64)\n"
     ]
    }
   ],
   "source": [
    "# test_files, mask_test_files, _ = divide_pred_windows(test_patches, min_def=0, window_size=training_config['total_length'],\\\n",
    "#     mask_patches=mask_test_patches)\n",
    "test_patches = test_patches.transpose(1, 0, 2, 3)\n",
    "test_files, mask_test_files, _ = divide_pred_windows(test_patches, min_def=0, window_size=training_config['total_length'])\n",
    "# print(f'Test shape: {test_files.shape} - {mask_test_files.shape}')\n",
    "print(f'Test shape: {test_files.shape}')\n",
    "# del test_patches, mask_test_patches\n",
    "del test_patches"
   ]
  },
  {
   "cell_type": "code",
   "execution_count": 6,
   "metadata": {},
   "outputs": [
    {
     "name": "stdout",
     "output_type": "stream",
     "text": [
      "Skipped 71030 patches\n"
     ]
    }
   ],
   "source": [
    "min_def = 0.005\n",
    "skip_count = 0\n",
    "def_indexes = []\n",
    "def_means = []\n",
    "for i in range(test_files.shape[0]):\n",
    "    # print(f'Processing {i} of {test_files.shape[0]}')\n",
    "    # test_files[i] = (test_files[i] - mean_std[0])/mean_std[1]\n",
    "    patches = test_files[i]\n",
    "    labels = patches[-2:]\n",
    "    # _label = labels[:, mask_test_files[i] == 1]\n",
    "    # _label[_label > 0] = 1\n",
    "    # print(labels.shape)\n",
    "    # mean = np.mean(_label, axis=(0, 1))\n",
    "    mean = np.mean(labels, axis=(0, 1, 2))\n",
    "    # 1/0\n",
    "    # Deal with Nan\n",
    "    if np.isnan(mean): mean = 0\n",
    "    # if np.isnan(mean[0]): mean[0] = 0\n",
    "    # if np.isnan(mean[1]): mean[1] = 0\n",
    "    # if mean[0] < min_def or mean[1] < min_def:\n",
    "    if mean < min_def:\n",
    "    # if mean[0] + mean[1] < min_def:\n",
    "        skip_count += 1\n",
    "        # print('here')\n",
    "        continue\n",
    "    # print(mean.shape)\n",
    "    # print(mean[0] + mean[1])\n",
    "    def_indexes.append(i)\n",
    "    def_means.append(mean)\n",
    "    # patches_pred = preds[i, 1]\n",
    "    # patches_pred[:, mask_test_files[i] == 0] = -1\n",
    "    # patches[:, mask_test_files[i] == 0] = -1\n",
    "    # print('finished')\n",
    "    # break\n",
    "print(f'Skipped {skip_count} patches')"
   ]
  },
  {
   "cell_type": "code",
   "execution_count": 12,
   "metadata": {},
   "outputs": [
    {
     "name": "stdout",
     "output_type": "stream",
     "text": [
      "(6, 64, 64)\n",
      "277\n",
      "277\n",
      "[556, 562, 602, 799, 2253, 2255, 2256, 2300, 2301, 2302, 2605, 2610, 2651, 2652, 2691, 2692, 2693, 2694, 2695, 2696, 2736, 2737, 2738, 2739, 2740, 2741, 2742, 2743, 2744, 2785, 2791, 2792, 3812, 3813, 3817, 3858, 3859, 3862, 3863, 3864, 3865, 3866, 3904, 3905, 3906, 3907, 3908, 3909, 3910, 3911, 3912, 3913, 3914, 3916, 3917, 3950, 3951, 3952, 3957, 3958, 3959, 3960, 4048, 4102, 4292, 4293, 4294, 4339, 4340, 4385, 4386, 5514, 5515, 5555, 5556, 5562, 5563, 5564, 5603, 5604, 5608, 5609, 5991, 6037, 6038, 7688, 7693, 7694, 12595, 12907, 12908, 12909, 14160, 14206, 14252, 14253, 14292, 14512, 17112, 24464, 24465, 24466, 24510, 24511, 25849, 26851, 26852, 30465, 30522, 30523, 31022, 31068, 31069, 31114, 35418, 35419, 37121, 37122, 37672, 37673, 37718, 38578, 38579, 38773, 38774, 40424, 40425, 41931, 42022, 45246, 45376, 45377, 46617, 46760, 46975, 48318, 48319, 48487, 48488, 48547, 48548, 48970, 48971, 50014, 50015, 50143, 50144, 50145, 50146, 50281, 50330, 50331, 51932, 51980, 51981, 51991, 51992, 52076, 52178, 52179, 52182, 52225, 52226, 52270, 52271, 52272, 52273, 52274, 53488, 53489, 53534, 53579, 53583, 53626, 53627, 53631, 53632, 53633, 53917, 53918, 53921, 55293, 55294, 55484, 56783, 56784, 56881, 58174, 58269, 58270, 58584, 58585, 58586, 58826, 58827, 58868, 58869, 58870, 60092, 60093, 60138, 60187, 60188, 60235, 60236, 60331, 60387, 60388, 60433, 60434, 60474, 60475, 60477, 60478, 60479, 60480, 60519, 60520, 60521, 60524, 60525, 60526, 61887, 65390, 65431, 65432, 65473, 65477, 65478, 66697, 66850, 66851, 66944, 66945, 67037, 67038, 67081, 67082, 67083, 67084, 67085, 67124, 67125, 67126, 67128, 67129, 71424, 71425, 71555, 71608, 71609, 71792, 71793, 71849, 71946, 71952, 71994, 72031, 72077, 72168, 72988, 75378, 75379, 75380, 75420, 75421, 75470, 76756, 76757, 77053, 78081, 78082, 78254, 78348, 78638, 78639, 78685]\n"
     ]
    }
   ],
   "source": [
    "print(patches.shape)\n",
    "# print(patches_pred.shape)\n",
    "print(len(def_indexes))\n",
    "print(len(def_means))\n",
    "print(def_indexes)"
   ]
  },
  {
   "cell_type": "code",
   "execution_count": 12,
   "metadata": {},
   "outputs": [],
   "source": [
    "filter_size = 10\n",
    "kernel = cv2.getStructuringElement(cv2.MORPH_ELLIPSE, (filter_size,filter_size))"
   ]
  },
  {
   "cell_type": "code",
   "execution_count": 13,
   "metadata": {},
   "outputs": [
    {
     "name": "stdout",
     "output_type": "stream",
     "text": [
      "34635\n",
      "(79248, 1, 2, 64, 64)\n",
      "(6, 64, 64)\n",
      "4.0\n",
      "0.0\n",
      "0.0\n",
      "48.0\n",
      "41.0\n",
      "5.0\n"
     ]
    },
    {
     "data": {
      "image/png": "[encoded data removed]",
      "text/plain": [
       "<Figure size 1500x1000 with 16 Axes>"
      ]
     },
     "metadata": {},
     "output_type": "display_data"
    }
   ],
   "source": [
    "import matplotlib.pyplot as plt\n",
    "from mpl_toolkits.axes_grid1 import make_axes_locatable\n",
    "\n",
    "# Pick a random number from the list\n",
    "index = np.random.choice(def_indexes)\n",
    "# index = np.random.choice(np.arange(71208))\n",
    "index = 34635\n",
    "# index = 49669\n",
    "# index = index\n",
    "# cont=0\n",
    "# cont -= -1\n",
    "# index = def_indexes[cont]\n",
    "print(index)\n",
    "print(preds.shape)\n",
    "patches_pred = preds[index, 0]\n",
    "patches2 = test_files[index]\n",
    "patches = patches2.copy()\n",
    "# patches_pred[:, mask_test_files[index] == 0] = -1\n",
    "print(patches.shape)\n",
    "\n",
    "# patches[patches > 0] = 1\n",
    "# patches[patches < 0] = 0\n",
    "\n",
    "# print(np.sum(patches[0]))\n",
    "# print(np.sum(patches[1]))\n",
    "for i in range(patches.shape[0]):\n",
    "    patches_sum = patches[i]\n",
    "    patches_sum = patches_sum[patches_sum != -1]\n",
    "    # print(np.sum(patches[i]))\n",
    "    print(np.sum(patches_sum))\n",
    "    # if np.sum(patches[i]) > 0:\n",
    "    if np.sum(patches_sum) > 0:\n",
    "        patches[i] = cv2.dilate(patches[i], kernel, iterations=1)\n",
    "        pass\n",
    "# patches = cv2.dilate(patches, kernel, iterations=1)\n",
    "# patches[:, mask_test_files[index] == 0] = -1\n",
    "    \n",
    "fig, axs = plt.subplots(2, 4, figsize=(15, 10))\n",
    "\n",
    "patches_plot = np.concatenate((patches, patches_pred), axis=0)\n",
    "for i in range(2):\n",
    "    for j in range(4):\n",
    "        im = axs[i, j].imshow(patches_plot[i*4 + j])\n",
    "        divider = make_axes_locatable(axs[i, j])\n",
    "        cax = divider.append_axes(\"right\", size=\"10%\", pad=0.1)\n",
    "        fig.colorbar(im, cax=cax)\n",
    "        # axs[i, j].axis('off')\n",
    "\n",
    "plt.tight_layout()\n",
    "plt.show()"
   ]
  },
  {
   "cell_type": "code",
   "execution_count": 18,
   "metadata": {},
   "outputs": [
    {
     "ename": "KeyboardInterrupt",
     "evalue": "",
     "output_type": "error",
     "traceback": [
      "\u001b[0;31m---------------------------------------------------------------------------\u001b[0m",
      "\u001b[0;31mKeyboardInterrupt\u001b[0m                         Traceback (most recent call last)",
      "Cell \u001b[0;32mIn[18], line 6\u001b[0m\n\u001b[1;32m      1\u001b[0m \u001b[38;5;66;03m#apply pred mask\u001b[39;00m\n\u001b[1;32m      2\u001b[0m \u001b[38;5;28;01mfor\u001b[39;00m i \u001b[38;5;129;01min\u001b[39;00m \u001b[38;5;28mrange\u001b[39m(preds\u001b[38;5;241m.\u001b[39mshape[\u001b[38;5;241m0\u001b[39m]):\n\u001b[1;32m      3\u001b[0m     \u001b[38;5;66;03m# preds[i, :, patches_pred[i] == 1] = -1\u001b[39;00m\n\u001b[1;32m      4\u001b[0m     \u001b[38;5;66;03m# patches_pred = preds[i, 1]\u001b[39;00m\n\u001b[1;32m      5\u001b[0m     \u001b[38;5;66;03m# print(preds[i].shape)\u001b[39;00m\n\u001b[0;32m----> 6\u001b[0m     preds[i, :, :, mask_test_files[i] \u001b[38;5;241m==\u001b[39m \u001b[38;5;241m0\u001b[39m] \u001b[38;5;241m=\u001b[39m \u001b[38;5;241m-\u001b[39m\u001b[38;5;241m1\u001b[39m\n",
      "\u001b[0;31mKeyboardInterrupt\u001b[0m: "
     ]
    }
   ],
   "source": [
    "#apply pred mask\n",
    "for i in range(preds.shape[0]):\n",
    "    # preds[i, :, patches_pred[i] == 1] = -1\n",
    "    # patches_pred = preds[i, 1]\n",
    "    # print(preds[i].shape)\n",
    "    preds[i, :, :, mask_test_files[i] == 0] = -1"
   ]
  },
  {
   "cell_type": "code",
   "execution_count": 58,
   "metadata": {},
   "outputs": [
    {
     "name": "stdout",
     "output_type": "stream",
     "text": [
      "(79248, 2, 2, 64, 64)\n"
     ]
    }
   ],
   "source": [
    "print(preds.shape)"
   ]
  },
  {
   "cell_type": "code",
   "execution_count": 9,
   "metadata": {},
   "outputs": [
    {
     "data": {
      "image/png": "[encoded data removed]",
      "text/plain": [
       "<Figure size 640x480 with 1 Axes>"
      ]
     },
     "metadata": {},
     "output_type": "display_data"
    }
   ],
   "source": [
    "# def_preds = preds[:, 1]\n",
    "# def_preds = def_preds[def_preds != -1]\n",
    "test_files2 = test_patches.copy()\n",
    "test_files2[test_files2 > 0] = 1\n",
    "test_files2[test_files2 <= 0] = 0\n",
    "test_files3 = test_files2[test_files2 == 1]\n",
    "# Plot histogram\n",
    "plt.hist(test_files3.reshape(-1), bins=100)\n",
    "plt.show()"
   ]
  },
  {
   "cell_type": "code",
   "execution_count": 9,
   "metadata": {},
   "outputs": [
    {
     "data": {
      "image/png": "[encoded data removed]",
      "text/plain": [
       "<Figure size 640x480 with 1 Axes>"
      ]
     },
     "metadata": {},
     "output_type": "display_data"
    }
   ],
   "source": [
    "def_preds = preds[:, 1]\n",
    "def_preds = def_preds[def_preds != -1]\n",
    "\n",
    "# Plot histogram\n",
    "plt.hist(def_preds, bins=100)\n",
    "plt.show()"
   ]
  },
  {
   "cell_type": "code",
   "execution_count": 10,
   "metadata": {},
   "outputs": [
    {
     "data": {
      "image/png": "[encoded data removed]",
      "text/plain": [
       "<Figure size 640x480 with 1 Axes>"
      ]
     },
     "metadata": {},
     "output_type": "display_data"
    }
   ],
   "source": [
    "no_def_preds = preds[:, 0]\n",
    "no_def_preds = no_def_preds[no_def_preds != -1]\n",
    "\n",
    "# Plot histogram\n",
    "plt.hist(no_def_preds, bins=100)\n",
    "plt.show()"
   ]
  },
  {
   "cell_type": "code",
   "execution_count": null,
   "metadata": {},
   "outputs": [],
   "source": []
  }
 ],
 "metadata": {
  "kernelspec": {
   "display_name": "base",
   "language": "python",
   "name": "python3"
  },
  "language_info": {
   "codemirror_mode": {
    "name": "ipython",
    "version": 3
   },
   "file_extension": ".py",
   "mimetype": "text/x-python",
   "name": "python",
   "nbconvert_exporter": "python",
   "pygments_lexer": "ipython3",
   "version": "3.10.12"
  }
 },
 "nbformat": 4,
 "nbformat_minor": 2
}
