{
 "cells": [
  {
   "cell_type": "code",
   "execution_count": 1,
   "metadata": {},
   "outputs": [
    {
     "name": "stderr",
     "output_type": "stream",
     "text": [
      "/tmp/ipykernel_323120/2037661066.py:2: DeprecationWarning: \n",
      "Pyarrow will become a required dependency of pandas in the next major release of pandas (pandas 3.0),\n",
      "(to allow more performant data types, such as the Arrow string type, and better interoperability with other libraries)\n",
      "but was not found to be installed on your system.\n",
      "If this would cause problems for you,\n",
      "please provide us feedback at https://github.com/pandas-dev/pandas/issues/54466\n",
      "        \n",
      "  import pandas as pd\n"
     ]
    }
   ],
   "source": [
    "import numpy as np\n",
    "import pandas as pd\n",
    "import geopandas as gpd\n",
    "from tqdm import tqdm\n",
    "from random import shuffle\n",
    "\n",
    "import matplotlib.pyplot as plt\n",
    "import seaborn as sns\n",
    "\n",
    "import data.giovanni_model.config as config\n",
    "from data.giovanni_model.utils import compute_frames"
   ]
  },
  {
   "cell_type": "code",
   "execution_count": 2,
   "metadata": {},
   "outputs": [
    {
     "name": "stderr",
     "output_type": "stream",
     "text": [
      "/home/thiago/python-envs/base/lib/python3.10/site-packages/tqdm/auto.py:21: TqdmWarning: IProgress not found. Please update jupyter and ipywidgets. See https://ipywidgets.readthedocs.io/en/stable/user_install.html\n",
      "  from .autonotebook import tqdm as notebook_tqdm\n"
     ]
    }
   ],
   "source": [
    "import torch\n",
    "from torch.utils.data import Dataset"
   ]
  },
  {
   "cell_type": "code",
   "execution_count": 3,
   "metadata": {},
   "outputs": [],
   "source": [
    "sns.set_style(\"darkgrid\", {\"grid.color\": \".6\", \"grid.linestyle\": \":\"})"
   ]
  },
  {
   "cell_type": "code",
   "execution_count": 4,
   "metadata": {},
   "outputs": [],
   "source": [
    "# set device to GPU\n",
    "dev = \"cuda:0\""
   ]
  },
  {
   "cell_type": "markdown",
   "metadata": {},
   "source": [
    "# History dataset generation"
   ]
  },
  {
   "cell_type": "code",
   "execution_count": 5,
   "metadata": {},
   "outputs": [],
   "source": [
    "# load legal amazon limits\n",
    "am_bounds = gpd.read_file(config.AMAZON_FRONTIER_DATA)"
   ]
  },
  {
   "cell_type": "code",
   "execution_count": 6,
   "metadata": {},
   "outputs": [],
   "source": [
    "# load frames idx detail\n",
    "frames_idx = pd.read_csv(config.TR_FRAMES_IDX, index_col=0)"
   ]
  },
  {
   "cell_type": "code",
   "execution_count": 7,
   "metadata": {},
   "outputs": [],
   "source": [
    "# load frames deforestation area history\n",
    "deforestation = pd.read_csv(config.TR_DEFORESTATION, index_col=0)\n",
    "deforestation[\"quarter_date\"] = pd.to_datetime(deforestation[\"quarter_date\"])"
   ]
  },
  {
   "cell_type": "code",
   "execution_count": 8,
   "metadata": {},
   "outputs": [],
   "source": [
    "# counties\n",
    "frames_county = pd.read_csv(config.TR_COUNTIES, index_col=0)\n",
    "counties_defor = pd.read_csv(config.TR_COUNTIES_DEFOR, index_col=0)"
   ]
  },
  {
   "cell_type": "code",
   "execution_count": 9,
   "metadata": {},
   "outputs": [],
   "source": [
    "# precipitations\n",
    "precip = pd.read_csv(config.TR_RAIN_AVG)\n",
    "precip[\"quarter_date\"] = pd.to_datetime(precip[\"dt\"])"
   ]
  },
  {
   "cell_type": "code",
   "execution_count": 10,
   "metadata": {},
   "outputs": [],
   "source": [
    "# terrain position index\n",
    "tpi = pd.read_csv(config.TR_TPI, skiprows=1)\\\n",
    "    .rename(columns={\"Unnamed: 0\": \"frame_id\"})"
   ]
  },
  {
   "cell_type": "code",
   "execution_count": 11,
   "metadata": {},
   "outputs": [],
   "source": [
    "# land cover\n",
    "landcover = pd.read_csv(config.TR_LANDCOVER)\n",
    "landcover = pd.pivot_table(\n",
    "    landcover, \n",
    "    index=[\"frame_id\"], \n",
    "    columns=[\"landcover\"], \n",
    "    values=\"geometry\", \n",
    "    aggfunc=\"sum\"\n",
    ").fillna(0).astype(int)\n",
    "# convert to percentage\n",
    "sum_by_frame = landcover.sum(axis=1)\n",
    "for col in landcover.columns:\n",
    "    landcover[col] = landcover[col] / sum_by_frame"
   ]
  },
  {
   "cell_type": "code",
   "execution_count": 12,
   "metadata": {},
   "outputs": [],
   "source": [
    "# past scores\n",
    "past_scores = pd.read_csv(config.TR_PAST_SCORES)\n",
    "past_scores[\"variable\"] = pd.to_datetime(past_scores[\"variable\"])"
   ]
  },
  {
   "cell_type": "code",
   "execution_count": 13,
   "metadata": {},
   "outputs": [],
   "source": [
    "# night lights\n",
    "night_light = pd.read_csv(config.TR_NIGHT_LIGHT)\n",
    "night_light[\"dt\"] = pd.to_datetime(night_light[\"dt\"])"
   ]
  },
  {
   "cell_type": "markdown",
   "metadata": {},
   "source": [
    "## Create grid"
   ]
  },
  {
   "cell_type": "code",
   "execution_count": 14,
   "metadata": {},
   "outputs": [],
   "source": [
    "# create limits history grid\n",
    "time_grid = np.zeros((len(config.TIME_STEPS), frames_idx[\"x\"].max() - frames_idx[\"x\"].min() + 1, frames_idx[\"y\"].max() - frames_idx[\"y\"].min() + 1))\n",
    "for t, dt in enumerate(config.TIME_STEPS):\n",
    "    defor_area = (\n",
    "        deforestation[\n",
    "            deforestation[\"quarter_date\"] == dt\n",
    "        ].set_index(\"frame_id\")[\"area\"] +\\\n",
    "        pd.Series(0, index=frames_idx.index)\n",
    "    ).fillna(0).sort_index()\n",
    "    time_grid[t, :, :] = defor_area.values.reshape(time_grid[0, :, :].shape)"
   ]
  },
  {
   "cell_type": "code",
   "execution_count": 15,
   "metadata": {},
   "outputs": [
    {
     "data": {
      "text/plain": [
       "(28, 1002, 778)"
      ]
     },
     "execution_count": 15,
     "metadata": {},
     "output_type": "execute_result"
    }
   ],
   "source": [
    "time_grid.shape"
   ]
  },
  {
   "cell_type": "markdown",
   "metadata": {},
   "source": [
    "# Counties data"
   ]
  },
  {
   "cell_type": "markdown",
   "metadata": {},
   "source": [
    "## Population and density"
   ]
  },
  {
   "cell_type": "code",
   "execution_count": 16,
   "metadata": {},
   "outputs": [],
   "source": [
    "county_data = np.zeros((2, frames_idx[\"x\"].max() - frames_idx[\"x\"].min() + 1, frames_idx[\"y\"].max() - frames_idx[\"y\"].min() + 1))\n",
    "county_data[0] = (\n",
    "    frames_county.set_index(\"frame_id\")[\"populacao\"] +\\\n",
    "    pd.Series(0, index=frames_idx.index)\n",
    ").fillna(0).\\\n",
    "    values.reshape(county_data.shape[1:])\n",
    "\n",
    "county_data[1] = (\n",
    "    frames_county.set_index(\"frame_id\")[\"densidade\"] +\\\n",
    "    pd.Series(0, index=frames_idx.index)\n",
    ").fillna(0).\\\n",
    "    values.reshape(county_data.shape[1:])"
   ]
  },
  {
   "cell_type": "code",
   "execution_count": 17,
   "metadata": {},
   "outputs": [
    {
     "data": {
      "text/plain": [
       "(2, 1002, 778)"
      ]
     },
     "execution_count": 17,
     "metadata": {},
     "output_type": "execute_result"
    }
   ],
   "source": [
    "county_data.shape"
   ]
  },
  {
   "cell_type": "markdown",
   "metadata": {},
   "source": [
    "## Deforestation"
   ]
  },
  {
   "cell_type": "code",
   "execution_count": 18,
   "metadata": {},
   "outputs": [],
   "source": [
    "frames_counties_defor = pd.merge(\n",
    "    counties_defor,\n",
    "    frames_county[[\"frame_id\", \"county_id\"]],\n",
    "    on=\"county_id\",\n",
    "    how=\"right\"\n",
    ")\n",
    "frames_counties_defor[\"quarter_date\"] = pd.to_datetime(frames_counties_defor[\"quarter_date\"])"
   ]
  },
  {
   "cell_type": "code",
   "execution_count": 19,
   "metadata": {},
   "outputs": [
    {
     "name": "stderr",
     "output_type": "stream",
     "text": [
      "28it [00:04,  6.08it/s]\n"
     ]
    }
   ],
   "source": [
    "# create limits history grid\n",
    "counties_time_grid = np.zeros((len(config.TIME_STEPS), frames_idx[\"x\"].max() - frames_idx[\"x\"].min() + 1, frames_idx[\"y\"].max() - frames_idx[\"y\"].min() + 1))\n",
    "for t, dt in tqdm(enumerate(config.TIME_STEPS)):\n",
    "    defor_area = (\n",
    "        frames_counties_defor[\n",
    "            frames_counties_defor[\"quarter_date\"] == dt\n",
    "        ].set_index(\"frame_id\")[\"area\"] +\\\n",
    "        pd.Series(0, index=frames_idx.index)\n",
    "    ).fillna(0).sort_index()\n",
    "    counties_time_grid[t, :, :] = defor_area.values.reshape(counties_time_grid[0, :, :].shape)"
   ]
  },
  {
   "cell_type": "code",
   "execution_count": 20,
   "metadata": {},
   "outputs": [
    {
     "data": {
      "text/plain": [
       "(28, 1002, 778)"
      ]
     },
     "execution_count": 20,
     "metadata": {},
     "output_type": "execute_result"
    }
   ],
   "source": [
    "counties_time_grid.shape"
   ]
  },
  {
   "cell_type": "code",
   "execution_count": 21,
   "metadata": {},
   "outputs": [
    {
     "data": {
      "text/plain": [
       "array([3.64349324, 1.44976199, 0.0549576 , 0.48450147, 2.60491863,\n",
       "       2.88365836, 0.72031926, 1.33401451, 1.53494971, 0.33965555,\n",
       "       0.27648444, 1.19631494, 4.66534426, 0.76668875, 0.40991866,\n",
       "       1.23747129, 5.29401365, 1.63759775, 0.29895257, 1.81006223,\n",
       "       2.79594653, 0.80019323, 0.39995533, 1.71730521, 5.65761069,\n",
       "       1.48782054, 0.33267522, 0.85901459])"
      ]
     },
     "execution_count": 21,
     "metadata": {},
     "output_type": "execute_result"
    }
   ],
   "source": [
    "counties_time_grid.mean(axis=(1, 2))"
   ]
  },
  {
   "cell_type": "markdown",
   "metadata": {},
   "source": [
    "# Precipitations"
   ]
  },
  {
   "cell_type": "code",
   "execution_count": 22,
   "metadata": {},
   "outputs": [
    {
     "name": "stderr",
     "output_type": "stream",
     "text": [
      "28it [00:03,  8.78it/s]\n"
     ]
    }
   ],
   "source": [
    "# create limits history grid\n",
    "precip_time_grid = np.zeros((len(config.TIME_STEPS), frames_idx[\"x\"].max() - frames_idx[\"x\"].min() + 1, frames_idx[\"y\"].max() - frames_idx[\"y\"].min() + 1))\n",
    "for t, dt in tqdm(enumerate(config.TIME_STEPS)):\n",
    "    precip_sum = (\n",
    "        precip[\n",
    "            precip[\"quarter_date\"] == dt\n",
    "        ].set_index(\"frame_id\")[\"precipitation\"] +\\\n",
    "        pd.Series(0, index=frames_idx.index)\n",
    "    ).fillna(0).sort_index()\n",
    "    precip_time_grid[t, :, :] = precip_sum.values.reshape(counties_time_grid[0, :, :].shape)"
   ]
  },
  {
   "cell_type": "code",
   "execution_count": 23,
   "metadata": {},
   "outputs": [
    {
     "data": {
      "text/plain": [
       "(28, 1002, 778)"
      ]
     },
     "execution_count": 23,
     "metadata": {},
     "output_type": "execute_result"
    }
   ],
   "source": [
    "precip_time_grid.shape"
   ]
  },
  {
   "cell_type": "code",
   "execution_count": 24,
   "metadata": {},
   "outputs": [
    {
     "data": {
      "text/plain": [
       "array([186.20753427, 439.33358713, 702.3223266 , 375.96249359,\n",
       "       148.5295144 , 413.0688769 , 556.53640863, 399.31430876,\n",
       "       187.60811386, 429.90324523, 519.214427  , 357.56493712,\n",
       "       156.44664122, 429.32615398, 496.57244939, 423.21707809,\n",
       "       154.23955033, 435.23924631, 597.8020921 , 377.38891596,\n",
       "       197.90357116, 537.16324421, 622.31314606, 363.67691742,\n",
       "       171.62971464, 437.73113001, 604.32205076, 334.68217645])"
      ]
     },
     "execution_count": 24,
     "metadata": {},
     "output_type": "execute_result"
    }
   ],
   "source": [
    "precip_time_grid.mean(axis=(1, 2))"
   ]
  },
  {
   "cell_type": "markdown",
   "metadata": {},
   "source": [
    "# Terrain Position Index"
   ]
  },
  {
   "cell_type": "code",
   "execution_count": 25,
   "metadata": {},
   "outputs": [],
   "source": [
    "cols = [\"mean\", \"min\", \"max\", \"std\"]\n",
    "tpi_array = np.zeros((len(cols), frames_idx[\"x\"].max() - frames_idx[\"x\"].min() + 1, frames_idx[\"y\"].max() - frames_idx[\"y\"].min() + 1))\n",
    "for icol, col in enumerate(cols):\n",
    "    v = (\n",
    "        tpi.set_index(\"frame_id\")[col] +\\\n",
    "        pd.Series(0, index=frames_idx.index)\n",
    "    ).fillna(0).sort_index()\n",
    "    tpi_array[icol, :, :] = v.values.reshape(tpi_array[0, :, :].shape)"
   ]
  },
  {
   "cell_type": "code",
   "execution_count": 26,
   "metadata": {},
   "outputs": [
    {
     "data": {
      "text/plain": [
       "(4, 1002, 778)"
      ]
     },
     "execution_count": 26,
     "metadata": {},
     "output_type": "execute_result"
    }
   ],
   "source": [
    "tpi_array.shape"
   ]
  },
  {
   "cell_type": "code",
   "execution_count": 27,
   "metadata": {},
   "outputs": [
    {
     "data": {
      "text/plain": [
       "array([219.        ,  74.        , 682.        , 381.16196616])"
      ]
     },
     "execution_count": 27,
     "metadata": {},
     "output_type": "execute_result"
    }
   ],
   "source": [
    "tpi_array.max(axis=(1, 2))"
   ]
  },
  {
   "cell_type": "markdown",
   "metadata": {},
   "source": [
    "# Land Cover"
   ]
  },
  {
   "cell_type": "code",
   "execution_count": 28,
   "metadata": {},
   "outputs": [],
   "source": [
    "landcover_categories = [[20], [40, 50], [180]]\n",
    "landcover_array = np.zeros((len(landcover_categories), frames_idx[\"x\"].max() - frames_idx[\"x\"].min() + 1, frames_idx[\"y\"].max() - frames_idx[\"y\"].min() + 1))\n",
    "for i, cols in enumerate(landcover_categories):\n",
    "    v = (\n",
    "        landcover[cols].sum(axis=1) +\\\n",
    "        pd.Series(0, index=frames_idx.index)\n",
    "    ).fillna(0).sort_index()\n",
    "    landcover_array[i, :, :] = v.values.reshape(landcover_array[0, :, :].shape)"
   ]
  },
  {
   "cell_type": "code",
   "execution_count": 29,
   "metadata": {},
   "outputs": [
    {
     "data": {
      "text/plain": [
       "(3, 1002, 778)"
      ]
     },
     "execution_count": 29,
     "metadata": {},
     "output_type": "execute_result"
    }
   ],
   "source": [
    "landcover_array.shape"
   ]
  },
  {
   "cell_type": "code",
   "execution_count": 30,
   "metadata": {},
   "outputs": [
    {
     "data": {
      "text/plain": [
       "array([0.05688078, 0.63904917, 0.01726573])"
      ]
     },
     "execution_count": 30,
     "metadata": {},
     "output_type": "execute_result"
    }
   ],
   "source": [
    "landcover_array.mean(axis=(1, 2))"
   ]
  },
  {
   "cell_type": "markdown",
   "metadata": {},
   "source": [
    "# Past scores"
   ]
  },
  {
   "cell_type": "code",
   "execution_count": 31,
   "metadata": {},
   "outputs": [
    {
     "name": "stderr",
     "output_type": "stream",
     "text": [
      "28it [00:00, 36.63it/s]\n"
     ]
    }
   ],
   "source": [
    "# create history grid for scores\n",
    "scores_time_grid = np.zeros((len(config.TIME_STEPS), frames_idx[\"x\"].max() - frames_idx[\"x\"].min() + 1, frames_idx[\"y\"].max() - frames_idx[\"y\"].min() + 1))\n",
    "for t, dt in tqdm(enumerate(config.TIME_STEPS)):\n",
    "    t_scores = (\n",
    "        past_scores[\n",
    "            past_scores[\"variable\"] == dt\n",
    "        ].set_index(\"frame_id\")[\"value\"] +\\\n",
    "        pd.Series(0, index=frames_idx.index)\n",
    "    ).fillna(0).sort_index()\n",
    "    scores_time_grid[t, :, :] = t_scores.values.reshape(scores_time_grid[0, :, :].shape)"
   ]
  },
  {
   "cell_type": "code",
   "execution_count": 32,
   "metadata": {},
   "outputs": [
    {
     "data": {
      "text/plain": [
       "(28, 1002, 778)"
      ]
     },
     "execution_count": 32,
     "metadata": {},
     "output_type": "execute_result"
    }
   ],
   "source": [
    "scores_time_grid.shape"
   ]
  },
  {
   "cell_type": "code",
   "execution_count": 33,
   "metadata": {},
   "outputs": [
    {
     "data": {
      "text/plain": [
       "array([0.00019113, 0.01970878, 0.03237829, 0.0303591 , 0.03254027,\n",
       "       0.04184595, 0.05188484, 0.05343352, 0.05884629, 0.06810746,\n",
       "       0.06716801, 0.0638416 , 0.06583015, 0.0886549 , 0.09032362,\n",
       "       0.08556676, 0.08718639, 0.10840274, 0.11322395, 0.10460181,\n",
       "       0.10748897, 0.11863202, 0.11653463, 0.10905149, 0.10773129,\n",
       "       0.12110267, 0.12369821, 0.11544868])"
      ]
     },
     "execution_count": 33,
     "metadata": {},
     "output_type": "execute_result"
    }
   ],
   "source": [
    "scores_time_grid.mean(axis=(1,2))"
   ]
  },
  {
   "cell_type": "markdown",
   "metadata": {},
   "source": [
    "# Night lights"
   ]
  },
  {
   "cell_type": "code",
   "execution_count": 34,
   "metadata": {},
   "outputs": [
    {
     "name": "stderr",
     "output_type": "stream",
     "text": [
      "28it [00:05,  4.87it/s]\n"
     ]
    }
   ],
   "source": [
    "# create history grid for scores\n",
    "night_time_grid = np.zeros((2, len(config.TIME_STEPS), frames_idx[\"x\"].max() - frames_idx[\"x\"].min() + 1, frames_idx[\"y\"].max() - frames_idx[\"y\"].min() + 1))\n",
    "for t, dt in tqdm(enumerate(config.TIME_STEPS)):\n",
    "    avg_light = (\n",
    "        night_light[\n",
    "            night_light[\"dt\"] == dt\n",
    "        ].set_index(\"frame_id\")[\"avg_light\"] +\\\n",
    "        pd.Series(0, index=frames_idx.index)\n",
    "    ).fillna(0).sort_index()\n",
    "    night_time_grid[0, t, :, :] = avg_light.values.reshape(night_time_grid[0, 0, :, :].shape)\n",
    "    \n",
    "    max_light = (\n",
    "        night_light[\n",
    "            night_light[\"dt\"] == dt\n",
    "        ].set_index(\"frame_id\")[\"max_light\"] +\\\n",
    "        pd.Series(0, index=frames_idx.index)\n",
    "    ).fillna(0).sort_index()\n",
    "    night_time_grid[1, t, :, :] = max_light.values.reshape(night_time_grid[0, 0, :, :].shape)"
   ]
  },
  {
   "cell_type": "code",
   "execution_count": 35,
   "metadata": {},
   "outputs": [
    {
     "data": {
      "text/plain": [
       "(2, 28, 1002, 778)"
      ]
     },
     "execution_count": 35,
     "metadata": {},
     "output_type": "execute_result"
    }
   ],
   "source": [
    "night_time_grid.shape"
   ]
  },
  {
   "cell_type": "code",
   "execution_count": 36,
   "metadata": {},
   "outputs": [
    {
     "data": {
      "text/plain": [
       "array([[0.08905747, 0.06830882, 0.22108746, 0.25371302, 0.23573503,\n",
       "        0.24402444, 0.21836818, 0.27173093, 0.22944489, 0.22770809,\n",
       "        0.21122815, 0.18509241, 0.19214316, 0.19492029, 0.24530041,\n",
       "        0.28831199, 0.29576629, 0.277734  , 0.22200173, 0.27180649,\n",
       "        0.31246798, 0.27526693, 0.22154229, 0.30725574, 0.26986599,\n",
       "        0.33866692, 0.27871436, 0.31843935],\n",
       "       [0.26065561, 0.18529193, 0.36390337, 0.3838    , 0.40839899,\n",
       "        0.41019799, 0.35407161, 0.41134814, 0.38108935, 0.37483258,\n",
       "        0.35470058, 0.31806081, 0.35038354, 0.35053503, 0.37943095,\n",
       "        0.41901216, 0.47711412, 0.44057947, 0.34301519, 0.41183966,\n",
       "        0.49050084, 0.42313796, 0.35123893, 0.45027927, 0.47900751,\n",
       "        0.50671131, 0.4252236 , 0.47823331]])"
      ]
     },
     "execution_count": 36,
     "metadata": {},
     "output_type": "execute_result"
    }
   ],
   "source": [
    "night_time_grid.mean(axis=(2, 3))"
   ]
  },
  {
   "cell_type": "markdown",
   "metadata": {},
   "source": [
    "# Compute frame patches\n",
    "\n",
    "A patch is squared set of unitary frames. The patch formation process consists in iterating through the full image on both axis computing the frames corresponding to each iteration."
   ]
  },
  {
   "cell_type": "code",
   "execution_count": 37,
   "metadata": {},
   "outputs": [
    {
     "name": "stderr",
     "output_type": "stream",
     "text": [
      "100%|██████████| 32/32 [00:25<00:00,  1.26it/s]\n"
     ]
    }
   ],
   "source": [
    "out_condition = \"both\"  # deforestation | borders | both\n",
    "\n",
    "bundle_step = 32\n",
    "patches = []\n",
    "for ix in tqdm(list(range(frames_idx[\"x\"].min(), frames_idx[\"x\"].max()+1, bundle_step))):\n",
    "    fx = ix + config.INPUT_BOXES_SIZE\n",
    "    for iy in range(frames_idx[\"y\"].min(), frames_idx[\"y\"].max()+1, bundle_step):\n",
    "        fy = iy + config.INPUT_BOXES_SIZE\n",
    "\n",
    "        iframes = frames_idx[\n",
    "            (frames_idx[\"x\"] >= ix) & \n",
    "            (frames_idx[\"x\"] < fx) &\n",
    "            (frames_idx[\"y\"] >= iy) &\n",
    "            (frames_idx[\"y\"] < fy)\n",
    "        ]\n",
    "        \n",
    "        if out_condition == \"borders\":\n",
    "            if iframes[\"in_borders\"].mean() >= 0.5:  # condition: bundle has to be at least half inside borders\n",
    "                patches.append(iframes.index)\n",
    "                \n",
    "        elif out_condition == \"deforestation\":\n",
    "            out_of_borders_frames = len(set(iframes.index) - set(deforestation[\"frame_id\"].values))\n",
    "            if out_of_borders_frames < len(iframes):  # condition: bundle has to contain some deforestation\n",
    "                patches.append(iframes.index) \n",
    "\n",
    "        elif out_condition == \"both\":\n",
    "            out_of_borders_frames = len(set(iframes.index) - set(deforestation[\"frame_id\"].values))\n",
    "            if (out_of_borders_frames < len(iframes)) and (iframes[\"in_borders\"].mean() >= 0.5):\n",
    "                patches.append(iframes.index) "
   ]
  },
  {
   "cell_type": "code",
   "execution_count": 38,
   "metadata": {},
   "outputs": [],
   "source": [
    "# remove patches that represent reduced regions\n",
    "patches = [b for b in patches if (len(b)==len(patches[0]))]"
   ]
  },
  {
   "cell_type": "code",
   "execution_count": 39,
   "metadata": {},
   "outputs": [
    {
     "data": {
      "text/plain": [
       "431"
      ]
     },
     "execution_count": 39,
     "metadata": {},
     "output_type": "execute_result"
    }
   ],
   "source": [
    "len(patches)"
   ]
  },
  {
   "cell_type": "code",
   "execution_count": 40,
   "metadata": {},
   "outputs": [
    {
     "data": {
      "text/plain": [
       "Index([  288,   289,   290,   291,   292,   293,   294,   295,   296,   297,\n",
       "       ...\n",
       "       49356, 49357, 49358, 49359, 49360, 49361, 49362, 49363, 49364, 49365],\n",
       "      dtype='int64', length=4096)"
      ]
     },
     "execution_count": 40,
     "metadata": {},
     "output_type": "execute_result"
    }
   ],
   "source": [
    "patches[0]"
   ]
  },
  {
   "cell_type": "code",
   "execution_count": 41,
   "metadata": {},
   "outputs": [],
   "source": [
    "# generate region and check which patches intersect\n",
    "region = compute_frames(am_bounds.total_bounds, config.BOX_SIDE, 200, 700, 200, 500)"
   ]
  },
  {
   "cell_type": "code",
   "execution_count": 42,
   "metadata": {},
   "outputs": [
    {
     "data": {
      "image/png": "[encoded data removed]",
      "text/plain": [
       "<Figure size 640x480 with 1 Axes>"
      ]
     },
     "metadata": {},
     "output_type": "display_data"
    }
   ],
   "source": [
    "fig, ax = plt.subplots()\n",
    "am_bounds.boundary.plot(ax=ax, color=\"black\")\n",
    "j = 0\n",
    "\n",
    "# for i, b in enumerate(patches[100:]):\n",
    "for i in [100, 200, 300]:\n",
    "    b = patches[i]\n",
    "    int_b = region[region[\"frame_id\"].isin(b)]\n",
    "    if len(int_b) > 0:\n",
    "        int_b.boundary.plot(ax=ax, color=\"grey\", alpha=0.5)\n",
    "        j+=1\n",
    "plt.show()"
   ]
  },
  {
   "cell_type": "markdown",
   "metadata": {},
   "source": [
    "# Train test split"
   ]
  },
  {
   "cell_type": "code",
   "execution_count": 43,
   "metadata": {},
   "outputs": [
    {
     "data": {
      "text/plain": [
       "(28, 1002, 778)"
      ]
     },
     "execution_count": 43,
     "metadata": {},
     "output_type": "execute_result"
    }
   ],
   "source": [
    "time_grid.shape"
   ]
  },
  {
   "cell_type": "code",
   "execution_count": 44,
   "metadata": {},
   "outputs": [],
   "source": [
    "train_time_idx = range(0,12)\n",
    "val_time_idx = range(12,20)\n",
    "test_time_idx = range(20,28)\n",
    "\n",
    "train_data = time_grid[train_time_idx, :, :]\n",
    "val_data = time_grid[val_time_idx, :, :]\n",
    "test_data = time_grid[test_time_idx, :, :]"
   ]
  },
  {
   "cell_type": "markdown",
   "metadata": {},
   "source": [
    "# Data Normalization"
   ]
  },
  {
   "cell_type": "code",
   "execution_count": 45,
   "metadata": {},
   "outputs": [],
   "source": [
    "one_multiplicator_factor = (train_data <= 1e-7).sum() / (train_data > 1e-7).sum()"
   ]
  },
  {
   "cell_type": "code",
   "execution_count": 46,
   "metadata": {},
   "outputs": [
    {
     "data": {
      "text/plain": [
       "0.9898431207311943"
      ]
     },
     "execution_count": 46,
     "metadata": {},
     "output_type": "execute_result"
    }
   ],
   "source": [
    "100 * (train_data > 1e-7).sum() / (train_data <= 1e-7).sum()"
   ]
  },
  {
   "cell_type": "code",
   "execution_count": 47,
   "metadata": {},
   "outputs": [],
   "source": [
    "norm_pop = (county_data[0, :, :] - np.median(county_data[0, :, :])) / 1e5\n",
    "norm_den = (county_data[1, :, :] - np.median(county_data[1, :, :])) / 30\n",
    "\n",
    "county_data[0, :, :] = norm_pop\n",
    "county_data[1, :, :] = norm_den"
   ]
  },
  {
   "cell_type": "code",
   "execution_count": 48,
   "metadata": {},
   "outputs": [],
   "source": [
    "counties_time_grid = (counties_time_grid-counties_time_grid[train_time_idx, :, :].mean()) / counties_time_grid[train_time_idx, :, :].std()"
   ]
  },
  {
   "cell_type": "code",
   "execution_count": 49,
   "metadata": {},
   "outputs": [],
   "source": [
    "precip_time_grid = (precip_time_grid-precip_time_grid[train_time_idx, :, :].mean()) / precip_time_grid[train_time_idx, :, :].std()"
   ]
  },
  {
   "cell_type": "code",
   "execution_count": 50,
   "metadata": {},
   "outputs": [],
   "source": [
    "for i in range(tpi_array.shape[0]):\n",
    "    tpi_array[i, :, :] = (tpi_array[i, :, :] - tpi_array[i, :, :].mean()) / tpi_array[i, :, :].std()"
   ]
  },
  {
   "cell_type": "code",
   "execution_count": 51,
   "metadata": {},
   "outputs": [],
   "source": [
    "for i in [0, 1]:\n",
    "    s = (\n",
    "        (\n",
    "            night_time_grid[i, :, :, :] - \n",
    "            night_time_grid[i, train_time_idx, :, :].mean()\n",
    "        ) / night_time_grid[i, train_time_idx, :, :].std()\n",
    "    )\n",
    "    s[np.where(s > 3)] = 3\n",
    "    night_time_grid[i, :, :, :] = s.copy()"
   ]
  },
  {
   "cell_type": "markdown",
   "metadata": {},
   "source": [
    "# Loss function"
   ]
  },
  {
   "cell_type": "code",
   "execution_count": 52,
   "metadata": {},
   "outputs": [],
   "source": [
    "# def WeightedBinaryCrossEntropy(target, prediction):\n",
    "#     return -(target*prediction.log() + (1-target)*((1-prediction).log()))"
   ]
  },
  {
   "cell_type": "code",
   "execution_count": 53,
   "metadata": {},
   "outputs": [],
   "source": [
    "import torch.nn as nn\n",
    "# ce_loss = nn.CrossEntropyLoss().to(dev)"
   ]
  },
  {
   "cell_type": "code",
   "execution_count": 54,
   "metadata": {},
   "outputs": [],
   "source": [
    "from segmentation_models_pytorch.losses import FocalLoss\n",
    "\n",
    "f_loss = FocalLoss(\"binary\", gamma=3).to(dev)"
   ]
  },
  {
   "cell_type": "markdown",
   "metadata": {},
   "source": [
    "# Dataset & Dataloaders"
   ]
  },
  {
   "cell_type": "code",
   "execution_count": 55,
   "metadata": {},
   "outputs": [
    {
     "data": {
      "text/plain": [
       "10344"
      ]
     },
     "execution_count": 55,
     "metadata": {},
     "output_type": "execute_result"
    }
   ],
   "source": [
    "len(patches) * (time_grid.shape[0] - 4)"
   ]
  },
  {
   "cell_type": "code",
   "execution_count": 74,
   "metadata": {},
   "outputs": [],
   "source": [
    "class CustomDataset(Dataset):\n",
    "    def __init__(\n",
    "        self, \n",
    "        X, \n",
    "        patches, \n",
    "        frames_idx, \n",
    "        county_data=None, \n",
    "        county_defor=None,\n",
    "        precip_data=None,\n",
    "        tpi_data=None,\n",
    "        landcover_data=None,\n",
    "        scores_data=None,\n",
    "        night_data=None,\n",
    "        device=None,\n",
    "        normalize=True\n",
    "    ):\n",
    "        super(CustomDataset, self).__init__()\n",
    "\n",
    "        self.patches = patches\n",
    "        self.frames_idx = frames_idx\n",
    "        self.X = X\n",
    "        self.county_data = county_data\n",
    "        self.county_defor = county_defor\n",
    "        self.precip_data = precip_data\n",
    "        self.tpi_data = tpi_data\n",
    "        self.landcover_data = landcover_data\n",
    "        self.scores_data = scores_data\n",
    "        self.night_data = night_data\n",
    "\n",
    "        self.autor_window = 4\n",
    "        self.ix = frames_idx[\"x\"].min()\n",
    "        self.iy = frames_idx[\"y\"].min()\n",
    "        \n",
    "        self.device = device\n",
    "        \n",
    "        self.mean = None\n",
    "        self.std = None\n",
    "        \n",
    "        # self.patches = self.patches[:20]\n",
    "        \n",
    "        if normalize:\n",
    "            pass\n",
    "\n",
    "    def __len__(self):\n",
    "        return len(self.patches) * (self.X.shape[0]-self.autor_window)\n",
    "\n",
    "    def __getitem__(self, index):\n",
    "\n",
    "        # get index info\n",
    "        idx_patch = index // (self.X.shape[0] - self.autor_window)\n",
    "        idx_time   = index % (self.X.shape[0] - self.autor_window)\n",
    "        idx_frames = self.frames_idx.loc[self.patches[idx_patch]]\n",
    "\n",
    "        # get input\n",
    "        input_matrix = self.X[\n",
    "            idx_time:idx_time+self.autor_window, \n",
    "            idx_frames[\"x\"].min()-self.ix:idx_frames[\"x\"].max()-self.ix+1, \n",
    "            idx_frames[\"y\"].min()-self.iy:idx_frames[\"y\"].max()-self.iy+1\n",
    "        ]\n",
    "        \n",
    "        # def_deter = input_matrix.copy()\n",
    "        # print('DEBUG GIOVANI DATASET')\n",
    "        # input_matrix[input_matrix > 1e-7] += 0.5\n",
    "        # input_matrix[input_matrix <= 1e-7] = 0\n",
    "        \n",
    "        input_matrix = np.expand_dims(input_matrix, axis=1)\n",
    "        # print(input_matrix.shape)\n",
    "\n",
    "        if self.county_data is not None:\n",
    "            # Repete os valores para cada trimestre (1, 2, 64, 64) --> (4, 2, 64, 64)\n",
    "            county_data = self.county_data[np.newaxis,\n",
    "                    :,\n",
    "                    idx_frames[\"x\"].min()-self.ix:idx_frames[\"x\"].max()-self.ix+1, \n",
    "                    idx_frames[\"y\"].min()-self.iy:idx_frames[\"y\"].max()-self.iy+1]\n",
    "            # county_data = np.expand_dims(county_data, axis=1)\n",
    "            # print(county_data.shape)\n",
    "            input_matrix = np.concatenate((input_matrix, np.tile(county_data, (4, 1, 1, 1))), axis=1)\n",
    "            # print(input_matrix.shape)\n",
    "        \n",
    "        if self.county_defor is not None:\n",
    "            county_defor = self.county_defor[idx_time:idx_time+self.autor_window,\n",
    "                                             np.newaxis,\n",
    "                                             idx_frames[\"x\"].min()-self.ix:idx_frames[\"x\"].max()-self.ix+1, \n",
    "                                             idx_frames[\"y\"].min()-self.iy:idx_frames[\"y\"].max()-self.iy+1]\n",
    "            input_matrix = np.concatenate((input_matrix, county_defor), axis=1)\n",
    "\n",
    "        \n",
    "        if self.precip_data is not None:\n",
    "            precip_data = self.precip_data[\n",
    "                    idx_time:idx_time+self.autor_window,\n",
    "                    np.newaxis,\n",
    "                    idx_frames[\"x\"].min()-self.ix:idx_frames[\"x\"].max()-self.ix+1, \n",
    "                    idx_frames[\"y\"].min()-self.iy:idx_frames[\"y\"].max()-self.iy+1]\n",
    "            input_matrix = np.concatenate([input_matrix, precip_data], axis=1)\n",
    "        \n",
    "        if self.tpi_data is not None:\n",
    "            tpi_data = self.tpi_data[\n",
    "                    np.newaxis,\n",
    "                    :,\n",
    "                    idx_frames[\"x\"].min()-self.ix:idx_frames[\"x\"].max()-self.ix+1, \n",
    "                    idx_frames[\"y\"].min()-self.iy:idx_frames[\"y\"].max()-self.iy+1]\n",
    "            # print(tpi_data.shape, np.tile(tpi_data, (4, 1, 1, 1)).shape)\n",
    "            # 1/0\n",
    "            input_matrix = np.concatenate([input_matrix, np.tile(tpi_data, (4, 1, 1, 1))], axis=1)\n",
    "        \n",
    "        if self.landcover_data is not None:\n",
    "            input_matrix = np.concatenate([\n",
    "                input_matrix,\n",
    "                self.landcover_data[\n",
    "                    :,\n",
    "                    idx_frames[\"x\"].min()-self.ix:idx_frames[\"x\"].max()-self.ix+1, \n",
    "                    idx_frames[\"y\"].min()-self.iy:idx_frames[\"y\"].max()-self.iy+1\n",
    "                ]\n",
    "            ])\n",
    "        \n",
    "        if self.scores_data is not None:\n",
    "            scores_data = self.scores_data[\n",
    "                    np.newaxis,\n",
    "                    [idx_time+self.autor_window],\n",
    "                    idx_frames[\"x\"].min()-self.ix:idx_frames[\"x\"].max()-self.ix+1, \n",
    "                    idx_frames[\"y\"].min()-self.iy:idx_frames[\"y\"].max()-self.iy+1]\n",
    "            input_matrix = np.concatenate([input_matrix, np.tile(scores_data, (4, 1, 1, 1))], axis=1)\n",
    "        \n",
    "        if self.night_data is not None:\n",
    "            night_data = np.tile(self.night_data[\n",
    "                    np.newaxis,\n",
    "                    :,\n",
    "                    idx_time+self.autor_window-1,\n",
    "                    idx_frames[\"x\"].min()-self.ix:idx_frames[\"x\"].max()-self.ix+1, \n",
    "                    idx_frames[\"y\"].min()-self.iy:idx_frames[\"y\"].max()-self.iy+1], (4, 1, 1, 1))\n",
    "            input_matrix = np.concatenate([input_matrix, night_data], axis=1)\n",
    "            \n",
    "        # input_matrix = np.tile(scores_data, (4, 1, 1, 1))\n",
    "        data = torch.tensor(input_matrix).float() #.to(self.device)\n",
    "\n",
    "        # get output\n",
    "        labels = np.zeros(\n",
    "            (   2,\n",
    "                idx_frames[\"x\"].max()-idx_frames[\"x\"].min() + 1, \n",
    "                idx_frames[\"y\"].max()-idx_frames[\"y\"].min() + 1\n",
    "            )\n",
    "        )\n",
    "        # print(idx_frames[\"x\"].max()-idx_frames[\"x\"].min() + 1, idx_frames[\"y\"].max()-idx_frames[\"y\"].min() + 1)\n",
    "        # 1/0\n",
    "        target_idx = np.where(\n",
    "            self.X[\n",
    "                idx_time+self.autor_window, \n",
    "                idx_frames[\"x\"].min()-self.ix:idx_frames[\"x\"].max()-self.ix+1, \n",
    "                idx_frames[\"y\"].min()-self.iy:idx_frames[\"y\"].max()-self.iy+1\n",
    "            ] > 1e-7\n",
    "        )\n",
    "        \n",
    "        # labels = self.X[\n",
    "        #         idx_time+self.autor_window, \n",
    "        #         idx_frames[\"x\"].min()-self.ix:idx_frames[\"x\"].max()-self.ix+1, \n",
    "        #         idx_frames[\"y\"].min()-self.iy:idx_frames[\"y\"].max()-self.iy+1\n",
    "        #     ]\n",
    "        labels[0, :, :] = 1\n",
    "        labels[0, :, :][target_idx] = 0\n",
    "        labels[1, :, :][target_idx] = 1\n",
    "        labels = torch.tensor(labels).float()# .to(self.device)\n",
    "        # print('DEBUG')\n",
    "        # print(labels.shape)\n",
    "        # print(labels.unsqueeze(0).shape)\n",
    "        # print(data.shape)\n",
    "        # 1/0\n",
    "        # return data, labels.unsqueeze(0).unsqueeze(0)\n",
    "        return data, labels.unsqueeze(0)#.unsqueeze(0)"
   ]
  },
  {
   "cell_type": "code",
   "execution_count": 57,
   "metadata": {},
   "outputs": [],
   "source": [
    "class CustomDataset(Dataset):\n",
    "    def __init__(\n",
    "        self, \n",
    "        X, \n",
    "        patches, \n",
    "        frames_idx, \n",
    "        county_data=None, \n",
    "        county_defor=None,\n",
    "        precip_data=None,\n",
    "        tpi_data=None,\n",
    "        landcover_data=None,\n",
    "        scores_data=None,\n",
    "        night_data=None\n",
    "    ):\n",
    "        super(CustomDataset, self).__init__()\n",
    "\n",
    "        self.patches = patches\n",
    "        self.frames_idx = frames_idx\n",
    "        self.X = X\n",
    "        self.county_data = county_data\n",
    "        self.county_defor = county_defor\n",
    "        self.precip_data = precip_data\n",
    "        self.tpi_data = tpi_data\n",
    "        self.landcover_data = landcover_data\n",
    "        self.scores_data = scores_data\n",
    "        self.night_data = night_data\n",
    "\n",
    "        self.autor_window = 4\n",
    "        self.ix = frames_idx[\"x\"].min()\n",
    "        self.iy = frames_idx[\"y\"].min()\n",
    "\n",
    "    def __len__(self):\n",
    "        return len(self.patches) * (self.X.shape[0]-self.autor_window)\n",
    "\n",
    "    def __getitem__(self, index):\n",
    "\n",
    "        # get index info\n",
    "        idx_patch = index // (self.X.shape[0] - self.autor_window)\n",
    "        idx_time   = index % (self.X.shape[0] - self.autor_window)\n",
    "        idx_frames = self.frames_idx.loc[self.patches[idx_patch]]\n",
    "\n",
    "        # get input\n",
    "        input_matrix = self.X[\n",
    "            idx_time:idx_time+self.autor_window, \n",
    "            idx_frames[\"x\"].min()-self.ix:idx_frames[\"x\"].max()-self.ix+1, \n",
    "            idx_frames[\"y\"].min()-self.iy:idx_frames[\"y\"].max()-self.iy+1\n",
    "        ]\n",
    "\n",
    "        if self.county_data is not None:\n",
    "            input_matrix = np.concatenate([\n",
    "                input_matrix,\n",
    "                self.county_data[\n",
    "                    :,\n",
    "                    idx_frames[\"x\"].min()-self.ix:idx_frames[\"x\"].max()-self.ix+1, \n",
    "                    idx_frames[\"y\"].min()-self.iy:idx_frames[\"y\"].max()-self.iy+1\n",
    "                ]\n",
    "            ])\n",
    "        \n",
    "        if self.county_defor is not None:\n",
    "            input_matrix = np.concatenate([\n",
    "                input_matrix,\n",
    "                self.county_defor[\n",
    "                    idx_time:idx_time+self.autor_window,\n",
    "                    idx_frames[\"x\"].min()-self.ix:idx_frames[\"x\"].max()-self.ix+1, \n",
    "                    idx_frames[\"y\"].min()-self.iy:idx_frames[\"y\"].max()-self.iy+1\n",
    "                ]\n",
    "            ])\n",
    "        \n",
    "        if self.precip_data is not None:\n",
    "            input_matrix = np.concatenate([\n",
    "                input_matrix,\n",
    "                self.precip_data[\n",
    "                    idx_time:idx_time+self.autor_window,\n",
    "                    idx_frames[\"x\"].min()-self.ix:idx_frames[\"x\"].max()-self.ix+1, \n",
    "                    idx_frames[\"y\"].min()-self.iy:idx_frames[\"y\"].max()-self.iy+1\n",
    "                ]\n",
    "            ])\n",
    "        \n",
    "        if self.tpi_data is not None:\n",
    "            input_matrix = np.concatenate([\n",
    "                input_matrix,\n",
    "                self.tpi_data[\n",
    "                    :,\n",
    "                    idx_frames[\"x\"].min()-self.ix:idx_frames[\"x\"].max()-self.ix+1, \n",
    "                    idx_frames[\"y\"].min()-self.iy:idx_frames[\"y\"].max()-self.iy+1\n",
    "                ]\n",
    "            ])\n",
    "        \n",
    "        if self.landcover_data is not None:\n",
    "            input_matrix = np.concatenate([\n",
    "                input_matrix,\n",
    "                self.landcover_data[\n",
    "                    :,\n",
    "                    idx_frames[\"x\"].min()-self.ix:idx_frames[\"x\"].max()-self.ix+1, \n",
    "                    idx_frames[\"y\"].min()-self.iy:idx_frames[\"y\"].max()-self.iy+1\n",
    "                ]\n",
    "            ])\n",
    "        \n",
    "        if self.scores_data is not None:\n",
    "            input_matrix = np.concatenate([\n",
    "                input_matrix,\n",
    "                self.scores_data[\n",
    "                    [idx_time+self.autor_window],\n",
    "                    idx_frames[\"x\"].min()-self.ix:idx_frames[\"x\"].max()-self.ix+1, \n",
    "                    idx_frames[\"y\"].min()-self.iy:idx_frames[\"y\"].max()-self.iy+1\n",
    "                ]\n",
    "            ])\n",
    "        \n",
    "        if self.night_data is not None:\n",
    "            input_matrix = np.concatenate([\n",
    "                input_matrix,\n",
    "                self.night_data[\n",
    "                    :,\n",
    "                    idx_time+self.autor_window-1,\n",
    "                    idx_frames[\"x\"].min()-self.ix:idx_frames[\"x\"].max()-self.ix+1, \n",
    "                    idx_frames[\"y\"].min()-self.iy:idx_frames[\"y\"].max()-self.iy+1\n",
    "                ]\n",
    "            ])\n",
    "        data = torch.tensor(input_matrix).float().to(dev)\n",
    "\n",
    "        # get output\n",
    "        labels = np.zeros(\n",
    "            (\n",
    "                2, \n",
    "                idx_frames[\"x\"].max()-idx_frames[\"x\"].min() + 1, \n",
    "                idx_frames[\"y\"].max()-idx_frames[\"y\"].min() + 1\n",
    "            )\n",
    "        )\n",
    "        target_idx = np.where(\n",
    "            self.X[\n",
    "                idx_time+self.autor_window, \n",
    "                idx_frames[\"x\"].min()-self.ix:idx_frames[\"x\"].max()-self.ix+1, \n",
    "                idx_frames[\"y\"].min()-self.iy:idx_frames[\"y\"].max()-self.iy+1\n",
    "            ] > 1e-7\n",
    "        )\n",
    "        labels[0, :, :] = 1\n",
    "        labels[0, :, :][target_idx] = 0\n",
    "        labels[1, :, :][target_idx] = 1\n",
    "        labels = torch.tensor(labels).float().to(dev)\n",
    "        return data, labels"
   ]
  },
  {
   "cell_type": "code",
   "execution_count": 58,
   "metadata": {},
   "outputs": [
    {
     "data": {
      "text/plain": [
       "((12, 1002, 778), (8, 1002, 778), (8, 1002, 778))"
      ]
     },
     "execution_count": 58,
     "metadata": {},
     "output_type": "execute_result"
    }
   ],
   "source": [
    "train_data.shape, val_data.shape, test_data.shape"
   ]
  },
  {
   "cell_type": "code",
   "execution_count": 59,
   "metadata": {},
   "outputs": [],
   "source": [
    "# patches_sample_train = [patches[i] for i in np.random.choice(range(len(patches)), 100, replace=False)]\n",
    "# patches_sample_test = [patches[i] for i in np.random.choice(range(len(patches)), 10, replace=False)]\n",
    "\n",
    "# patches_sample_train = patches[:1]\n",
    "# patches_sample_test = patches[1:2]\n",
    "\n",
    "patches_sample_train = patches\n",
    "patches_sample_val = patches"
   ]
  },
  {
   "cell_type": "code",
   "execution_count": 75,
   "metadata": {},
   "outputs": [],
   "source": [
    "trainloader = torch.utils.data.DataLoader(\n",
    "    CustomDataset(\n",
    "        train_data, \n",
    "        patches_sample_train, \n",
    "        frames_idx, \n",
    "        county_data,\n",
    "        counties_time_grid,\n",
    "        precip_time_grid,\n",
    "        tpi_array,\n",
    "        None,\n",
    "        scores_time_grid,\n",
    "        night_time_grid\n",
    "    ),\n",
    "    batch_size=16,\n",
    "    shuffle=True\n",
    ")\n",
    "\n",
    "valloader = torch.utils.data.DataLoader(\n",
    "    CustomDataset(\n",
    "        val_data, \n",
    "        patches_sample_val, \n",
    "        frames_idx, \n",
    "        county_data,\n",
    "        counties_time_grid,\n",
    "        precip_time_grid,\n",
    "        tpi_array,\n",
    "        None,\n",
    "        scores_time_grid,\n",
    "        night_time_grid\n",
    "    ),\n",
    "    batch_size=16,\n",
    "    shuffle=True\n",
    ")"
   ]
  },
  {
   "cell_type": "code",
   "execution_count": 76,
   "metadata": {},
   "outputs": [
    {
     "data": {
      "text/plain": [
       "(216, 108)"
      ]
     },
     "execution_count": 76,
     "metadata": {},
     "output_type": "execute_result"
    }
   ],
   "source": [
    "trainloader.__len__(), valloader.__len__()"
   ]
  },
  {
   "cell_type": "markdown",
   "metadata": {},
   "source": [
    "# Baseline Model\n",
    "\n",
    "Evaluate error without any model"
   ]
  },
  {
   "cell_type": "code",
   "execution_count": 77,
   "metadata": {},
   "outputs": [
    {
     "name": "stdout",
     "output_type": "stream",
     "text": [
      "torch.Size([16, 4, 12, 64, 64])\n",
      "torch.Size([16, 1, 2, 64, 64])\n",
      "torch.Size([16, 4, 12, 64, 64])\n",
      "torch.Size([16, 1, 2, 64, 64])\n",
      "torch.Size([16, 4, 12, 64, 64])\n",
      "torch.Size([16, 1, 2, 64, 64])\n",
      "torch.Size([16, 4, 12, 64, 64])\n",
      "torch.Size([16, 1, 2, 64, 64])\n",
      "torch.Size([16, 4, 12, 64, 64])\n",
      "torch.Size([16, 1, 2, 64, 64])\n",
      "torch.Size([16, 4, 12, 64, 64])\n",
      "torch.Size([16, 1, 2, 64, 64])\n",
      "torch.Size([16, 4, 12, 64, 64])\n",
      "torch.Size([16, 1, 2, 64, 64])\n",
      "torch.Size([16, 4, 12, 64, 64])\n",
      "torch.Size([16, 1, 2, 64, 64])\n",
      "torch.Size([16, 4, 12, 64, 64])\n",
      "torch.Size([16, 1, 2, 64, 64])\n",
      "torch.Size([16, 4, 12, 64, 64])\n",
      "torch.Size([16, 1, 2, 64, 64])\n",
      "torch.Size([16, 4, 12, 64, 64])\n",
      "torch.Size([16, 1, 2, 64, 64])\n",
      "torch.Size([16, 4, 12, 64, 64])\n",
      "torch.Size([16, 1, 2, 64, 64])\n",
      "torch.Size([16, 4, 12, 64, 64])\n",
      "torch.Size([16, 1, 2, 64, 64])\n",
      "torch.Size([16, 4, 12, 64, 64])\n",
      "torch.Size([16, 1, 2, 64, 64])\n",
      "torch.Size([16, 4, 12, 64, 64])\n",
      "torch.Size([16, 1, 2, 64, 64])\n",
      "torch.Size([16, 4, 12, 64, 64])\n",
      "torch.Size([16, 1, 2, 64, 64])\n",
      "torch.Size([16, 4, 12, 64, 64])\n",
      "torch.Size([16, 1, 2, 64, 64])\n",
      "torch.Size([16, 4, 12, 64, 64])\n",
      "torch.Size([16, 1, 2, 64, 64])\n",
      "torch.Size([16, 4, 12, 64, 64])\n",
      "torch.Size([16, 1, 2, 64, 64])\n",
      "torch.Size([16, 4, 12, 64, 64])\n",
      "torch.Size([16, 1, 2, 64, 64])\n",
      "torch.Size([16, 4, 12, 64, 64])\n",
      "torch.Size([16, 1, 2, 64, 64])\n",
      "torch.Size([16, 4, 12, 64, 64])\n",
      "torch.Size([16, 1, 2, 64, 64])\n",
      "torch.Size([16, 4, 12, 64, 64])\n",
      "torch.Size([16, 1, 2, 64, 64])\n",
      "torch.Size([16, 4, 12, 64, 64])\n",
      "torch.Size([16, 1, 2, 64, 64])\n",
      "torch.Size([16, 4, 12, 64, 64])\n",
      "torch.Size([16, 1, 2, 64, 64])\n",
      "torch.Size([16, 4, 12, 64, 64])\n",
      "torch.Size([16, 1, 2, 64, 64])\n",
      "torch.Size([16, 4, 12, 64, 64])\n",
      "torch.Size([16, 1, 2, 64, 64])\n",
      "torch.Size([16, 4, 12, 64, 64])\n",
      "torch.Size([16, 1, 2, 64, 64])\n",
      "torch.Size([16, 4, 12, 64, 64])\n",
      "torch.Size([16, 1, 2, 64, 64])\n",
      "torch.Size([16, 4, 12, 64, 64])\n",
      "torch.Size([16, 1, 2, 64, 64])\n",
      "torch.Size([16, 4, 12, 64, 64])\n",
      "torch.Size([16, 1, 2, 64, 64])\n",
      "torch.Size([16, 4, 12, 64, 64])\n",
      "torch.Size([16, 1, 2, 64, 64])\n",
      "torch.Size([16, 4, 12, 64, 64])\n",
      "torch.Size([16, 1, 2, 64, 64])\n",
      "torch.Size([16, 4, 12, 64, 64])\n",
      "torch.Size([16, 1, 2, 64, 64])\n",
      "torch.Size([16, 4, 12, 64, 64])\n",
      "torch.Size([16, 1, 2, 64, 64])\n",
      "torch.Size([16, 4, 12, 64, 64])\n",
      "torch.Size([16, 1, 2, 64, 64])\n",
      "torch.Size([16, 4, 12, 64, 64])\n",
      "torch.Size([16, 1, 2, 64, 64])\n",
      "torch.Size([16, 4, 12, 64, 64])\n",
      "torch.Size([16, 1, 2, 64, 64])\n",
      "torch.Size([16, 4, 12, 64, 64])\n",
      "torch.Size([16, 1, 2, 64, 64])\n",
      "torch.Size([16, 4, 12, 64, 64])\n",
      "torch.Size([16, 1, 2, 64, 64])\n",
      "torch.Size([16, 4, 12, 64, 64])\n",
      "torch.Size([16, 1, 2, 64, 64])\n",
      "torch.Size([16, 4, 12, 64, 64])\n",
      "torch.Size([16, 1, 2, 64, 64])\n",
      "torch.Size([16, 4, 12, 64, 64])\n",
      "torch.Size([16, 1, 2, 64, 64])\n",
      "torch.Size([16, 4, 12, 64, 64])\n",
      "torch.Size([16, 1, 2, 64, 64])\n",
      "torch.Size([16, 4, 12, 64, 64])\n",
      "torch.Size([16, 1, 2, 64, 64])\n",
      "torch.Size([16, 4, 12, 64, 64])\n",
      "torch.Size([16, 1, 2, 64, 64])\n",
      "torch.Size([16, 4, 12, 64, 64])\n",
      "torch.Size([16, 1, 2, 64, 64])\n",
      "torch.Size([16, 4, 12, 64, 64])\n",
      "torch.Size([16, 1, 2, 64, 64])\n",
      "torch.Size([16, 4, 12, 64, 64])\n",
      "torch.Size([16, 1, 2, 64, 64])\n",
      "torch.Size([16, 4, 12, 64, 64])\n",
      "torch.Size([16, 1, 2, 64, 64])\n",
      "torch.Size([16, 4, 12, 64, 64])\n",
      "torch.Size([16, 1, 2, 64, 64])\n",
      "torch.Size([16, 4, 12, 64, 64])\n",
      "torch.Size([16, 1, 2, 64, 64])\n",
      "torch.Size([16, 4, 12, 64, 64])\n",
      "torch.Size([16, 1, 2, 64, 64])\n",
      "torch.Size([16, 4, 12, 64, 64])\n",
      "torch.Size([16, 1, 2, 64, 64])\n",
      "torch.Size([16, 4, 12, 64, 64])\n",
      "torch.Size([16, 1, 2, 64, 64])\n",
      "torch.Size([16, 4, 12, 64, 64])\n",
      "torch.Size([16, 1, 2, 64, 64])\n",
      "torch.Size([16, 4, 12, 64, 64])\n",
      "torch.Size([16, 1, 2, 64, 64])\n",
      "torch.Size([16, 4, 12, 64, 64])\n",
      "torch.Size([16, 1, 2, 64, 64])\n",
      "torch.Size([16, 4, 12, 64, 64])\n",
      "torch.Size([16, 1, 2, 64, 64])\n",
      "torch.Size([16, 4, 12, 64, 64])\n",
      "torch.Size([16, 1, 2, 64, 64])\n",
      "torch.Size([16, 4, 12, 64, 64])\n",
      "torch.Size([16, 1, 2, 64, 64])\n",
      "torch.Size([16, 4, 12, 64, 64])\n",
      "torch.Size([16, 1, 2, 64, 64])\n",
      "torch.Size([16, 4, 12, 64, 64])\n",
      "torch.Size([16, 1, 2, 64, 64])\n",
      "torch.Size([16, 4, 12, 64, 64])\n",
      "torch.Size([16, 1, 2, 64, 64])\n",
      "torch.Size([16, 4, 12, 64, 64])\n",
      "torch.Size([16, 1, 2, 64, 64])\n",
      "torch.Size([16, 4, 12, 64, 64])\n",
      "torch.Size([16, 1, 2, 64, 64])\n",
      "torch.Size([16, 4, 12, 64, 64])\n",
      "torch.Size([16, 1, 2, 64, 64])\n",
      "torch.Size([16, 4, 12, 64, 64])\n",
      "torch.Size([16, 1, 2, 64, 64])\n",
      "torch.Size([16, 4, 12, 64, 64])\n",
      "torch.Size([16, 1, 2, 64, 64])\n",
      "torch.Size([16, 4, 12, 64, 64])\n",
      "torch.Size([16, 1, 2, 64, 64])\n",
      "torch.Size([16, 4, 12, 64, 64])\n",
      "torch.Size([16, 1, 2, 64, 64])\n",
      "torch.Size([16, 4, 12, 64, 64])\n",
      "torch.Size([16, 1, 2, 64, 64])\n",
      "torch.Size([16, 4, 12, 64, 64])\n",
      "torch.Size([16, 1, 2, 64, 64])\n",
      "torch.Size([16, 4, 12, 64, 64])\n",
      "torch.Size([16, 1, 2, 64, 64])\n",
      "torch.Size([16, 4, 12, 64, 64])\n",
      "torch.Size([16, 1, 2, 64, 64])\n",
      "torch.Size([16, 4, 12, 64, 64])\n",
      "torch.Size([16, 1, 2, 64, 64])\n",
      "torch.Size([16, 4, 12, 64, 64])\n",
      "torch.Size([16, 1, 2, 64, 64])\n",
      "torch.Size([16, 4, 12, 64, 64])\n",
      "torch.Size([16, 1, 2, 64, 64])\n",
      "torch.Size([16, 4, 12, 64, 64])\n",
      "torch.Size([16, 1, 2, 64, 64])\n",
      "torch.Size([16, 4, 12, 64, 64])\n",
      "torch.Size([16, 1, 2, 64, 64])\n",
      "torch.Size([16, 4, 12, 64, 64])\n",
      "torch.Size([16, 1, 2, 64, 64])\n",
      "torch.Size([16, 4, 12, 64, 64])\n",
      "torch.Size([16, 1, 2, 64, 64])\n",
      "torch.Size([16, 4, 12, 64, 64])\n",
      "torch.Size([16, 1, 2, 64, 64])\n",
      "torch.Size([16, 4, 12, 64, 64])\n",
      "torch.Size([16, 1, 2, 64, 64])\n",
      "torch.Size([16, 4, 12, 64, 64])\n",
      "torch.Size([16, 1, 2, 64, 64])\n",
      "torch.Size([16, 4, 12, 64, 64])\n",
      "torch.Size([16, 1, 2, 64, 64])\n",
      "torch.Size([16, 4, 12, 64, 64])\n",
      "torch.Size([16, 1, 2, 64, 64])\n",
      "torch.Size([16, 4, 12, 64, 64])\n",
      "torch.Size([16, 1, 2, 64, 64])\n",
      "torch.Size([16, 4, 12, 64, 64])\n",
      "torch.Size([16, 1, 2, 64, 64])\n",
      "torch.Size([16, 4, 12, 64, 64])\n",
      "torch.Size([16, 1, 2, 64, 64])\n",
      "torch.Size([16, 4, 12, 64, 64])\n",
      "torch.Size([16, 1, 2, 64, 64])\n",
      "torch.Size([16, 4, 12, 64, 64])\n",
      "torch.Size([16, 1, 2, 64, 64])\n",
      "torch.Size([16, 4, 12, 64, 64])\n",
      "torch.Size([16, 1, 2, 64, 64])\n",
      "torch.Size([16, 4, 12, 64, 64])\n",
      "torch.Size([16, 1, 2, 64, 64])\n",
      "torch.Size([16, 4, 12, 64, 64])\n",
      "torch.Size([16, 1, 2, 64, 64])\n",
      "torch.Size([16, 4, 12, 64, 64])\n",
      "torch.Size([16, 1, 2, 64, 64])\n",
      "torch.Size([16, 4, 12, 64, 64])\n",
      "torch.Size([16, 1, 2, 64, 64])\n",
      "torch.Size([16, 4, 12, 64, 64])\n",
      "torch.Size([16, 1, 2, 64, 64])\n",
      "torch.Size([16, 4, 12, 64, 64])\n",
      "torch.Size([16, 1, 2, 64, 64])\n",
      "torch.Size([16, 4, 12, 64, 64])\n",
      "torch.Size([16, 1, 2, 64, 64])\n",
      "torch.Size([16, 4, 12, 64, 64])\n",
      "torch.Size([16, 1, 2, 64, 64])\n",
      "torch.Size([16, 4, 12, 64, 64])\n",
      "torch.Size([16, 1, 2, 64, 64])\n",
      "torch.Size([16, 4, 12, 64, 64])\n",
      "torch.Size([16, 1, 2, 64, 64])\n",
      "torch.Size([16, 4, 12, 64, 64])\n",
      "torch.Size([16, 1, 2, 64, 64])\n",
      "torch.Size([16, 4, 12, 64, 64])\n",
      "torch.Size([16, 1, 2, 64, 64])\n",
      "torch.Size([16, 4, 12, 64, 64])\n",
      "torch.Size([16, 1, 2, 64, 64])\n",
      "torch.Size([16, 4, 12, 64, 64])\n",
      "torch.Size([16, 1, 2, 64, 64])\n",
      "torch.Size([16, 4, 12, 64, 64])\n",
      "torch.Size([16, 1, 2, 64, 64])\n",
      "torch.Size([16, 4, 12, 64, 64])\n",
      "torch.Size([16, 1, 2, 64, 64])\n",
      "torch.Size([16, 4, 12, 64, 64])\n",
      "torch.Size([16, 1, 2, 64, 64])\n",
      "torch.Size([16, 4, 12, 64, 64])\n",
      "torch.Size([16, 1, 2, 64, 64])\n",
      "torch.Size([16, 4, 12, 64, 64])\n",
      "torch.Size([16, 1, 2, 64, 64])\n",
      "torch.Size([16, 4, 12, 64, 64])\n",
      "torch.Size([16, 1, 2, 64, 64])\n",
      "torch.Size([16, 4, 12, 64, 64])\n",
      "torch.Size([16, 1, 2, 64, 64])\n",
      "torch.Size([16, 4, 12, 64, 64])\n",
      "torch.Size([16, 1, 2, 64, 64])\n",
      "torch.Size([16, 4, 12, 64, 64])\n",
      "torch.Size([16, 1, 2, 64, 64])\n",
      "torch.Size([16, 4, 12, 64, 64])\n",
      "torch.Size([16, 1, 2, 64, 64])\n",
      "torch.Size([16, 4, 12, 64, 64])\n",
      "torch.Size([16, 1, 2, 64, 64])\n",
      "torch.Size([16, 4, 12, 64, 64])\n",
      "torch.Size([16, 1, 2, 64, 64])\n",
      "torch.Size([16, 4, 12, 64, 64])\n",
      "torch.Size([16, 1, 2, 64, 64])\n",
      "torch.Size([16, 4, 12, 64, 64])\n",
      "torch.Size([16, 1, 2, 64, 64])\n",
      "torch.Size([16, 4, 12, 64, 64])\n",
      "torch.Size([16, 1, 2, 64, 64])\n",
      "torch.Size([16, 4, 12, 64, 64])\n",
      "torch.Size([16, 1, 2, 64, 64])\n",
      "torch.Size([16, 4, 12, 64, 64])\n",
      "torch.Size([16, 1, 2, 64, 64])\n",
      "torch.Size([16, 4, 12, 64, 64])\n",
      "torch.Size([16, 1, 2, 64, 64])\n",
      "torch.Size([16, 4, 12, 64, 64])\n",
      "torch.Size([16, 1, 2, 64, 64])\n",
      "torch.Size([16, 4, 12, 64, 64])\n",
      "torch.Size([16, 1, 2, 64, 64])\n",
      "torch.Size([16, 4, 12, 64, 64])\n",
      "torch.Size([16, 1, 2, 64, 64])\n",
      "torch.Size([16, 4, 12, 64, 64])\n",
      "torch.Size([16, 1, 2, 64, 64])\n",
      "torch.Size([16, 4, 12, 64, 64])\n",
      "torch.Size([16, 1, 2, 64, 64])\n",
      "torch.Size([16, 4, 12, 64, 64])\n",
      "torch.Size([16, 1, 2, 64, 64])\n",
      "torch.Size([16, 4, 12, 64, 64])\n",
      "torch.Size([16, 1, 2, 64, 64])\n",
      "torch.Size([16, 4, 12, 64, 64])\n",
      "torch.Size([16, 1, 2, 64, 64])\n",
      "torch.Size([16, 4, 12, 64, 64])\n",
      "torch.Size([16, 1, 2, 64, 64])\n",
      "torch.Size([16, 4, 12, 64, 64])\n",
      "torch.Size([16, 1, 2, 64, 64])\n",
      "torch.Size([16, 4, 12, 64, 64])\n",
      "torch.Size([16, 1, 2, 64, 64])\n",
      "torch.Size([16, 4, 12, 64, 64])\n",
      "torch.Size([16, 1, 2, 64, 64])\n",
      "torch.Size([16, 4, 12, 64, 64])\n",
      "torch.Size([16, 1, 2, 64, 64])\n",
      "torch.Size([16, 4, 12, 64, 64])\n",
      "torch.Size([16, 1, 2, 64, 64])\n",
      "torch.Size([16, 4, 12, 64, 64])\n",
      "torch.Size([16, 1, 2, 64, 64])\n",
      "torch.Size([16, 4, 12, 64, 64])\n",
      "torch.Size([16, 1, 2, 64, 64])\n",
      "torch.Size([16, 4, 12, 64, 64])\n",
      "torch.Size([16, 1, 2, 64, 64])\n",
      "torch.Size([16, 4, 12, 64, 64])\n",
      "torch.Size([16, 1, 2, 64, 64])\n",
      "torch.Size([16, 4, 12, 64, 64])\n",
      "torch.Size([16, 1, 2, 64, 64])\n",
      "torch.Size([16, 4, 12, 64, 64])\n",
      "torch.Size([16, 1, 2, 64, 64])\n",
      "torch.Size([16, 4, 12, 64, 64])\n",
      "torch.Size([16, 1, 2, 64, 64])\n",
      "torch.Size([16, 4, 12, 64, 64])\n",
      "torch.Size([16, 1, 2, 64, 64])\n",
      "torch.Size([16, 4, 12, 64, 64])\n",
      "torch.Size([16, 1, 2, 64, 64])\n",
      "torch.Size([16, 4, 12, 64, 64])\n",
      "torch.Size([16, 1, 2, 64, 64])\n",
      "torch.Size([16, 4, 12, 64, 64])\n",
      "torch.Size([16, 1, 2, 64, 64])\n",
      "torch.Size([16, 4, 12, 64, 64])\n",
      "torch.Size([16, 1, 2, 64, 64])\n",
      "torch.Size([16, 4, 12, 64, 64])\n",
      "torch.Size([16, 1, 2, 64, 64])\n",
      "torch.Size([16, 4, 12, 64, 64])\n",
      "torch.Size([16, 1, 2, 64, 64])\n",
      "torch.Size([16, 4, 12, 64, 64])\n",
      "torch.Size([16, 1, 2, 64, 64])\n",
      "torch.Size([16, 4, 12, 64, 64])\n",
      "torch.Size([16, 1, 2, 64, 64])\n",
      "torch.Size([16, 4, 12, 64, 64])\n",
      "torch.Size([16, 1, 2, 64, 64])\n",
      "torch.Size([16, 4, 12, 64, 64])\n",
      "torch.Size([16, 1, 2, 64, 64])\n",
      "torch.Size([16, 4, 12, 64, 64])\n",
      "torch.Size([16, 1, 2, 64, 64])\n",
      "torch.Size([16, 4, 12, 64, 64])\n",
      "torch.Size([16, 1, 2, 64, 64])\n",
      "torch.Size([16, 4, 12, 64, 64])\n",
      "torch.Size([16, 1, 2, 64, 64])\n",
      "torch.Size([16, 4, 12, 64, 64])\n",
      "torch.Size([16, 1, 2, 64, 64])\n",
      "torch.Size([16, 4, 12, 64, 64])\n",
      "torch.Size([16, 1, 2, 64, 64])\n",
      "torch.Size([16, 4, 12, 64, 64])\n",
      "torch.Size([16, 1, 2, 64, 64])\n",
      "torch.Size([16, 4, 12, 64, 64])\n",
      "torch.Size([16, 1, 2, 64, 64])\n",
      "torch.Size([16, 4, 12, 64, 64])\n",
      "torch.Size([16, 1, 2, 64, 64])\n",
      "torch.Size([16, 4, 12, 64, 64])\n",
      "torch.Size([16, 1, 2, 64, 64])\n",
      "torch.Size([16, 4, 12, 64, 64])\n",
      "torch.Size([16, 1, 2, 64, 64])\n",
      "torch.Size([16, 4, 12, 64, 64])\n",
      "torch.Size([16, 1, 2, 64, 64])\n",
      "torch.Size([16, 4, 12, 64, 64])\n",
      "torch.Size([16, 1, 2, 64, 64])\n",
      "torch.Size([16, 4, 12, 64, 64])\n",
      "torch.Size([16, 1, 2, 64, 64])\n",
      "torch.Size([16, 4, 12, 64, 64])\n",
      "torch.Size([16, 1, 2, 64, 64])\n",
      "torch.Size([16, 4, 12, 64, 64])\n",
      "torch.Size([16, 1, 2, 64, 64])\n",
      "torch.Size([16, 4, 12, 64, 64])\n",
      "torch.Size([16, 1, 2, 64, 64])\n",
      "torch.Size([16, 4, 12, 64, 64])\n",
      "torch.Size([16, 1, 2, 64, 64])\n",
      "torch.Size([16, 4, 12, 64, 64])\n",
      "torch.Size([16, 1, 2, 64, 64])\n",
      "torch.Size([16, 4, 12, 64, 64])\n",
      "torch.Size([16, 1, 2, 64, 64])\n",
      "torch.Size([16, 4, 12, 64, 64])\n",
      "torch.Size([16, 1, 2, 64, 64])\n",
      "torch.Size([16, 4, 12, 64, 64])\n",
      "torch.Size([16, 1, 2, 64, 64])\n",
      "torch.Size([16, 4, 12, 64, 64])\n",
      "torch.Size([16, 1, 2, 64, 64])\n",
      "torch.Size([16, 4, 12, 64, 64])\n",
      "torch.Size([16, 1, 2, 64, 64])\n",
      "torch.Size([16, 4, 12, 64, 64])\n",
      "torch.Size([16, 1, 2, 64, 64])\n",
      "torch.Size([16, 4, 12, 64, 64])\n",
      "torch.Size([16, 1, 2, 64, 64])\n",
      "torch.Size([16, 4, 12, 64, 64])\n",
      "torch.Size([16, 1, 2, 64, 64])\n",
      "torch.Size([16, 4, 12, 64, 64])\n",
      "torch.Size([16, 1, 2, 64, 64])\n",
      "torch.Size([16, 4, 12, 64, 64])\n",
      "torch.Size([16, 1, 2, 64, 64])\n",
      "torch.Size([16, 4, 12, 64, 64])\n",
      "torch.Size([16, 1, 2, 64, 64])\n",
      "torch.Size([16, 4, 12, 64, 64])\n",
      "torch.Size([16, 1, 2, 64, 64])\n",
      "torch.Size([16, 4, 12, 64, 64])\n",
      "torch.Size([16, 1, 2, 64, 64])\n",
      "torch.Size([16, 4, 12, 64, 64])\n",
      "torch.Size([16, 1, 2, 64, 64])\n",
      "torch.Size([16, 4, 12, 64, 64])\n",
      "torch.Size([16, 1, 2, 64, 64])\n",
      "torch.Size([16, 4, 12, 64, 64])\n",
      "torch.Size([16, 1, 2, 64, 64])\n",
      "torch.Size([16, 4, 12, 64, 64])\n",
      "torch.Size([16, 1, 2, 64, 64])\n",
      "torch.Size([16, 4, 12, 64, 64])\n",
      "torch.Size([16, 1, 2, 64, 64])\n",
      "torch.Size([16, 4, 12, 64, 64])\n",
      "torch.Size([16, 1, 2, 64, 64])\n",
      "torch.Size([16, 4, 12, 64, 64])\n",
      "torch.Size([16, 1, 2, 64, 64])\n",
      "torch.Size([16, 4, 12, 64, 64])\n",
      "torch.Size([16, 1, 2, 64, 64])\n",
      "torch.Size([16, 4, 12, 64, 64])\n",
      "torch.Size([16, 1, 2, 64, 64])\n",
      "torch.Size([16, 4, 12, 64, 64])\n",
      "torch.Size([16, 1, 2, 64, 64])\n",
      "torch.Size([16, 4, 12, 64, 64])\n",
      "torch.Size([16, 1, 2, 64, 64])\n",
      "torch.Size([16, 4, 12, 64, 64])\n",
      "torch.Size([16, 1, 2, 64, 64])\n",
      "torch.Size([16, 4, 12, 64, 64])\n",
      "torch.Size([16, 1, 2, 64, 64])\n",
      "torch.Size([16, 4, 12, 64, 64])\n",
      "torch.Size([16, 1, 2, 64, 64])\n",
      "torch.Size([16, 4, 12, 64, 64])\n",
      "torch.Size([16, 1, 2, 64, 64])\n",
      "torch.Size([16, 4, 12, 64, 64])\n",
      "torch.Size([16, 1, 2, 64, 64])\n",
      "torch.Size([16, 4, 12, 64, 64])\n",
      "torch.Size([16, 1, 2, 64, 64])\n",
      "torch.Size([16, 4, 12, 64, 64])\n",
      "torch.Size([16, 1, 2, 64, 64])\n",
      "torch.Size([16, 4, 12, 64, 64])\n",
      "torch.Size([16, 1, 2, 64, 64])\n",
      "torch.Size([16, 4, 12, 64, 64])\n",
      "torch.Size([16, 1, 2, 64, 64])\n",
      "torch.Size([16, 4, 12, 64, 64])\n",
      "torch.Size([16, 1, 2, 64, 64])\n",
      "torch.Size([16, 4, 12, 64, 64])\n",
      "torch.Size([16, 1, 2, 64, 64])\n",
      "torch.Size([16, 4, 12, 64, 64])\n",
      "torch.Size([16, 1, 2, 64, 64])\n",
      "torch.Size([16, 4, 12, 64, 64])\n",
      "torch.Size([16, 1, 2, 64, 64])\n",
      "torch.Size([16, 4, 12, 64, 64])\n",
      "torch.Size([16, 1, 2, 64, 64])\n",
      "torch.Size([16, 4, 12, 64, 64])\n",
      "torch.Size([16, 1, 2, 64, 64])\n",
      "torch.Size([16, 4, 12, 64, 64])\n",
      "torch.Size([16, 1, 2, 64, 64])\n",
      "torch.Size([8, 4, 12, 64, 64])\n",
      "torch.Size([8, 1, 2, 64, 64])\n",
      "Baseline Error (Train) = 0.259600\n"
     ]
    }
   ],
   "source": [
    "# baseline: all zero\n",
    "base_train_err = 0\n",
    "for inputs, labels in trainloader:\n",
    "    print(inputs.shape)\n",
    "    print(labels.shape)\n",
    "    y_pred = torch.tensor(np.zeros(labels.shape)).to(dev)\n",
    "    y_pred[:, 0, :, :] = 1\n",
    "    # base_train_err += ce_loss(input=y_pred, target=labels)\n",
    "    base_train_err += f_loss(y_pred=y_pred, y_true=labels)\n",
    "base_train_err = base_train_err / len(trainloader)\n",
    "\n",
    "print(f\"Baseline Error (Train) = {base_train_err:.6f}\")"
   ]
  },
  {
   "cell_type": "code",
   "execution_count": 78,
   "metadata": {},
   "outputs": [
    {
     "name": "stdout",
     "output_type": "stream",
     "text": [
      "Baseline Error (Validation) = 0.259600\n"
     ]
    }
   ],
   "source": [
    "base_val_err = 0\n",
    "for inputs, labels in valloader:\n",
    "    y_pred = torch.tensor(np.zeros(labels.shape)).to(dev)\n",
    "    y_pred[:, 0, :, :] = 1\n",
    "    # base_val_err += ce_loss(input=y_pred, target=labels)\n",
    "    base_val_err += f_loss(y_pred=y_pred, y_true=labels)\n",
    "base_val_err = base_val_err / len(valloader)\n",
    "print(f\"Baseline Error (Validation) = {base_val_err:.6f}\")"
   ]
  },
  {
   "cell_type": "markdown",
   "metadata": {},
   "source": [
    "# Model Init"
   ]
  },
  {
   "cell_type": "code",
   "execution_count": 64,
   "metadata": {},
   "outputs": [],
   "source": [
    "import torch.optim as optim\n",
    "import segmentation_models_pytorch as smp"
   ]
  },
  {
   "cell_type": "code",
   "execution_count": 65,
   "metadata": {},
   "outputs": [
    {
     "data": {
      "text/plain": [
       "21"
      ]
     },
     "execution_count": 65,
     "metadata": {},
     "output_type": "execute_result"
    }
   ],
   "source": [
    "# in_channels = 4+2+4+4+4+3+1+2\n",
    "# 1 + 2 + 1 + 1 + 1 + 3 + 1 + 2\n",
    "in_channels = 21\n",
    "in_channels"
   ]
  },
  {
   "cell_type": "code",
   "execution_count": 68,
   "metadata": {},
   "outputs": [],
   "source": [
    "# model = smp.Unet(\n",
    "#     encoder_name=\"resnet34\",\n",
    "#     encoder_weights=None,\n",
    "#     in_channels=in_channels,\n",
    "#     classes=2,\n",
    "# ).to(dev)\n",
    "# optimizer = optim.Adam(model.parameters(), lr=1e-4)"
   ]
  },
  {
   "cell_type": "code",
   "execution_count": 66,
   "metadata": {},
   "outputs": [],
   "source": [
    "from openstl.models.simvp_model import SimVP_Model"
   ]
  },
  {
   "cell_type": "code",
   "execution_count": 84,
   "metadata": {},
   "outputs": [
    {
     "name": "stdout",
     "output_type": "stream",
     "text": [
      "DEBUG\n",
      "2\n"
     ]
    }
   ],
   "source": [
    "# model = smp.DeepLabV3Plus(\n",
    "#     encoder_name=\"resnet34\",\n",
    "#     encoder_weights=None,\n",
    "#     in_channels=in_channels, \n",
    "#     classes=2,\n",
    "# ).to(dev)\n",
    "\n",
    "# # TODO: call SimVP model\n",
    "in_shape = (4, 12, 64, 64)\n",
    "model = SimVP_Model(in_shape=in_shape, nclasses=2).to(dev)\n",
    "\n",
    "optimizer = optim.Adam(model.parameters(), lr=1e-4)"
   ]
  },
  {
   "cell_type": "code",
   "execution_count": 85,
   "metadata": {},
   "outputs": [],
   "source": [
    "# model.load_state_dict(torch.load(r\"DeepLabV3+.pt\"))"
   ]
  },
  {
   "cell_type": "code",
   "execution_count": 86,
   "metadata": {},
   "outputs": [
    {
     "name": "stdout",
     "output_type": "stream",
     "text": [
      "SimVP_Model(\n",
      "  (enc): Encoder(\n",
      "    (enc): Sequential(\n",
      "      (0): ConvSC(\n",
      "        (conv): BasicConv2d(\n",
      "          (conv): Conv2d(12, 16, kernel_size=(3, 3), stride=(1, 1), padding=(1, 1))\n",
      "          (norm): GroupNorm(2, 16, eps=1e-05, affine=True)\n",
      "          (act): SiLU()\n",
      "        )\n",
      "      )\n",
      "      (1): ConvSC(\n",
      "        (conv): BasicConv2d(\n",
      "          (conv): Conv2d(16, 16, kernel_size=(3, 3), stride=(2, 2), padding=(1, 1))\n",
      "          (norm): GroupNorm(2, 16, eps=1e-05, affine=True)\n",
      "          (act): SiLU()\n",
      "        )\n",
      "      )\n",
      "      (2): ConvSC(\n",
      "        (conv): BasicConv2d(\n",
      "          (conv): Conv2d(16, 16, kernel_size=(3, 3), stride=(1, 1), padding=(1, 1))\n",
      "          (norm): GroupNorm(2, 16, eps=1e-05, affine=True)\n",
      "          (act): SiLU()\n",
      "        )\n",
      "      )\n",
      "      (3): ConvSC(\n",
      "        (conv): BasicConv2d(\n",
      "          (conv): Conv2d(16, 16, kernel_size=(3, 3), stride=(2, 2), padding=(1, 1))\n",
      "          (norm): GroupNorm(2, 16, eps=1e-05, affine=True)\n",
      "          (act): SiLU()\n",
      "        )\n",
      "      )\n",
      "    )\n",
      "  )\n",
      "  (dec): Decoder(\n",
      "    (dec): Sequential(\n",
      "      (0): ConvSC(\n",
      "        (conv): BasicConv2d(\n",
      "          (conv): Sequential(\n",
      "            (0): Conv2d(16, 64, kernel_size=(3, 3), stride=(1, 1), padding=(1, 1))\n",
      "            (1): PixelShuffle(upscale_factor=2)\n",
      "          )\n",
      "          (norm): GroupNorm(2, 16, eps=1e-05, affine=True)\n",
      "          (act): SiLU()\n",
      "        )\n",
      "      )\n",
      "      (1): ConvSC(\n",
      "        (conv): BasicConv2d(\n",
      "          (conv): Conv2d(16, 16, kernel_size=(3, 3), stride=(1, 1), padding=(1, 1))\n",
      "          (norm): GroupNorm(2, 16, eps=1e-05, affine=True)\n",
      "          (act): SiLU()\n",
      "        )\n",
      "      )\n",
      "      (2): ConvSC(\n",
      "        (conv): BasicConv2d(\n",
      "          (conv): Sequential(\n",
      "            (0): Conv2d(16, 64, kernel_size=(3, 3), stride=(1, 1), padding=(1, 1))\n",
      "            (1): PixelShuffle(upscale_factor=2)\n",
      "          )\n",
      "          (norm): GroupNorm(2, 16, eps=1e-05, affine=True)\n",
      "          (act): SiLU()\n",
      "        )\n",
      "      )\n",
      "      (3): ConvSC(\n",
      "        (conv): BasicConv2d(\n",
      "          (conv): Conv2d(16, 16, kernel_size=(3, 3), stride=(1, 1), padding=(1, 1))\n",
      "          (norm): GroupNorm(2, 16, eps=1e-05, affine=True)\n",
      "          (act): SiLU()\n",
      "        )\n",
      "      )\n",
      "    )\n",
      "    (readout): Conv2d(16, 2, kernel_size=(1, 1), stride=(1, 1))\n",
      "  )\n",
      "  (hid): MidMetaNet(\n",
      "    (enc): Sequential(\n",
      "      (0): MetaBlock(\n",
      "        (block): GASubBlock(\n",
      "          (norm1): BatchNorm2d(64, eps=1e-05, momentum=0.1, affine=True, track_running_stats=True)\n",
      "          (attn): SpatialAttention(\n",
      "            (proj_1): Conv2d(64, 64, kernel_size=(1, 1), stride=(1, 1))\n",
      "            (activation): GELU(approximate='none')\n",
      "            (spatial_gating_unit): AttentionModule(\n",
      "              (conv0): Conv2d(64, 64, kernel_size=(5, 5), stride=(1, 1), padding=(2, 2), groups=64)\n",
      "              (conv_spatial): Conv2d(64, 64, kernel_size=(7, 7), stride=(1, 1), padding=(9, 9), dilation=(3, 3), groups=64)\n",
      "              (conv1): Conv2d(64, 128, kernel_size=(1, 1), stride=(1, 1))\n",
      "            )\n",
      "            (proj_2): Conv2d(64, 64, kernel_size=(1, 1), stride=(1, 1))\n",
      "          )\n",
      "          (drop_path): DropPath(drop_prob=0.010)\n",
      "          (norm2): BatchNorm2d(64, eps=1e-05, momentum=0.1, affine=True, track_running_stats=True)\n",
      "          (mlp): MixMlp(\n",
      "            (fc1): Conv2d(64, 512, kernel_size=(1, 1), stride=(1, 1))\n",
      "            (dwconv): DWConv(\n",
      "              (dwconv): Conv2d(512, 512, kernel_size=(3, 3), stride=(1, 1), padding=(1, 1), groups=512)\n",
      "            )\n",
      "            (act): GELU(approximate='none')\n",
      "            (fc2): Conv2d(512, 64, kernel_size=(1, 1), stride=(1, 1))\n",
      "            (drop): Dropout(p=0.0, inplace=False)\n",
      "          )\n",
      "        )\n",
      "        (reduction): Conv2d(64, 256, kernel_size=(1, 1), stride=(1, 1))\n",
      "      )\n",
      "      (1): MetaBlock(\n",
      "        (block): GASubBlock(\n",
      "          (norm1): BatchNorm2d(256, eps=1e-05, momentum=0.1, affine=True, track_running_stats=True)\n",
      "          (attn): SpatialAttention(\n",
      "            (proj_1): Conv2d(256, 256, kernel_size=(1, 1), stride=(1, 1))\n",
      "            (activation): GELU(approximate='none')\n",
      "            (spatial_gating_unit): AttentionModule(\n",
      "              (conv0): Conv2d(256, 256, kernel_size=(5, 5), stride=(1, 1), padding=(2, 2), groups=256)\n",
      "              (conv_spatial): Conv2d(256, 256, kernel_size=(7, 7), stride=(1, 1), padding=(9, 9), dilation=(3, 3), groups=256)\n",
      "              (conv1): Conv2d(256, 512, kernel_size=(1, 1), stride=(1, 1))\n",
      "            )\n",
      "            (proj_2): Conv2d(256, 256, kernel_size=(1, 1), stride=(1, 1))\n",
      "          )\n",
      "          (drop_path): DropPath(drop_prob=0.007)\n",
      "          (norm2): BatchNorm2d(256, eps=1e-05, momentum=0.1, affine=True, track_running_stats=True)\n",
      "          (mlp): MixMlp(\n",
      "            (fc1): Conv2d(256, 2048, kernel_size=(1, 1), stride=(1, 1))\n",
      "            (dwconv): DWConv(\n",
      "              (dwconv): Conv2d(2048, 2048, kernel_size=(3, 3), stride=(1, 1), padding=(1, 1), groups=2048)\n",
      "            )\n",
      "            (act): GELU(approximate='none')\n",
      "            (fc2): Conv2d(2048, 256, kernel_size=(1, 1), stride=(1, 1))\n",
      "            (drop): Dropout(p=0.0, inplace=False)\n",
      "          )\n",
      "        )\n",
      "      )\n",
      "      (2): MetaBlock(\n",
      "        (block): GASubBlock(\n",
      "          (norm1): BatchNorm2d(256, eps=1e-05, momentum=0.1, affine=True, track_running_stats=True)\n",
      "          (attn): SpatialAttention(\n",
      "            (proj_1): Conv2d(256, 256, kernel_size=(1, 1), stride=(1, 1))\n",
      "            (activation): GELU(approximate='none')\n",
      "            (spatial_gating_unit): AttentionModule(\n",
      "              (conv0): Conv2d(256, 256, kernel_size=(5, 5), stride=(1, 1), padding=(2, 2), groups=256)\n",
      "              (conv_spatial): Conv2d(256, 256, kernel_size=(7, 7), stride=(1, 1), padding=(9, 9), dilation=(3, 3), groups=256)\n",
      "              (conv1): Conv2d(256, 512, kernel_size=(1, 1), stride=(1, 1))\n",
      "            )\n",
      "            (proj_2): Conv2d(256, 256, kernel_size=(1, 1), stride=(1, 1))\n",
      "          )\n",
      "          (drop_path): DropPath(drop_prob=0.003)\n",
      "          (norm2): BatchNorm2d(256, eps=1e-05, momentum=0.1, affine=True, track_running_stats=True)\n",
      "          (mlp): MixMlp(\n",
      "            (fc1): Conv2d(256, 2048, kernel_size=(1, 1), stride=(1, 1))\n",
      "            (dwconv): DWConv(\n",
      "              (dwconv): Conv2d(2048, 2048, kernel_size=(3, 3), stride=(1, 1), padding=(1, 1), groups=2048)\n",
      "            )\n",
      "            (act): GELU(approximate='none')\n",
      "            (fc2): Conv2d(2048, 256, kernel_size=(1, 1), stride=(1, 1))\n",
      "            (drop): Dropout(p=0.0, inplace=False)\n",
      "          )\n",
      "        )\n",
      "      )\n",
      "      (3): MetaBlock(\n",
      "        (block): GASubBlock(\n",
      "          (norm1): BatchNorm2d(256, eps=1e-05, momentum=0.1, affine=True, track_running_stats=True)\n",
      "          (attn): SpatialAttention(\n",
      "            (proj_1): Conv2d(256, 256, kernel_size=(1, 1), stride=(1, 1))\n",
      "            (activation): GELU(approximate='none')\n",
      "            (spatial_gating_unit): AttentionModule(\n",
      "              (conv0): Conv2d(256, 256, kernel_size=(5, 5), stride=(1, 1), padding=(2, 2), groups=256)\n",
      "              (conv_spatial): Conv2d(256, 256, kernel_size=(7, 7), stride=(1, 1), padding=(9, 9), dilation=(3, 3), groups=256)\n",
      "              (conv1): Conv2d(256, 512, kernel_size=(1, 1), stride=(1, 1))\n",
      "            )\n",
      "            (proj_2): Conv2d(256, 256, kernel_size=(1, 1), stride=(1, 1))\n",
      "          )\n",
      "          (drop_path): Identity()\n",
      "          (norm2): BatchNorm2d(256, eps=1e-05, momentum=0.1, affine=True, track_running_stats=True)\n",
      "          (mlp): MixMlp(\n",
      "            (fc1): Conv2d(256, 2048, kernel_size=(1, 1), stride=(1, 1))\n",
      "            (dwconv): DWConv(\n",
      "              (dwconv): Conv2d(2048, 2048, kernel_size=(3, 3), stride=(1, 1), padding=(1, 1), groups=2048)\n",
      "            )\n",
      "            (act): GELU(approximate='none')\n",
      "            (fc2): Conv2d(2048, 256, kernel_size=(1, 1), stride=(1, 1))\n",
      "            (drop): Dropout(p=0.0, inplace=False)\n",
      "          )\n",
      "        )\n",
      "        (reduction): Conv2d(256, 64, kernel_size=(1, 1), stride=(1, 1))\n",
      "      )\n",
      "    )\n",
      "  )\n",
      ")\n"
     ]
    }
   ],
   "source": [
    "print(model)"
   ]
  },
  {
   "cell_type": "markdown",
   "metadata": {},
   "source": [
    "# Train loop"
   ]
  },
  {
   "cell_type": "code",
   "execution_count": 88,
   "metadata": {},
   "outputs": [],
   "source": [
    "# train loop\n",
    "model.epoch = 0\n",
    "model.errs = []"
   ]
  },
  {
   "cell_type": "code",
   "execution_count": 89,
   "metadata": {},
   "outputs": [],
   "source": [
    "def evaluate_model(model, dataloader):\n",
    "    err = 0\n",
    "    for inputs, labels in dataloader:\n",
    "        y_pred = model(inputs.to(dev)).detach()\n",
    "        # err += ce_loss(input=y_pred, target=labels)\n",
    "        y_pred = y_pred[:, 0].contiguous().unsqueeze(1)\n",
    "        err += f_loss(y_pred=y_pred, y_true=labels)\n",
    "    err = err / len(dataloader)\n",
    "\n",
    "    return err"
   ]
  },
  {
   "cell_type": "code",
   "execution_count": 90,
   "metadata": {},
   "outputs": [],
   "source": [
    "def run_epoch():\n",
    "    model.epoch += 1\n",
    "    print(f\"\\nEpoch {model.epoch}\")\n",
    "    \n",
    "    train_err = 0\n",
    "    for inputs, labels in tqdm(trainloader):\n",
    "        y_pred = model(inputs.to(dev))\n",
    "        # loss = ce_loss(input=y_pred, target=labels)\n",
    "        # print(y_pred)\n",
    "        # print(labels.shape)\n",
    "        # print(y_pred.shape)\n",
    "        y_pred = y_pred[:, 0].contiguous().unsqueeze(1)\n",
    "        # y_pred = torch.argmax(y_pred, axis=2)\n",
    "        # print(y_pred.shape)\n",
    "        loss = f_loss(y_pred=y_pred, y_true=labels.to(dev))\n",
    "        optimizer.zero_grad()\n",
    "        loss.backward()\n",
    "        optimizer.step()\n",
    "        train_err += loss.detach()\n",
    "    train_err = train_err / len(trainloader)\n",
    "    \n",
    "    return train_err\n",
    "\n",
    "\n",
    "def train(n_epochs):\n",
    "    for epoch in range(n_epochs):\n",
    "        \n",
    "        # train for 1 epoch and compute error\n",
    "        train_err = run_epoch()\n",
    "\n",
    "        # compute validation error and save history            \n",
    "        val_err = evaluate_model(model, valloader)\n",
    "        model.errs.append([train_err, val_err])\n",
    "\n",
    "        print(f\"Epoch {model.epoch}: Train Loss = {train_err:.6f} | Validation Loss = {val_err:.6f}\")"
   ]
  },
  {
   "cell_type": "code",
   "execution_count": 91,
   "metadata": {},
   "outputs": [
    {
     "name": "stdout",
     "output_type": "stream",
     "text": [
      "\n",
      "Epoch 1\n"
     ]
    },
    {
     "name": "stderr",
     "output_type": "stream",
     "text": [
      "100%|██████████| 216/216 [00:38<00:00,  5.61it/s]\n"
     ]
    },
    {
     "name": "stdout",
     "output_type": "stream",
     "text": [
      "Epoch 1: Train Loss = 0.021657 | Validation Loss = 0.018331\n",
      "\n",
      "Epoch 2\n"
     ]
    },
    {
     "name": "stderr",
     "output_type": "stream",
     "text": [
      "100%|██████████| 216/216 [00:38<00:00,  5.56it/s]\n"
     ]
    },
    {
     "name": "stdout",
     "output_type": "stream",
     "text": [
      "Epoch 2: Train Loss = 0.013167 | Validation Loss = 0.016355\n",
      "\n",
      "Epoch 3\n"
     ]
    },
    {
     "name": "stderr",
     "output_type": "stream",
     "text": [
      "100%|██████████| 216/216 [00:38<00:00,  5.56it/s]\n"
     ]
    },
    {
     "name": "stdout",
     "output_type": "stream",
     "text": [
      "Epoch 3: Train Loss = 0.011438 | Validation Loss = 0.015451\n",
      "\n",
      "Epoch 4\n"
     ]
    },
    {
     "name": "stderr",
     "output_type": "stream",
     "text": [
      "100%|██████████| 216/216 [00:39<00:00,  5.54it/s]\n"
     ]
    },
    {
     "name": "stdout",
     "output_type": "stream",
     "text": [
      "Epoch 4: Train Loss = 0.010459 | Validation Loss = 0.015253\n",
      "\n",
      "Epoch 5\n"
     ]
    },
    {
     "name": "stderr",
     "output_type": "stream",
     "text": [
      "100%|██████████| 216/216 [00:39<00:00,  5.53it/s]\n"
     ]
    },
    {
     "name": "stdout",
     "output_type": "stream",
     "text": [
      "Epoch 5: Train Loss = 0.009836 | Validation Loss = 0.015555\n",
      "\n",
      "Epoch 6\n"
     ]
    },
    {
     "name": "stderr",
     "output_type": "stream",
     "text": [
      "100%|██████████| 216/216 [00:38<00:00,  5.56it/s]\n"
     ]
    },
    {
     "name": "stdout",
     "output_type": "stream",
     "text": [
      "Epoch 6: Train Loss = 0.009274 | Validation Loss = 0.014625\n",
      "\n",
      "Epoch 7\n"
     ]
    },
    {
     "name": "stderr",
     "output_type": "stream",
     "text": [
      "100%|██████████| 216/216 [00:38<00:00,  5.57it/s]\n"
     ]
    },
    {
     "name": "stdout",
     "output_type": "stream",
     "text": [
      "Epoch 7: Train Loss = 0.008792 | Validation Loss = 0.014589\n",
      "\n",
      "Epoch 8\n"
     ]
    },
    {
     "name": "stderr",
     "output_type": "stream",
     "text": [
      "100%|██████████| 216/216 [00:39<00:00,  5.45it/s]\n"
     ]
    },
    {
     "name": "stdout",
     "output_type": "stream",
     "text": [
      "Epoch 8: Train Loss = 0.008213 | Validation Loss = 0.015911\n",
      "\n",
      "Epoch 9\n"
     ]
    },
    {
     "name": "stderr",
     "output_type": "stream",
     "text": [
      "100%|██████████| 216/216 [00:39<00:00,  5.43it/s]\n"
     ]
    },
    {
     "name": "stdout",
     "output_type": "stream",
     "text": [
      "Epoch 9: Train Loss = 0.007677 | Validation Loss = 0.015552\n",
      "\n",
      "Epoch 10\n"
     ]
    },
    {
     "name": "stderr",
     "output_type": "stream",
     "text": [
      "100%|██████████| 216/216 [00:38<00:00,  5.63it/s]\n"
     ]
    },
    {
     "name": "stdout",
     "output_type": "stream",
     "text": [
      "Epoch 10: Train Loss = 0.007078 | Validation Loss = 0.016997\n"
     ]
    }
   ],
   "source": [
    "train(10)"
   ]
  },
  {
   "cell_type": "markdown",
   "metadata": {},
   "source": [
    "Better than baseline?"
   ]
  },
  {
   "cell_type": "code",
   "execution_count": 92,
   "metadata": {},
   "outputs": [
    {
     "data": {
      "text/plain": [
       "(-0.2525223022805177, -0.24260289450302935)"
      ]
     },
     "execution_count": 92,
     "metadata": {},
     "output_type": "execute_result"
    }
   ],
   "source": [
    "(\n",
    "    float(model.errs[-1][0] - base_train_err), \n",
    "    float(model.errs[-1][1] - base_val_err)\n",
    ")"
   ]
  },
  {
   "cell_type": "markdown",
   "metadata": {},
   "source": [
    "Learning curve"
   ]
  },
  {
   "cell_type": "code",
   "execution_count": 93,
   "metadata": {},
   "outputs": [
    {
     "data": {
      "image/png": "[encoded data removed]",
      "text/plain": [
       "<Figure size 640x480 with 1 Axes>"
      ]
     },
     "metadata": {},
     "output_type": "display_data"
    }
   ],
   "source": [
    "import matplotlib.pyplot as plt\n",
    "\n",
    "plt.plot([float(e[0]) for e in model.errs])\n",
    "plt.title(\"Train loss\")\n",
    "plt.plot([float(e[1]) for e in model.errs])\n",
    "plt.title(\"Validation loss\")\n",
    "plt.show()"
   ]
  },
  {
   "cell_type": "code",
   "execution_count": 94,
   "metadata": {},
   "outputs": [
    {
     "data": {
      "image/png": "[encoded data removed]",
      "text/plain": [
       "<Figure size 800x400 with 1 Axes>"
      ]
     },
     "metadata": {},
     "output_type": "display_data"
    }
   ],
   "source": [
    "fig, ax = plt.subplots(figsize=(8, 4))\n",
    "x = np.array(range(len(model.errs))) + 1\n",
    "sns.lineplot(x=x, y=[float(e[0]) for e in model.errs], label=\"Train\")\n",
    "sns.lineplot(x=x, y=[float(e[1]) for e in model.errs], label=\"Validation\")\n",
    "ax.set_title(\"Loss\")\n",
    "ax.set_xlabel(\"Epochs\")\n",
    "plt.show()"
   ]
  },
  {
   "cell_type": "markdown",
   "metadata": {},
   "source": [
    "# Test step"
   ]
  },
  {
   "cell_type": "code",
   "execution_count": 95,
   "metadata": {},
   "outputs": [],
   "source": [
    "testloader = torch.utils.data.DataLoader(\n",
    "    CustomDataset(\n",
    "        test_data, \n",
    "        patches_sample_val, \n",
    "        frames_idx, \n",
    "        county_data,\n",
    "        counties_time_grid,\n",
    "        precip_time_grid,\n",
    "        tpi_array,\n",
    "        None,\n",
    "        scores_time_grid,\n",
    "        night_time_grid\n",
    "    ),\n",
    "    batch_size=16,\n",
    "    shuffle=True\n",
    ")"
   ]
  },
  {
   "cell_type": "code",
   "execution_count": 96,
   "metadata": {},
   "outputs": [],
   "source": [
    "# softmax function will be needed\n",
    "softmax_ = nn.Softmax(dim=2)"
   ]
  },
  {
   "cell_type": "code",
   "execution_count": 97,
   "metadata": {},
   "outputs": [
    {
     "name": "stdout",
     "output_type": "stream",
     "text": [
      "torch.Size([16, 1, 2, 64, 64])\n",
      "torch.Size([16, 1, 2, 64, 64])\n",
      "torch.Size([16, 1, 2, 64, 64])\n",
      "torch.Size([16, 1, 2, 64, 64])\n",
      "torch.Size([16, 1, 2, 64, 64])\n",
      "torch.Size([16, 1, 2, 64, 64])\n",
      "torch.Size([16, 1, 2, 64, 64])\n",
      "torch.Size([16, 1, 2, 64, 64])\n",
      "torch.Size([16, 1, 2, 64, 64])\n",
      "torch.Size([16, 1, 2, 64, 64])\n",
      "torch.Size([16, 1, 2, 64, 64])\n",
      "torch.Size([16, 1, 2, 64, 64])\n",
      "torch.Size([16, 1, 2, 64, 64])\n",
      "torch.Size([16, 1, 2, 64, 64])\n",
      "torch.Size([16, 1, 2, 64, 64])\n",
      "torch.Size([16, 1, 2, 64, 64])\n",
      "torch.Size([16, 1, 2, 64, 64])\n",
      "torch.Size([16, 1, 2, 64, 64])\n",
      "torch.Size([16, 1, 2, 64, 64])\n",
      "torch.Size([16, 1, 2, 64, 64])\n",
      "torch.Size([16, 1, 2, 64, 64])\n",
      "torch.Size([16, 1, 2, 64, 64])\n",
      "torch.Size([16, 1, 2, 64, 64])\n",
      "torch.Size([16, 1, 2, 64, 64])\n",
      "torch.Size([16, 1, 2, 64, 64])\n",
      "torch.Size([16, 1, 2, 64, 64])\n",
      "torch.Size([16, 1, 2, 64, 64])\n",
      "torch.Size([16, 1, 2, 64, 64])\n",
      "torch.Size([16, 1, 2, 64, 64])\n",
      "torch.Size([16, 1, 2, 64, 64])\n",
      "torch.Size([16, 1, 2, 64, 64])\n",
      "torch.Size([16, 1, 2, 64, 64])\n",
      "torch.Size([16, 1, 2, 64, 64])\n",
      "torch.Size([16, 1, 2, 64, 64])\n",
      "torch.Size([16, 1, 2, 64, 64])\n",
      "torch.Size([16, 1, 2, 64, 64])\n",
      "torch.Size([16, 1, 2, 64, 64])\n",
      "torch.Size([16, 1, 2, 64, 64])\n",
      "torch.Size([16, 1, 2, 64, 64])\n",
      "torch.Size([16, 1, 2, 64, 64])\n",
      "torch.Size([16, 1, 2, 64, 64])\n",
      "torch.Size([16, 1, 2, 64, 64])\n",
      "torch.Size([16, 1, 2, 64, 64])\n",
      "torch.Size([16, 1, 2, 64, 64])\n",
      "torch.Size([16, 1, 2, 64, 64])\n",
      "torch.Size([16, 1, 2, 64, 64])\n",
      "torch.Size([16, 1, 2, 64, 64])\n",
      "torch.Size([16, 1, 2, 64, 64])\n",
      "torch.Size([16, 1, 2, 64, 64])\n",
      "torch.Size([16, 1, 2, 64, 64])\n",
      "torch.Size([16, 1, 2, 64, 64])\n",
      "torch.Size([16, 1, 2, 64, 64])\n",
      "torch.Size([16, 1, 2, 64, 64])\n",
      "torch.Size([16, 1, 2, 64, 64])\n",
      "torch.Size([16, 1, 2, 64, 64])\n",
      "torch.Size([16, 1, 2, 64, 64])\n",
      "torch.Size([16, 1, 2, 64, 64])\n",
      "torch.Size([16, 1, 2, 64, 64])\n",
      "torch.Size([16, 1, 2, 64, 64])\n",
      "torch.Size([16, 1, 2, 64, 64])\n",
      "torch.Size([16, 1, 2, 64, 64])\n",
      "torch.Size([16, 1, 2, 64, 64])\n",
      "torch.Size([16, 1, 2, 64, 64])\n",
      "torch.Size([16, 1, 2, 64, 64])\n",
      "torch.Size([16, 1, 2, 64, 64])\n",
      "torch.Size([16, 1, 2, 64, 64])\n",
      "torch.Size([16, 1, 2, 64, 64])\n",
      "torch.Size([16, 1, 2, 64, 64])\n",
      "torch.Size([16, 1, 2, 64, 64])\n",
      "torch.Size([16, 1, 2, 64, 64])\n",
      "torch.Size([16, 1, 2, 64, 64])\n",
      "torch.Size([16, 1, 2, 64, 64])\n",
      "torch.Size([16, 1, 2, 64, 64])\n",
      "torch.Size([16, 1, 2, 64, 64])\n",
      "torch.Size([16, 1, 2, 64, 64])\n",
      "torch.Size([16, 1, 2, 64, 64])\n",
      "torch.Size([16, 1, 2, 64, 64])\n",
      "torch.Size([16, 1, 2, 64, 64])\n",
      "torch.Size([16, 1, 2, 64, 64])\n",
      "torch.Size([16, 1, 2, 64, 64])\n",
      "torch.Size([16, 1, 2, 64, 64])\n",
      "torch.Size([16, 1, 2, 64, 64])\n",
      "torch.Size([16, 1, 2, 64, 64])\n",
      "torch.Size([16, 1, 2, 64, 64])\n",
      "torch.Size([16, 1, 2, 64, 64])\n",
      "torch.Size([16, 1, 2, 64, 64])\n",
      "torch.Size([16, 1, 2, 64, 64])\n",
      "torch.Size([16, 1, 2, 64, 64])\n",
      "torch.Size([16, 1, 2, 64, 64])\n",
      "torch.Size([16, 1, 2, 64, 64])\n",
      "torch.Size([16, 1, 2, 64, 64])\n",
      "torch.Size([16, 1, 2, 64, 64])\n",
      "torch.Size([16, 1, 2, 64, 64])\n",
      "torch.Size([16, 1, 2, 64, 64])\n",
      "torch.Size([16, 1, 2, 64, 64])\n",
      "torch.Size([16, 1, 2, 64, 64])\n",
      "torch.Size([16, 1, 2, 64, 64])\n",
      "torch.Size([16, 1, 2, 64, 64])\n",
      "torch.Size([16, 1, 2, 64, 64])\n",
      "torch.Size([16, 1, 2, 64, 64])\n",
      "torch.Size([16, 1, 2, 64, 64])\n",
      "torch.Size([16, 1, 2, 64, 64])\n",
      "torch.Size([16, 1, 2, 64, 64])\n",
      "torch.Size([16, 1, 2, 64, 64])\n",
      "torch.Size([16, 1, 2, 64, 64])\n",
      "torch.Size([16, 1, 2, 64, 64])\n",
      "torch.Size([16, 1, 2, 64, 64])\n",
      "torch.Size([16, 1, 2, 64, 64])\n",
      "torch.Size([16, 1, 2, 64, 64])\n",
      "torch.Size([16, 1, 2, 64, 64])\n",
      "torch.Size([16, 1, 2, 64, 64])\n",
      "torch.Size([16, 1, 2, 64, 64])\n",
      "torch.Size([16, 1, 2, 64, 64])\n",
      "torch.Size([16, 1, 2, 64, 64])\n",
      "torch.Size([16, 1, 2, 64, 64])\n",
      "torch.Size([16, 1, 2, 64, 64])\n",
      "torch.Size([16, 1, 2, 64, 64])\n",
      "torch.Size([16, 1, 2, 64, 64])\n",
      "torch.Size([16, 1, 2, 64, 64])\n",
      "torch.Size([16, 1, 2, 64, 64])\n",
      "torch.Size([16, 1, 2, 64, 64])\n",
      "torch.Size([16, 1, 2, 64, 64])\n",
      "torch.Size([16, 1, 2, 64, 64])\n",
      "torch.Size([16, 1, 2, 64, 64])\n",
      "torch.Size([16, 1, 2, 64, 64])\n",
      "torch.Size([16, 1, 2, 64, 64])\n",
      "torch.Size([16, 1, 2, 64, 64])\n",
      "torch.Size([16, 1, 2, 64, 64])\n",
      "torch.Size([16, 1, 2, 64, 64])\n",
      "torch.Size([16, 1, 2, 64, 64])\n",
      "torch.Size([16, 1, 2, 64, 64])\n",
      "torch.Size([16, 1, 2, 64, 64])\n",
      "torch.Size([16, 1, 2, 64, 64])\n",
      "torch.Size([16, 1, 2, 64, 64])\n",
      "torch.Size([16, 1, 2, 64, 64])\n",
      "torch.Size([16, 1, 2, 64, 64])\n",
      "torch.Size([16, 1, 2, 64, 64])\n",
      "torch.Size([16, 1, 2, 64, 64])\n",
      "torch.Size([16, 1, 2, 64, 64])\n",
      "torch.Size([16, 1, 2, 64, 64])\n",
      "torch.Size([16, 1, 2, 64, 64])\n",
      "torch.Size([16, 1, 2, 64, 64])\n",
      "torch.Size([16, 1, 2, 64, 64])\n",
      "torch.Size([16, 1, 2, 64, 64])\n",
      "torch.Size([16, 1, 2, 64, 64])\n",
      "torch.Size([16, 1, 2, 64, 64])\n",
      "torch.Size([16, 1, 2, 64, 64])\n",
      "torch.Size([16, 1, 2, 64, 64])\n",
      "torch.Size([16, 1, 2, 64, 64])\n",
      "torch.Size([16, 1, 2, 64, 64])\n",
      "torch.Size([16, 1, 2, 64, 64])\n",
      "torch.Size([16, 1, 2, 64, 64])\n",
      "torch.Size([16, 1, 2, 64, 64])\n",
      "torch.Size([16, 1, 2, 64, 64])\n",
      "torch.Size([16, 1, 2, 64, 64])\n",
      "torch.Size([16, 1, 2, 64, 64])\n",
      "torch.Size([16, 1, 2, 64, 64])\n",
      "torch.Size([16, 1, 2, 64, 64])\n",
      "torch.Size([16, 1, 2, 64, 64])\n",
      "torch.Size([16, 1, 2, 64, 64])\n",
      "torch.Size([16, 1, 2, 64, 64])\n",
      "torch.Size([16, 1, 2, 64, 64])\n",
      "torch.Size([16, 1, 2, 64, 64])\n",
      "torch.Size([16, 1, 2, 64, 64])\n",
      "torch.Size([16, 1, 2, 64, 64])\n",
      "torch.Size([16, 1, 2, 64, 64])\n",
      "torch.Size([16, 1, 2, 64, 64])\n",
      "torch.Size([16, 1, 2, 64, 64])\n",
      "torch.Size([16, 1, 2, 64, 64])\n",
      "torch.Size([16, 1, 2, 64, 64])\n",
      "torch.Size([16, 1, 2, 64, 64])\n",
      "torch.Size([16, 1, 2, 64, 64])\n",
      "torch.Size([16, 1, 2, 64, 64])\n",
      "torch.Size([16, 1, 2, 64, 64])\n",
      "torch.Size([16, 1, 2, 64, 64])\n",
      "torch.Size([16, 1, 2, 64, 64])\n",
      "torch.Size([16, 1, 2, 64, 64])\n",
      "torch.Size([16, 1, 2, 64, 64])\n",
      "torch.Size([16, 1, 2, 64, 64])\n",
      "torch.Size([16, 1, 2, 64, 64])\n",
      "torch.Size([16, 1, 2, 64, 64])\n",
      "torch.Size([16, 1, 2, 64, 64])\n",
      "torch.Size([16, 1, 2, 64, 64])\n",
      "torch.Size([16, 1, 2, 64, 64])\n",
      "torch.Size([16, 1, 2, 64, 64])\n",
      "torch.Size([16, 1, 2, 64, 64])\n",
      "torch.Size([16, 1, 2, 64, 64])\n",
      "torch.Size([16, 1, 2, 64, 64])\n",
      "torch.Size([16, 1, 2, 64, 64])\n",
      "torch.Size([16, 1, 2, 64, 64])\n",
      "torch.Size([16, 1, 2, 64, 64])\n",
      "torch.Size([16, 1, 2, 64, 64])\n",
      "torch.Size([16, 1, 2, 64, 64])\n",
      "torch.Size([16, 1, 2, 64, 64])\n",
      "torch.Size([16, 1, 2, 64, 64])\n",
      "torch.Size([16, 1, 2, 64, 64])\n",
      "torch.Size([16, 1, 2, 64, 64])\n",
      "torch.Size([16, 1, 2, 64, 64])\n",
      "torch.Size([16, 1, 2, 64, 64])\n",
      "torch.Size([16, 1, 2, 64, 64])\n",
      "torch.Size([16, 1, 2, 64, 64])\n",
      "torch.Size([16, 1, 2, 64, 64])\n",
      "torch.Size([16, 1, 2, 64, 64])\n",
      "torch.Size([16, 1, 2, 64, 64])\n",
      "torch.Size([16, 1, 2, 64, 64])\n",
      "torch.Size([16, 1, 2, 64, 64])\n",
      "torch.Size([16, 1, 2, 64, 64])\n",
      "torch.Size([16, 1, 2, 64, 64])\n",
      "torch.Size([16, 1, 2, 64, 64])\n",
      "torch.Size([16, 1, 2, 64, 64])\n",
      "torch.Size([16, 1, 2, 64, 64])\n",
      "torch.Size([16, 1, 2, 64, 64])\n",
      "torch.Size([16, 1, 2, 64, 64])\n",
      "torch.Size([16, 1, 2, 64, 64])\n",
      "torch.Size([16, 1, 2, 64, 64])\n",
      "torch.Size([16, 1, 2, 64, 64])\n",
      "torch.Size([16, 1, 2, 64, 64])\n",
      "torch.Size([16, 1, 2, 64, 64])\n",
      "torch.Size([16, 1, 2, 64, 64])\n",
      "torch.Size([16, 1, 2, 64, 64])\n",
      "torch.Size([16, 1, 2, 64, 64])\n",
      "torch.Size([16, 1, 2, 64, 64])\n",
      "torch.Size([16, 1, 2, 64, 64])\n",
      "torch.Size([16, 1, 2, 64, 64])\n",
      "torch.Size([16, 1, 2, 64, 64])\n",
      "torch.Size([16, 1, 2, 64, 64])\n",
      "torch.Size([16, 1, 2, 64, 64])\n",
      "torch.Size([16, 1, 2, 64, 64])\n",
      "torch.Size([16, 1, 2, 64, 64])\n",
      "torch.Size([16, 1, 2, 64, 64])\n",
      "torch.Size([16, 1, 2, 64, 64])\n",
      "torch.Size([16, 1, 2, 64, 64])\n",
      "torch.Size([16, 1, 2, 64, 64])\n",
      "torch.Size([16, 1, 2, 64, 64])\n",
      "torch.Size([16, 1, 2, 64, 64])\n",
      "torch.Size([16, 1, 2, 64, 64])\n",
      "torch.Size([16, 1, 2, 64, 64])\n",
      "torch.Size([16, 1, 2, 64, 64])\n",
      "torch.Size([16, 1, 2, 64, 64])\n",
      "torch.Size([16, 1, 2, 64, 64])\n",
      "torch.Size([16, 1, 2, 64, 64])\n",
      "torch.Size([16, 1, 2, 64, 64])\n",
      "torch.Size([16, 1, 2, 64, 64])\n",
      "torch.Size([16, 1, 2, 64, 64])\n",
      "torch.Size([16, 1, 2, 64, 64])\n",
      "torch.Size([16, 1, 2, 64, 64])\n",
      "torch.Size([16, 1, 2, 64, 64])\n",
      "torch.Size([16, 1, 2, 64, 64])\n",
      "torch.Size([16, 1, 2, 64, 64])\n",
      "torch.Size([16, 1, 2, 64, 64])\n",
      "torch.Size([16, 1, 2, 64, 64])\n",
      "torch.Size([16, 1, 2, 64, 64])\n",
      "torch.Size([16, 1, 2, 64, 64])\n",
      "torch.Size([16, 1, 2, 64, 64])\n",
      "torch.Size([16, 1, 2, 64, 64])\n",
      "torch.Size([16, 1, 2, 64, 64])\n",
      "torch.Size([16, 1, 2, 64, 64])\n",
      "torch.Size([16, 1, 2, 64, 64])\n",
      "torch.Size([16, 1, 2, 64, 64])\n",
      "torch.Size([16, 1, 2, 64, 64])\n",
      "torch.Size([16, 1, 2, 64, 64])\n",
      "torch.Size([16, 1, 2, 64, 64])\n",
      "torch.Size([16, 1, 2, 64, 64])\n",
      "torch.Size([16, 1, 2, 64, 64])\n",
      "torch.Size([16, 1, 2, 64, 64])\n",
      "torch.Size([16, 1, 2, 64, 64])\n",
      "torch.Size([16, 1, 2, 64, 64])\n",
      "torch.Size([16, 1, 2, 64, 64])\n",
      "torch.Size([16, 1, 2, 64, 64])\n",
      "torch.Size([16, 1, 2, 64, 64])\n",
      "torch.Size([16, 1, 2, 64, 64])\n",
      "torch.Size([16, 1, 2, 64, 64])\n",
      "torch.Size([16, 1, 2, 64, 64])\n",
      "torch.Size([16, 1, 2, 64, 64])\n",
      "torch.Size([16, 1, 2, 64, 64])\n",
      "torch.Size([16, 1, 2, 64, 64])\n",
      "torch.Size([16, 1, 2, 64, 64])\n",
      "torch.Size([16, 1, 2, 64, 64])\n",
      "torch.Size([16, 1, 2, 64, 64])\n",
      "torch.Size([16, 1, 2, 64, 64])\n",
      "torch.Size([16, 1, 2, 64, 64])\n",
      "torch.Size([16, 1, 2, 64, 64])\n",
      "torch.Size([16, 1, 2, 64, 64])\n",
      "torch.Size([16, 1, 2, 64, 64])\n",
      "torch.Size([16, 1, 2, 64, 64])\n",
      "torch.Size([16, 1, 2, 64, 64])\n",
      "torch.Size([16, 1, 2, 64, 64])\n",
      "torch.Size([16, 1, 2, 64, 64])\n",
      "torch.Size([16, 1, 2, 64, 64])\n",
      "torch.Size([16, 1, 2, 64, 64])\n",
      "torch.Size([16, 1, 2, 64, 64])\n",
      "torch.Size([16, 1, 2, 64, 64])\n",
      "torch.Size([16, 1, 2, 64, 64])\n",
      "torch.Size([16, 1, 2, 64, 64])\n",
      "torch.Size([16, 1, 2, 64, 64])\n",
      "torch.Size([16, 1, 2, 64, 64])\n",
      "torch.Size([16, 1, 2, 64, 64])\n",
      "torch.Size([16, 1, 2, 64, 64])\n",
      "torch.Size([16, 1, 2, 64, 64])\n",
      "torch.Size([16, 1, 2, 64, 64])\n",
      "torch.Size([16, 1, 2, 64, 64])\n",
      "torch.Size([16, 1, 2, 64, 64])\n",
      "torch.Size([16, 1, 2, 64, 64])\n",
      "torch.Size([16, 1, 2, 64, 64])\n",
      "torch.Size([16, 1, 2, 64, 64])\n",
      "torch.Size([16, 1, 2, 64, 64])\n",
      "torch.Size([16, 1, 2, 64, 64])\n",
      "torch.Size([16, 1, 2, 64, 64])\n",
      "torch.Size([16, 1, 2, 64, 64])\n",
      "torch.Size([16, 1, 2, 64, 64])\n",
      "torch.Size([16, 1, 2, 64, 64])\n",
      "torch.Size([16, 1, 2, 64, 64])\n",
      "torch.Size([16, 1, 2, 64, 64])\n",
      "torch.Size([16, 1, 2, 64, 64])\n",
      "torch.Size([16, 1, 2, 64, 64])\n",
      "torch.Size([16, 1, 2, 64, 64])\n",
      "torch.Size([16, 1, 2, 64, 64])\n",
      "torch.Size([16, 1, 2, 64, 64])\n",
      "torch.Size([16, 1, 2, 64, 64])\n",
      "torch.Size([16, 1, 2, 64, 64])\n",
      "torch.Size([16, 1, 2, 64, 64])\n",
      "torch.Size([12, 1, 2, 64, 64])\n",
      "torch.Size([12, 1, 2, 64, 64])\n",
      "torch.Size([12, 1, 2, 64, 64])\n"
     ]
    }
   ],
   "source": [
    "# get prediction values as binary\n",
    "y_true = []\n",
    "y_pred = []\n",
    "for inputs, labels in testloader:\n",
    "    y_hat = model(inputs.to(dev)).detach()\n",
    "    print(labels.shape)\n",
    "    # print(y_hat.shape)\n",
    "    y_hat = y_hat[:, 0].contiguous().unsqueeze(1) # 0 is needed to only get the first channel in temporal channel\n",
    "    print(y_hat.shape)\n",
    "    print(labels.shape)\n",
    "    y_true.append(labels[:, :, :, :, :].cpu())\n",
    "    y_pred.append(softmax_(y_hat)[:, :, :, :, :].cpu())"
   ]
  },
  {
   "cell_type": "code",
   "execution_count": 98,
   "metadata": {},
   "outputs": [
    {
     "name": "stdout",
     "output_type": "stream",
     "text": [
      "torch.Size([16, 1, 2, 64, 64])\n",
      "torch.Size([16, 1, 2, 64, 64])\n"
     ]
    }
   ],
   "source": [
    "print(y_pred[0].shape)\n",
    "print(y_true[0].shape)"
   ]
  },
  {
   "cell_type": "code",
   "execution_count": 99,
   "metadata": {},
   "outputs": [
    {
     "name": "stdout",
     "output_type": "stream",
     "text": [
      "(1724, 64, 64) (1724, 64, 64)\n"
     ]
    }
   ],
   "source": [
    "# flatten\n",
    "y_true = np.concatenate(y_true)[:, 0, 1] #.flatten() \n",
    "y_pred = np.concatenate(y_pred)[:, 0, 1] #.flatten()\n",
    "print(y_true.shape, y_pred.shape)\n",
    "y_true = y_true.flatten()\n",
    "y_pred = y_pred.flatten()"
   ]
  },
  {
   "cell_type": "code",
   "execution_count": 100,
   "metadata": {},
   "outputs": [
    {
     "name": "stdout",
     "output_type": "stream",
     "text": [
      "0.039348524\n"
     ]
    }
   ],
   "source": [
    "print(y_pred[54])"
   ]
  },
  {
   "cell_type": "code",
   "execution_count": 102,
   "metadata": {},
   "outputs": [
    {
     "data": {
      "image/png": "[encoded data removed]",
      "text/plain": [
       "<Figure size 1200x400 with 1 Axes>"
      ]
     },
     "metadata": {},
     "output_type": "display_data"
    }
   ],
   "source": [
    "# get predictions distribution\n",
    "fig, ax = plt.subplots(figsize=(12, 4))\n",
    "sns.histplot(100*y_pred, binwidth=1, ax=ax)\n",
    "ax.set_title(\"Predicted probabilities distribution\")\n",
    "ax.set_xlabel(\"%\")\n",
    "plt.show()"
   ]
  },
  {
   "cell_type": "code",
   "execution_count": 103,
   "metadata": {},
   "outputs": [
    {
     "data": {
      "image/png": "[encoded data removed]",
      "text/plain": [
       "<Figure size 1200x600 with 2 Axes>"
      ]
     },
     "metadata": {},
     "output_type": "display_data"
    }
   ],
   "source": [
    "fig, ax = plt.subplots(2, figsize=(12, 6), sharex=True, sharey=True)\n",
    "sns.histplot(100*y_pred[np.where(y_true==0)], binwidth=1, ax=ax[0], stat=\"probability\")\n",
    "sns.histplot(100*y_pred[np.where(y_true==1)], binwidth=1, ax=ax[1], stat=\"probability\")\n",
    "ax[0].set_title(\"Predicted probabilities distribution by true label\")\n",
    "ax[1].set_xlabel(\"%\")\n",
    "plt.show()"
   ]
  },
  {
   "cell_type": "code",
   "execution_count": 104,
   "metadata": {},
   "outputs": [
    {
     "name": "stderr",
     "output_type": "stream",
     "text": [
      "  0%|          | 0/20 [00:00<?, ?it/s]"
     ]
    },
    {
     "name": "stderr",
     "output_type": "stream",
     "text": [
      "100%|██████████| 20/20 [01:14<00:00,  3.70s/it]\n"
     ]
    }
   ],
   "source": [
    "# select probability treshold\n",
    "from sklearn.metrics import f1_score\n",
    "\n",
    "scores = []\n",
    "for p_treshold in tqdm(range(20, 40)):\n",
    "    scores.append(\n",
    "        f1_score(\n",
    "            y_true, \n",
    "            y_pred > p_treshold / 100\n",
    "        )\n",
    "    )"
   ]
  },
  {
   "cell_type": "code",
   "execution_count": 105,
   "metadata": {},
   "outputs": [
    {
     "data": {
      "image/png": "[encoded data removed]",
      "text/plain": [
       "<Figure size 640x480 with 1 Axes>"
      ]
     },
     "metadata": {},
     "output_type": "display_data"
    }
   ],
   "source": [
    "g = sns.lineplot(x=range(20, 40), y=scores)\n",
    "g.set_xlabel(\"%\")\n",
    "g.set_ylabel(\"F1-Score\")\n",
    "plt.show()"
   ]
  },
  {
   "cell_type": "code",
   "execution_count": 107,
   "metadata": {},
   "outputs": [
    {
     "data": {
      "text/plain": [
       "array([[0.95431184, 0.04568816],\n",
       "       [0.60438561, 0.39561439]])"
      ]
     },
     "execution_count": 107,
     "metadata": {},
     "output_type": "execute_result"
    }
   ],
   "source": [
    "# apply confusion matrix with probability treshold\n",
    "p_treshold = 0.2\n",
    "\n",
    "from sklearn.metrics import confusion_matrix\n",
    "confusion_matrix(\n",
    "    y_true, \n",
    "    y_pred > p_treshold,\n",
    "    normalize=\"true\"\n",
    ")"
   ]
  },
  {
   "cell_type": "markdown",
   "metadata": {},
   "source": [
    "## Old confusion matrix\n",
    "array([[0.97202235, 0.02797765],\n",
    "       [0.68919406, 0.31080594]])"
   ]
  },
  {
   "cell_type": "markdown",
   "metadata": {},
   "source": [
    "## Validation"
   ]
  },
  {
   "cell_type": "code",
   "execution_count": 120,
   "metadata": {},
   "outputs": [],
   "source": [
    "# get prediction values as binary\n",
    "y_true = []\n",
    "y_pred = []\n",
    "for inputs, labels in valloader:\n",
    "    y_hat = model(inputs).detach()\n",
    "    y_true.append(labels[:, 1, :, :].cpu())\n",
    "    y_pred.append(softmax_(y_hat)[:, 1, :, :].cpu())"
   ]
  },
  {
   "cell_type": "code",
   "execution_count": 121,
   "metadata": {},
   "outputs": [],
   "source": [
    "# flatten\n",
    "y_true = np.concatenate(y_true).flatten() \n",
    "y_pred = np.concatenate(y_pred).flatten()"
   ]
  },
  {
   "cell_type": "code",
   "execution_count": 122,
   "metadata": {},
   "outputs": [
    {
     "data": {
      "text/plain": [
       "0.16481881039356847"
      ]
     },
     "execution_count": 122,
     "metadata": {},
     "output_type": "execute_result"
    }
   ],
   "source": [
    "f1_score(\n",
    "    y_true, \n",
    "    y_pred > p_treshold\n",
    ")"
   ]
  },
  {
   "cell_type": "code",
   "execution_count": 123,
   "metadata": {},
   "outputs": [
    {
     "data": {
      "text/plain": [
       "array([[0.98545338, 0.01454662],\n",
       "       [0.85284226, 0.14715774]])"
      ]
     },
     "execution_count": 123,
     "metadata": {},
     "output_type": "execute_result"
    }
   ],
   "source": [
    "confusion_matrix(\n",
    "    y_true, \n",
    "    y_pred > p_treshold,\n",
    "    normalize=\"true\"\n",
    ")"
   ]
  },
  {
   "cell_type": "markdown",
   "metadata": {},
   "source": [
    "# Prediction example"
   ]
  },
  {
   "cell_type": "code",
   "execution_count": 116,
   "metadata": {},
   "outputs": [],
   "source": [
    "def get_sample(min_area=0.1, dataloader=testloader):\n",
    "    for input_, truth in dataloader:\n",
    "        print(truth.shape)\n",
    "        # print(input_.shape)\n",
    "        batches = list(range(truth.shape[0])) \n",
    "        shuffle(batches)\n",
    "        for idx_batch in batches:\n",
    "            if truth[idx_batch, 0, 1, :, :].mean() > min_area:\n",
    "                return input_, truth, idx_batch"
   ]
  },
  {
   "cell_type": "code",
   "execution_count": 117,
   "metadata": {},
   "outputs": [
    {
     "name": "stdout",
     "output_type": "stream",
     "text": [
      "torch.Size([16, 1, 2, 64, 64])\n"
     ]
    }
   ],
   "source": [
    "input_, truth, idx_batch = get_sample(0.01, testloader)\n",
    "\n",
    "pred = model(input_.to(dev))"
   ]
  },
  {
   "cell_type": "code",
   "execution_count": 119,
   "metadata": {},
   "outputs": [
    {
     "name": "stdout",
     "output_type": "stream",
     "text": [
      "torch.Size([16, 4, 12, 64, 64])\n"
     ]
    }
   ],
   "source": [
    "print(input_.shape)"
   ]
  },
  {
   "cell_type": "code",
   "execution_count": 120,
   "metadata": {},
   "outputs": [
    {
     "data": {
      "image/png": "[encoded data removed]",
      "text/plain": [
       "<Figure size 2400x800 with 4 Axes>"
      ]
     },
     "metadata": {},
     "output_type": "display_data"
    }
   ],
   "source": [
    "fig, ax = plt.subplots(1, 4, figsize=(24, 8))\n",
    "for i in range(4):\n",
    "    ax[i].matshow(input_[idx_batch, i, i, :, :].cpu(), cmap=\"gnuplot\", vmin=truth.min(), vmax=truth.max())\n",
    "plt.show()"
   ]
  },
  {
   "cell_type": "code",
   "execution_count": 133,
   "metadata": {},
   "outputs": [
    {
     "name": "stderr",
     "output_type": "stream",
     "text": [
      "C:\\Users\\giovanni\\AppData\\Local\\Temp\\ipykernel_6580\\3254665491.py:6: UserWarning: Matplotlib is currently using module://matplotlib_inline.backend_inline, which is a non-GUI backend, so cannot show the figure.\n",
      "  fig.show()\n"
     ]
    },
    {
     "data": {
      "image/png": "[encoded data removed]",
      "text/plain": [
       "<Figure size 800x600 with 4 Axes>"
      ]
     },
     "metadata": {},
     "output_type": "display_data"
    }
   ],
   "source": [
    "fig, ax = plt.subplots(1, 2, figsize=(8, 6))\n",
    "m1 = ax[1].matshow(truth[idx_batch, 1, :, :].cpu(), cmap=\"gnuplot\", vmin=truth.min(), vmax=truth.max())\n",
    "m2 = ax[0].matshow(softmax_(pred).detach().cpu().numpy()[idx_batch, 1, :, :], cmap=\"gnuplot\", vmin=truth.min(), vmax=1)\n",
    "fig.colorbar(m1)\n",
    "fig.colorbar(m2)\n",
    "fig.show()"
   ]
  },
  {
   "cell_type": "markdown",
   "metadata": {},
   "source": [
    "# Save model"
   ]
  },
  {
   "cell_type": "code",
   "execution_count": 113,
   "metadata": {},
   "outputs": [],
   "source": [
    "torch.save(model.state_dict(), r\"SimVP.pt\")"
   ]
  },
  {
   "cell_type": "code",
   "execution_count": null,
   "metadata": {},
   "outputs": [],
   "source": []
  }
 ],
 "metadata": {
  "kernelspec": {
   "display_name": "venv_dl2cv",
   "language": "python",
   "name": "python3"
  },
  "language_info": {
   "codemirror_mode": {
    "name": "ipython",
    "version": 3
   },
   "file_extension": ".py",
   "mimetype": "text/x-python",
   "name": "python",
   "nbconvert_exporter": "python",
   "pygments_lexer": "ipython3",
   "version": "3.10.12"
  },
  "orig_nbformat": 4
 },
 "nbformat": 4,
 "nbformat_minor": 2
}
